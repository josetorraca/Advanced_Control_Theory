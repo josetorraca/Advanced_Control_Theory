{
  "cells": [
    {
      "cell_type": "markdown",
      "metadata": {
        "id": "_8ok_RPoGGXH"
      },
      "source": [
        "# MHE\n",
        "\n"
      ]
    },
    {
      "cell_type": "code",
      "source": [
        "!pip install do-mpc"
      ],
      "metadata": {
        "colab": {
          "base_uri": "https://localhost:8080/"
        },
        "id": "w7lVgz6P_nGn",
        "outputId": "c0fc36b2-cfce-43ca-f55e-68fb0bd53c3f"
      },
      "execution_count": 1,
      "outputs": [
        {
          "output_type": "stream",
          "name": "stdout",
          "text": [
            "Looking in indexes: https://pypi.org/simple, https://us-python.pkg.dev/colab-wheels/public/simple/\n",
            "Requirement already satisfied: do-mpc in /usr/local/lib/python3.7/dist-packages (4.3.5)\n",
            "Requirement already satisfied: casadi in /usr/local/lib/python3.7/dist-packages (from do-mpc) (3.5.5)\n",
            "Requirement already satisfied: matplotlib in /usr/local/lib/python3.7/dist-packages (from do-mpc) (3.2.2)\n",
            "Requirement already satisfied: numpy in /usr/local/lib/python3.7/dist-packages (from do-mpc) (1.21.6)\n",
            "Requirement already satisfied: cycler>=0.10 in /usr/local/lib/python3.7/dist-packages (from matplotlib->do-mpc) (0.11.0)\n",
            "Requirement already satisfied: kiwisolver>=1.0.1 in /usr/local/lib/python3.7/dist-packages (from matplotlib->do-mpc) (1.4.3)\n",
            "Requirement already satisfied: pyparsing!=2.0.4,!=2.1.2,!=2.1.6,>=2.0.1 in /usr/local/lib/python3.7/dist-packages (from matplotlib->do-mpc) (3.0.9)\n",
            "Requirement already satisfied: python-dateutil>=2.1 in /usr/local/lib/python3.7/dist-packages (from matplotlib->do-mpc) (2.8.2)\n",
            "Requirement already satisfied: typing-extensions in /usr/local/lib/python3.7/dist-packages (from kiwisolver>=1.0.1->matplotlib->do-mpc) (4.1.1)\n",
            "Requirement already satisfied: six>=1.5 in /usr/local/lib/python3.7/dist-packages (from python-dateutil>=2.1->matplotlib->do-mpc) (1.15.0)\n"
          ]
        }
      ]
    },
    {
      "cell_type": "code",
      "source": [
        "!apt install imagemagick"
      ],
      "metadata": {
        "colab": {
          "base_uri": "https://localhost:8080/"
        },
        "id": "WOqq_uUcDL3X",
        "outputId": "c235193b-8d11-49f3-bc39-89622789bca0"
      },
      "execution_count": 2,
      "outputs": [
        {
          "output_type": "stream",
          "name": "stdout",
          "text": [
            "Reading package lists... Done\n",
            "Building dependency tree       \n",
            "Reading state information... Done\n",
            "imagemagick is already the newest version (8:6.9.7.4+dfsg-16ubuntu6.13).\n",
            "The following package was automatically installed and is no longer required:\n",
            "  libnvidia-common-460\n",
            "Use 'apt autoremove' to remove it.\n",
            "0 upgraded, 0 newly installed, 0 to remove and 49 not upgraded.\n"
          ]
        }
      ]
    },
    {
      "cell_type": "code",
      "execution_count": 3,
      "metadata": {
        "id": "Ua7rkJlnGGXR"
      },
      "outputs": [],
      "source": [
        "import numpy as np\n",
        "from casadi import *\n",
        "\n",
        "# Add do_mpc to path. This is not necessary if it was installed via pip.\n",
        "import sys\n",
        "sys.path.append('../../')\n",
        "\n",
        "# Import do_mpc package:\n",
        "import do_mpc"
      ]
    },
    {
      "cell_type": "markdown",
      "metadata": {
        "id": "lcY0AmTcGGXU"
      },
      "source": [
        "## Creating the model"
      ]
    },
    {
      "cell_type": "markdown",
      "metadata": {
        "id": "Ank3hgfi_P-A"
      },
      "source": [
        "In the following we will present the configuration, setup and connection between these blocks, starting with the `model`.\n",
        "The considered model of the CSTR is continuous and has 4 states and 2 control inputs.\n",
        "The model is initiated by:"
      ]
    },
    {
      "cell_type": "code",
      "execution_count": 4,
      "metadata": {
        "id": "VmglxVwcGGXW"
      },
      "outputs": [],
      "source": [
        "model_type = 'continuous' # either 'discrete' or 'continuous'\n",
        "model = do_mpc.model.Model(model_type)"
      ]
    },
    {
      "cell_type": "markdown",
      "metadata": {
        "id": "zt09vV-mGGXX"
      },
      "source": [
        "The model is based on the assumption that we have additive process and/or measurement noise:\n",
        "\n",
        "\\begin{align}\n",
        "\\dot{x}(t) &= f(x(t),u(t),z(t),p(t),p_{\\text{tv}}(t))+w(t), \\\\\n",
        "y(t) &= h(x(t),u(t),z(t),p(t),p_{\\text{tv}}(t))+v(t),\n",
        "\\end{align}\n",
        "\n",
        "we are free to chose, which states and which measurements experience additive noise."
      ]
    },
    {
      "cell_type": "markdown",
      "metadata": {
        "id": "HcyarBePGGXY"
      },
      "source": [
        "### Model variables\n",
        "\n",
        "The next step is to define the model variables. It is important to define the variable type, name and optionally shape (default is scalar variable). \n"
      ]
    },
    {
      "cell_type": "markdown",
      "metadata": {
        "id": "r3alf5KA_P-C"
      },
      "source": [
        "### States and control inputs\n",
        "\n",
        "The four states are concentration of reactant A ($C_{\\text{A}}$), the concentration of reactant B ($C_{\\text{B}}$), the temperature inside the reactor ($T_{\\text{R}}$) and the temperature of the cooling jacket ($T_{\\text{K}}$):"
      ]
    },
    {
      "cell_type": "code",
      "execution_count": 5,
      "metadata": {
        "id": "VAXOjOma_P-D"
      },
      "outputs": [],
      "source": [
        "# States struct (optimization variables):\n",
        "C_a = model.set_variable(var_type='_x', var_name='C_a', shape=(1,1))\n",
        "C_b = model.set_variable(var_type='_x', var_name='C_b', shape=(1,1))\n",
        "T_R = model.set_variable(var_type='_x', var_name='T_R', shape=(1,1))\n",
        "T_K = model.set_variable(var_type='_x', var_name='T_K', shape=(1,1))"
      ]
    },
    {
      "cell_type": "markdown",
      "metadata": {
        "id": "Mycss19u_P-F"
      },
      "source": [
        "The control inputs are the feed $F$ and the heat flow $\\dot{Q}$:"
      ]
    },
    {
      "cell_type": "code",
      "execution_count": 6,
      "metadata": {
        "id": "2NYuw7WW_P-G"
      },
      "outputs": [],
      "source": [
        "# Input struct (optimization variables):\n",
        "F = model.set_variable(var_type='_u', var_name='F')\n",
        "Q_dot = model.set_variable(var_type='_u', var_name='Q_dot')"
      ]
    },
    {
      "cell_type": "markdown",
      "metadata": {
        "id": "aaw7YU6YGGXc"
      },
      "source": [
        "### Model measurements\n",
        "\n",
        "This step is essential for the state estimation task: We must define a measurable output.\n",
        "Typically, this is a subset of states (or a transformation thereof) as well as the inputs.\n",
        "\n",
        "Note that some MHE implementations consider inputs separately.\n",
        "\n",
        "As mentionned above, we need to define for each measurement if additive noise is present.\n",
        "In our case we can assume noisy state measurements ($\\phi$) but perfect input measurements."
      ]
    },
    {
      "cell_type": "code",
      "execution_count": 7,
      "metadata": {
        "id": "ttJqWtZWGGXd"
      },
      "outputs": [],
      "source": [
        "# State measurements\n",
        "C_b_meas = model.set_meas('C_b_1_meas', C_b, meas_noise=True)\n",
        "T_R_meas = model.set_meas('T_R_1_meas', T_R, meas_noise=True)\n",
        "T_K_meas = model.set_meas('T_K_1_meas', T_K, meas_noise=True)\n",
        "\n",
        "# Input measurements\n",
        "F_meas = model.set_meas('F_meas', F, meas_noise=False)\n",
        "Q_dot_meas = model.set_meas('Q_dot', Q_dot, meas_noise=False)"
      ]
    },
    {
      "cell_type": "markdown",
      "metadata": {
        "id": "6o8u7s3wGGXe"
      },
      "source": [
        "### Model parameters\n",
        "\n",
        "Next we **define parameters**. The MHE allows to estimate parameters as well as states. Note that not all parameters must be estimated (as shown in the MHE setup below). We can also hardcode parameters.\n",
        "\n"
      ]
    },
    {
      "cell_type": "markdown",
      "metadata": {
        "id": "vtBMUk8R_P-H"
      },
      "source": [
        "### ODE and parameters\n",
        "\n",
        "The system model is described by the ordinary differential equation:\n",
        "\n",
        "\\begin{align}\n",
        "\\dot{C}_{\\text{A}} &= F \\cdot \\alpha \\cdot (C_{\\text{A},0} - C_{\\text{A}}) - k_1 \\cdot C_{\\text{A}} - k_3 \\cdot C_{\\text{A}}^2, \\\\\n",
        "\\dot{C}_{\\text{B}} &= F \\cdot C_{\\text{B}} + k_1 \\cdot C_{\\text{A}} - k_2 \\cdot C_{\\text{B}}, \\\\\n",
        "\\dot{T}_{\\text{R}} &= \\frac{k_1 \\cdot C_{\\text{A}} \\cdot H_{\\text{R},ab} + k_2 \\cdot C_{\\text{B}} \\cdot  H_{\\text{R},bc} + k_3 \\cdot C_{\\text{A}}^2 \\cdot H_{\\text{R},ad}} {-\\rho \\cdot \\beta \\cdot c_p}\\\\\n",
        "&+ F \\cdot (T_{\\text{in}} - T_{\\text{R}}) + \\frac{K_w \\cdot A_{\\text{R}} \\cdot(T_{\\text{K}}-T_{\\text{R}})}{\\rho \\cdot \\beta \\cdot c_p \\cdot V_{\\text{R}}}, \\\\\n",
        "\\dot{T}_{\\text{K}} &= \\frac{\\dot{Q} + k_w \\cdot A_{\\text{R}} \\cdot T_{\\text{dif}}}{m_k \\cdot C_{p,k}},\n",
        "\\end{align}\n",
        "\n",
        "where\n",
        "\n",
        "\\begin{align}\n",
        "k_1 &= \\gamma \\cdot k_{0,\\text{ab}} \\cdot \\exp\\left(\\frac{-E_{\\text{A},\\text{ab}}}{T_{\\text{R}}+273.15}\\right), \\\\\n",
        "k_1 &= k_{0,\\text{bc}} \\cdot \\exp \\left( \\frac{-E_{\\text{A},\\text{bc}}}{T_{\\text{R}}+273.15} \\right), \\\\\n",
        "k_3 &= k_{0,\\text{ad}} \\cdot \\exp \\left( \\frac{-E_{\\text{A},\\text{ad}}}{T_{\\text{R}}+273.15} \\right).\n",
        "\\end{align}\n",
        "\n",
        "The \n",
        "parameters $\\alpha$ and $\\beta$ and $\\gamma$ are uncertain while the rest of the parameters is considered certain:"
      ]
    },
    {
      "cell_type": "code",
      "execution_count": 8,
      "metadata": {
        "id": "tbPJ7RZOGGXf"
      },
      "outputs": [],
      "source": [
        "# Certain parameters\n",
        "K0_ab = 1.287e12 # K0 [h^-1]\n",
        "K0_bc = 1.287e12 # K0 [h^-1]\n",
        "K0_ad = 9.043e9 # K0 [l/mol.h]\n",
        "R_gas = 8.3144621e-3 # Universal gas constant\n",
        "E_A_ab = 9758.3*1.00 #* R_gas# [kj/mol]\n",
        "E_A_bc = 9758.3*1.00 #* R_gas# [kj/mol]\n",
        "E_A_ad = 8560.0*1.0 #* R_gas# [kj/mol]\n",
        "H_R_ab = 4.2 # [kj/mol A]\n",
        "H_R_bc = -11.0 # [kj/mol B] Exothermic\n",
        "H_R_ad = -41.85 # [kj/mol A] Exothermic\n",
        "Rou = 0.9342 # Density [kg/l]\n",
        "Cp = 3.01 # Specific Heat capacity [kj/Kg.K]\n",
        "Cp_k = 2.0 # Coolant heat capacity [kj/kg.k]\n",
        "A_R = 0.215 # Area of reactor wall [m^2]\n",
        "V_R = 10.01 #0.01 # Volume of reactor [l]\n",
        "m_k = 5.0 # Coolant mass[kg]\n",
        "T_in = 130.0 # Temp of inflow [Celsius]\n",
        "K_w = 4032.0 # [kj/h.m^2.K]\n",
        "C_A0 = (5.7+4.5)/2.0*1.0 # Concentration of A in input Upper bound 5.7 lower bound 4.5 [mol/l]\n",
        "\n",
        "# Uncertain parameters:\n",
        "alpha = model.set_variable(var_type='parameter', var_name='alpha')\n",
        "beta = model.set_variable(var_type='parameter', var_name='beta')\n",
        "gamma = model.set_variable(var_type='parameter', var_name='gamma')"
      ]
    },
    {
      "cell_type": "markdown",
      "metadata": {
        "id": "Y4lAb1Lu_P-K"
      },
      "source": [
        "In the next step, we formulate the $k_i$-s:"
      ]
    },
    {
      "cell_type": "code",
      "execution_count": 9,
      "metadata": {
        "id": "MzsXzl3w_P-L"
      },
      "outputs": [],
      "source": [
        "# Auxiliary terms\n",
        "K_1 = gamma * K0_ab * exp((-E_A_ab)/((T_R+273.15)))\n",
        "K_2 =  K0_bc * exp((-E_A_bc)/((T_R+273.15)))\n",
        "K_3 = K0_ad * exp((-E_A_ad)/((T_R+273.15)))"
      ]
    },
    {
      "cell_type": "markdown",
      "metadata": {
        "id": "AqXPDPJh_P-M"
      },
      "source": [
        "Additionally, we define an artificial variable of interest, that is not a state of the system, but will be later used for plotting:"
      ]
    },
    {
      "cell_type": "code",
      "execution_count": 10,
      "metadata": {
        "id": "FQdXRrkZ_P-M"
      },
      "outputs": [],
      "source": [
        "T_dif = model.set_expression(expr_name='T_dif', expr=T_R-T_K)"
      ]
    },
    {
      "cell_type": "markdown",
      "metadata": {
        "id": "QBCsvVl1GGXh"
      },
      "source": [
        "### Right-hand-side equation\n",
        "Finally, we set the right-hand-side of the model by calling `model.set_rhs(var_name, expr)` with the `var_name` from the state variables defined above.\n",
        "\n",
        "Note that we can decide whether the inidividual states experience process noise. \n",
        "In this example we choose that the system model is perfect.\n",
        "This is the default setting, so we don't need to pass this parameter explictly."
      ]
    },
    {
      "cell_type": "markdown",
      "metadata": {
        "id": "FGBCP5OJ_P-N"
      },
      "source": [
        "WIth the help ot the $k_i$-s and $T_{\\text{dif}}$ we can define the ODEs:"
      ]
    },
    {
      "cell_type": "code",
      "execution_count": 11,
      "metadata": {
        "id": "71sptd8q_P-O"
      },
      "outputs": [],
      "source": [
        "model.set_rhs('C_a', F*alpha*(C_A0 - C_a) -K_1*C_a - K_3*(C_a**2), process_noise = False)\n",
        "model.set_rhs('C_b', -F*C_b + K_1*C_a - K_2*C_b)\n",
        "model.set_rhs('T_R', ((K_1*C_a*H_R_ab + K_2*C_b*H_R_bc + K_3*(C_a**2)*H_R_ad)/(-Rou*beta*Cp)) + F*(T_in-T_R) +(((K_w*A_R)*(-T_dif))/(Rou*beta*Cp*V_R)))\n",
        "model.set_rhs('T_K', (Q_dot + K_w*A_R*(T_dif))/(m_k*Cp_k))"
      ]
    },
    {
      "cell_type": "markdown",
      "metadata": {
        "id": "5Jr30w2yGGXj"
      },
      "source": [
        "The model setup is completed by calling `model.setup()`:"
      ]
    },
    {
      "cell_type": "code",
      "execution_count": 12,
      "metadata": {
        "id": "Ty15BM25GGXk"
      },
      "outputs": [],
      "source": [
        "model.setup()"
      ]
    },
    {
      "cell_type": "markdown",
      "metadata": {
        "id": "a0Fn-ZspGGXk"
      },
      "source": [
        "After calling `model.setup()` we cannot define further variables etc."
      ]
    },
    {
      "cell_type": "markdown",
      "metadata": {
        "id": "nOfQMNUNGGXl"
      },
      "source": [
        "## Configuring the moving horizon estimator\n",
        "The first step of configuring the moving horizon estimator is to call the class with a list of all parameters to be estimated. An empty list (default value) means that no parameters are estimated.\n",
        "The list of estimated parameters must be a subset (or all) of the previously defined parameters.\n",
        "\n",
        "<div class=\"alert alert-info\">\n",
        "**Note** \n",
        "    \n",
        "WE CAN DEFINE MORE UNCERTAIN PARAMETERS (BEYOND $\\alpha , \\beta , \\gamma$) THAT WE DON'T ESTIMATE\n",
        "\n",
        "In many cases we will use the same model for (robust) control and MHE estimation. In that case it is possible to have some external parameters (e.g. weather prediction) that are uncertain but cannot be estimated. \n",
        "</div>"
      ]
    },
    {
      "cell_type": "code",
      "execution_count": 13,
      "metadata": {
        "id": "ZFsO5YnxGGXl"
      },
      "outputs": [],
      "source": [
        "mhe = do_mpc.estimator.MHE(model, ['alpha', 'beta', 'gamma'])"
      ]
    },
    {
      "cell_type": "markdown",
      "metadata": {
        "id": "8nb3LQafGGXm"
      },
      "source": [
        "### MHE parameters:\n",
        "Next, we pass MHE parameters. Most importantly, we need to set the time step and the horizon.\n",
        "We also choose to obtain the measurement from the MHE data object. \n",
        "Alternatively, we are able to set a user defined measurement function that is called at each timestep and returns the `N` previous measurements for the estimation step."
      ]
    },
    {
      "cell_type": "code",
      "execution_count": 14,
      "metadata": {
        "id": "S5rW6JqlGGXn"
      },
      "outputs": [],
      "source": [
        "setup_mhe = {\n",
        "    't_step': 0.1,\n",
        "    'n_horizon': 10,\n",
        "    'store_full_solution': True,\n",
        "    'meas_from_data': True\n",
        "}\n",
        "mhe.set_param(**setup_mhe)"
      ]
    },
    {
      "cell_type": "markdown",
      "metadata": {
        "id": "n1EK7ZAUGGXo"
      },
      "source": [
        "### Objective function\n",
        "The most important step of the configuration is to define the objective function for the MHE problem:\n",
        "\n",
        "\\begin{align}\n",
        "\\underset{\n",
        "    \\begin{array}{c}\n",
        "    \\mathbf{x}_{0:N+1}, \\mathbf{u}_{0:N}, p,\\\\\n",
        "    \\mathbf{w}_{0:N}, \\mathbf{v}_{0:N}\n",
        "    \\end{array}\n",
        "    }{\\mathrm{min}}\n",
        "    &\\frac{1}{2}\\|x_0-\\tilde{x}_0\\|_{P_x}^2+\\frac{1}{2}\\|p-\\tilde{p}\\|_{P_p}^2\n",
        "    +\\sum_{k=0}^{N-1} \\left(\\frac{1}{2}\\|v_k\\|_{P_{v,k}}^2\n",
        "    + \\frac{1}{2}\\|w_k\\|_{P_{w,k}}^2\\right),\\\\\n",
        "    &\\left.\\begin{aligned}\n",
        "    \\mathrm{s.t.}\\quad\n",
        "    x_{k+1} &= f(x_k,u_k,z_k,p,p_{\\text{tv},k})+ w_k,\\\\\n",
        "    y_k &= h(x_k,u_k,z_k,p,p_{\\text{tv},k}) + v_k, \\\\\n",
        "    &g(x_k,u_k,z_k,p_k,p_{\\text{tv},k}) \\leq 0\n",
        "    \\end{aligned}\\right\\} k=0,\\dots, N\n",
        "\\end{align}\n",
        "\n",
        "We typically consider the formulation shown above, where the user has to pass the weighting matrices ``P_x``, ``P_v``, ``P_p`` and ``P_w``.\n",
        "In our concrete example, we assume a perfect model without process noise and thus ``P_w`` is not required. \n",
        "\n",
        "We set the objective function with the weighting matrices shown below:"
      ]
    },
    {
      "cell_type": "code",
      "source": [
        "np.diag(np.array([ ]))"
      ],
      "metadata": {
        "colab": {
          "base_uri": "https://localhost:8080/"
        },
        "id": "fgwLXR1s126L",
        "outputId": "3ed2e56a-925a-4a44-e80f-d32480ff8588"
      },
      "execution_count": 15,
      "outputs": [
        {
          "output_type": "execute_result",
          "data": {
            "text/plain": [
              "array([], shape=(0, 0), dtype=float64)"
            ]
          },
          "metadata": {},
          "execution_count": 15
        }
      ]
    },
    {
      "cell_type": "code",
      "source": [
        "np.eye(3)"
      ],
      "metadata": {
        "colab": {
          "base_uri": "https://localhost:8080/"
        },
        "id": "lRiX9UKw33ko",
        "outputId": "248685ad-ef3b-4763-dab1-374d1f6bdad8"
      },
      "execution_count": 61,
      "outputs": [
        {
          "output_type": "execute_result",
          "data": {
            "text/plain": [
              "array([[1., 0., 0.],\n",
              "       [0., 1., 0.],\n",
              "       [0., 0., 1.]])"
            ]
          },
          "metadata": {},
          "execution_count": 61
        }
      ]
    },
    {
      "cell_type": "code",
      "execution_count": 17,
      "metadata": {
        "id": "pQ-yhy5oGGXp"
      },
      "outputs": [],
      "source": [
        "# P_v = np.diag(np.array([ ])) \n",
        "# #In the case that the do_mpc.model.Model is configured without measurement-noise \n",
        "# #(see do_mpc.model.Model.set_meas()) the parameter P_v is not required.\n",
        "# P_x = np.eye(4) # 4 states\n",
        "# P_p = 6*np.eye(3) #6 inputs: 4 states + 2 control\n",
        "\n",
        "# mhe.set_default_objective(P_x, P_v, P_p)"
      ]
    },
    {
      "cell_type": "code",
      "source": [
        "P_v = np.diag(np.array([1, 1, 1])) #3 states measured with (meas_noise=True)\n",
        "P_x = np.eye(4) # 4 states\n",
        "P_p = 6*np.eye(3) #6 inputs: 4 states + 2 control\n",
        "\n",
        "mhe.set_default_objective(P_x, P_v, P_p)"
      ],
      "metadata": {
        "id": "qteMofUx_dBb"
      },
      "execution_count": 16,
      "outputs": []
    },
    {
      "cell_type": "markdown",
      "metadata": {
        "id": "R9oXqWl9GGXq"
      },
      "source": [
        "### Fixed parameters\n",
        "If the model contains parameters and if we estimate only a subset of these parameters, it is required to pass a function that returns the value of the remaining parameters at each time step. \n",
        "\n",
        "Furthermore, this function must return a specific structure, which is first obtained by calling:"
      ]
    },
    {
      "cell_type": "code",
      "execution_count": 78,
      "metadata": {
        "id": "YfYC5BP0GGXq"
      },
      "outputs": [],
      "source": [
        "# p_template_mhe = mhe.get_p_template()"
      ]
    },
    {
      "cell_type": "markdown",
      "metadata": {
        "id": "PBpGAyqJGGXr"
      },
      "source": [
        "Using this structure, we then formulate the following function for the remaining (not estimated) parameters:"
      ]
    },
    {
      "cell_type": "code",
      "execution_count": 19,
      "metadata": {
        "id": "4oNanaAiGGXr"
      },
      "outputs": [],
      "source": [
        "# def p_fun_mhe(t_now):\n",
        "#     p_template_mhe['Theta_2'] = 2.25e-4\n",
        "#     p_template_mhe['Theta_3'] = 2.25e-4\n",
        "#     return p_template_mhe"
      ]
    },
    {
      "cell_type": "markdown",
      "metadata": {
        "id": "_occT-L5GGXs"
      },
      "source": [
        "This function is finally passed to the ``mhe`` instance:"
      ]
    },
    {
      "cell_type": "code",
      "execution_count": 20,
      "metadata": {
        "id": "iAG1qjeuGGXs"
      },
      "outputs": [],
      "source": [
        "# mhe.set_p_fun(p_fun_mhe)"
      ]
    },
    {
      "cell_type": "markdown",
      "metadata": {
        "id": "8PQvSyudGGXt"
      },
      "source": [
        "### Bounds\n",
        "The MHE implementation also supports bounds for states, inputs, parameters which can be set as shown below.\n",
        "For the given example, it is especially important to set realistic bounds on the estimated parameter. Otherwise the MHE solution is a poor fit."
      ]
    },
    {
      "cell_type": "code",
      "execution_count": 17,
      "metadata": {
        "id": "XnEz7LDBGGXt"
      },
      "outputs": [],
      "source": [
        "# lower bounds of the states\n",
        "mhe.bounds['lower', '_x', 'C_a'] = 0.1\n",
        "mhe.bounds['lower', '_x', 'C_b'] = 0.1\n",
        "mhe.bounds['lower', '_x', 'T_R'] = 50\n",
        "mhe.bounds['lower', '_x', 'T_K'] = 50\n",
        "\n",
        "# upper bounds of the states\n",
        "mhe.bounds['upper', '_x', 'C_a'] = 2\n",
        "mhe.bounds['upper', '_x', 'C_b'] = 2\n",
        "mhe.bounds['upper', '_x', 'T_K'] = 140\n",
        "\n",
        "# lower bounds of the inputs\n",
        "mhe.bounds['lower', '_u', 'F'] = 5\n",
        "mhe.bounds['lower', '_u', 'Q_dot'] = -8500\n",
        "\n",
        "# upper bounds of the inputs\n",
        "mhe.bounds['upper', '_u', 'F'] = 100\n",
        "mhe.bounds['upper', '_u', 'Q_dot'] = 0.0"
      ]
    },
    {
      "cell_type": "markdown",
      "metadata": {
        "id": "EODLsPF0GGXt"
      },
      "source": [
        "### Setup\n",
        "Similar to the controller, simulator and model, we finalize the MHE configuration by calling:"
      ]
    },
    {
      "cell_type": "code",
      "execution_count": 18,
      "metadata": {
        "id": "u_7eLk04GGXu"
      },
      "outputs": [],
      "source": [
        "mhe.setup()"
      ]
    },
    {
      "cell_type": "markdown",
      "metadata": {
        "id": "z12iIan2GGXu"
      },
      "source": [
        "## Configuring the Simulator\n",
        "In many cases, a developed control approach is first tested on a simulated system. **do-mpc** responds to this need with the `do_mpc.simulator` class. The `simulator` uses state-of-the-art DAE solvers, e.g. Sundials [CVODE](https://computing.llnl.gov/projects/sundials/cvode) to solve the DAE equations defined in the supplied `do_mpc.model`. This will often be the same model as defined for the `optimizer` but it is also possible to use a more complex model of the same system.\n",
        "\n",
        "In this section we demonstrate how to setup the `simulator` class for the given example. We initialize the class with the previously defined `model`:"
      ]
    },
    {
      "cell_type": "code",
      "execution_count": 19,
      "metadata": {
        "id": "427dxGMqGGXv"
      },
      "outputs": [],
      "source": [
        "simulator = do_mpc.simulator.Simulator(model)"
      ]
    },
    {
      "cell_type": "markdown",
      "metadata": {
        "id": "WfK6eck5GGXv"
      },
      "source": [
        "### Simulator parameters\n",
        "\n",
        "Next, we need to parametrize the `simulator`. Please see the API documentation for `simulator.set_param()` for a full description of available parameters and their meaning. Many parameters already have suggested default values. Most importantly, we need to set `t_step`. We choose the same value as for the `optimizer`."
      ]
    },
    {
      "cell_type": "code",
      "execution_count": 20,
      "metadata": {
        "id": "5aWfQbjAGGXw"
      },
      "outputs": [],
      "source": [
        "# Instead of supplying a dict with the splat operator (**), as with the optimizer.set_param(),\n",
        "# we can also use keywords (and call the method multiple times, if necessary):\n",
        "simulator.set_param(t_step = 0.1)"
      ]
    },
    {
      "cell_type": "markdown",
      "metadata": {
        "id": "Bbo7OARVGGXw"
      },
      "source": [
        "### Parameters\n",
        "In the `model` we have defined the inertia of the masses as parameters. The `simulator` is now parametrized to simulate using the \"true\" values at each timestep. In the most general case, these values can change, which is why we need to supply a function that can be evaluted at each time to obtain the current values. \n",
        "**do-mpc** requires this function to have a specific return structure which we obtain first by calling:"
      ]
    },
    {
      "cell_type": "code",
      "execution_count": 21,
      "metadata": {
        "id": "ZsSjZwwUGGXx"
      },
      "outputs": [],
      "source": [
        "p_template_sim = simulator.get_p_template()"
      ]
    },
    {
      "cell_type": "markdown",
      "metadata": {
        "id": "T4rvgu8iGGXx"
      },
      "source": [
        "We need to define a function which returns this structure with the desired numerical values. For our simple case:"
      ]
    },
    {
      "cell_type": "code",
      "execution_count": 22,
      "metadata": {
        "id": "zqvsRkhyGGXx"
      },
      "outputs": [],
      "source": [
        "def p_fun_sim(t_now):\n",
        "    p_template_sim['alpha'] = 1\n",
        "    p_template_sim['beta'] = 1\n",
        "    p_template_sim['gamma'] = 1\n",
        "    return p_template_sim"
      ]
    },
    {
      "cell_type": "markdown",
      "metadata": {
        "id": "_RGHAqcDGGXy"
      },
      "source": [
        "This function is now supplied to the `simulator` in the following way:"
      ]
    },
    {
      "cell_type": "code",
      "execution_count": 23,
      "metadata": {
        "id": "NlfB0mHsGGXy"
      },
      "outputs": [],
      "source": [
        "simulator.set_p_fun(p_fun_sim)"
      ]
    },
    {
      "cell_type": "markdown",
      "metadata": {
        "id": "XL1Lj646GGXy"
      },
      "source": [
        "### Setup\n",
        "Finally, we call:"
      ]
    },
    {
      "cell_type": "code",
      "execution_count": 24,
      "metadata": {
        "id": "pgGVzUeJGGXz"
      },
      "outputs": [],
      "source": [
        "simulator.setup()"
      ]
    },
    {
      "cell_type": "markdown",
      "metadata": {
        "id": "hh9kyJNHGGXz"
      },
      "source": [
        "## Creating the loop\n",
        "While the full loop should also include a controller, we are currently only interested in showcasing the estimator. We therefore estimate the states for an arbitrary initial condition and some random control inputs (shown below)."
      ]
    },
    {
      "cell_type": "code",
      "execution_count": 25,
      "metadata": {
        "id": "6Xj72Q-kGGX0"
      },
      "outputs": [],
      "source": [
        "x0 = np.pi*np.array([1.0, 0.1, 35, 30]).reshape(-1,1)"
      ]
    },
    {
      "cell_type": "markdown",
      "metadata": {
        "id": "PcwPOGpqGGX0"
      },
      "source": [
        "To make things more interesting we pass the estimator a perturbed initial state:"
      ]
    },
    {
      "cell_type": "code",
      "execution_count": 26,
      "metadata": {
        "id": "g5SWa3qVGGX0"
      },
      "outputs": [],
      "source": [
        "x0_mhe = x0*(1+0.5*np.random.randn(4,1))"
      ]
    },
    {
      "cell_type": "markdown",
      "metadata": {
        "id": "aGPB6rBiGGX1"
      },
      "source": [
        "and use the ``x0`` property of the simulator and estimator to set the initial state:"
      ]
    },
    {
      "cell_type": "code",
      "execution_count": 27,
      "metadata": {
        "id": "RQzLbMHPGGX1"
      },
      "outputs": [],
      "source": [
        "simulator.x0 = x0\n",
        "mhe.x0_mhe = x0_mhe\n",
        "mhe.p_est0['alpha'] = 5e-1\n",
        "mhe.p_est0['beta'] = 5e-1\n",
        "mhe.p_est0['gamma'] = 5e-1\n",
        "\n",
        "# p_est0\n",
        "# Class attribute.\n",
        "\n",
        "# MHE.p_est0\n",
        "# Initial value of estimated parameters and current iterate. \n",
        "# This is the numerical structure holding the information about the current estimated parameters in the class. \n",
        "# The property can be indexed according to the model definition."
      ]
    },
    {
      "cell_type": "markdown",
      "metadata": {
        "id": "Aha9Krb-GGX1"
      },
      "source": [
        "It is also adviced to create an initial guess for the MHE optimization problem. The simplest way is to base that guess on the initial state, which is done automatically when calling:"
      ]
    },
    {
      "cell_type": "code",
      "execution_count": 28,
      "metadata": {
        "id": "qv-conhtGGX2"
      },
      "outputs": [],
      "source": [
        "mhe.set_initial_guess()"
      ]
    },
    {
      "cell_type": "markdown",
      "metadata": {
        "id": "FzEgi4MrGGX3"
      },
      "source": [
        "### Setting up the Graphic\n",
        "We are again using the **do-mpc** `graphics` module. This versatile tool allows us to conveniently configure a user-defined plot based on Matplotlib and visualize the results stored in the `mhe.data`, `simulator.data` objects. \n",
        "\n",
        "We start by importing matplotlib:"
      ]
    },
    {
      "cell_type": "code",
      "execution_count": 29,
      "metadata": {
        "id": "XxMLFH58GGX3"
      },
      "outputs": [],
      "source": [
        "import matplotlib.pyplot as plt\n",
        "import matplotlib as mpl\n",
        "# Customizing Matplotlib:\n",
        "mpl.rcParams['font.size'] = 18\n",
        "mpl.rcParams['lines.linewidth'] = 3\n",
        "mpl.rcParams['axes.grid'] = True"
      ]
    },
    {
      "cell_type": "markdown",
      "metadata": {
        "id": "zz6vzK-pGGX4"
      },
      "source": [
        "And initializing the `graphics module` with the data object of interest. \n",
        "In this particular example, we want to visualize both the `mpc.data` as well as the `simulator.data`."
      ]
    },
    {
      "cell_type": "code",
      "execution_count": 30,
      "metadata": {
        "id": "7VRAOIS1GGX4"
      },
      "outputs": [],
      "source": [
        "mhe_graphics = do_mpc.graphics.Graphics(mhe.data)\n",
        "sim_graphics = do_mpc.graphics.Graphics(simulator.data)"
      ]
    },
    {
      "cell_type": "markdown",
      "metadata": {
        "id": "FD7rngdZGGX5"
      },
      "source": [
        "Next, we create a `figure` and obtain its `axis` object. Matplotlib offers multiple alternative ways to obtain an `axis` object, e.g. [subplots](https://matplotlib.org/3.1.1/api/_as_gen/matplotlib.pyplot.subplots.html), [subplot2grid](https://matplotlib.org/3.1.1/api/_as_gen/matplotlib.pyplot.subplot2grid.html), or simply [gca](https://matplotlib.org/3.1.1/api/_as_gen/matplotlib.pyplot.gca.html). We use `subplots`:"
      ]
    },
    {
      "cell_type": "code",
      "execution_count": 31,
      "metadata": {
        "id": "UTT6o23gGGX5"
      },
      "outputs": [],
      "source": [
        "%%capture \n",
        "# We just want to create the plot and not show it right now. This \"inline magic\" suppresses the output.\n",
        "fig, ax = plt.subplots(5, sharex=True, figsize=(16,12))\n",
        "fig.align_ylabels()\n",
        "\n",
        "# We create another figure to plot the parameters:\n",
        "fig_p, ax_p = plt.subplots(1, figsize=(16,4))"
      ]
    },
    {
      "cell_type": "markdown",
      "metadata": {
        "id": "-GfIYDt8GGX6"
      },
      "source": [
        "Most important API element for setting up the `graphics` module is `graphics.add_line`, which mimics the API of `model.add_variable`, except that we also need to pass an `axis`. \n",
        "\n",
        "We want to show both the simulator and MHE results on the same axis, which is why we configure both of them identically:"
      ]
    },
    {
      "cell_type": "code",
      "execution_count": 32,
      "metadata": {
        "scrolled": true,
        "id": "BxUQmOSPGGX6"
      },
      "outputs": [],
      "source": [
        "%%capture\n",
        "for g in [sim_graphics, mhe_graphics]:\n",
        "    # Plot the concentrations (Ca, Cb) on the first axis:\n",
        "    g.add_line(var_type='_x', var_name='C_a', axis=ax[0])\n",
        "    g.add_line(var_type='_x', var_name='C_b', axis=ax[0])\n",
        "    ax[0].set_prop_cycle(None)\n",
        "\n",
        "    # Plot the temperatures (T_R, T_K) on the second axis:    \n",
        "    g.add_line(var_type='_x', var_name='T_R', axis=ax[1])\n",
        "    g.add_line(var_type='_x', var_name='T_K', axis=ax[1])\n",
        "    ax[1].set_prop_cycle(None)\n",
        "\n",
        "    # Plot the T_dif on the third axis:\n",
        "    g.add_line(var_type='_aux', var_name='T_dif', axis=ax[2])\n",
        "    ax[2].set_prop_cycle(None)\n",
        "\n",
        "    # Plot the Q_dot on the third axis:\n",
        "    g.add_line(var_type='_u', var_name='Q_dot', axis=ax[3])\n",
        "    ax[3].set_prop_cycle(None)  \n",
        "\n",
        "    # Plot the F on the third axis:\n",
        "    g.add_line(var_type='_u', var_name='F', axis=ax[4])\n",
        "    ax[4].set_prop_cycle(None)      \n",
        "    \n",
        "    g.add_line(var_type='_p', var_name='alpha', axis=ax_p)\n",
        "    g.add_line(var_type='_p', var_name='beta', axis=ax_p)\n",
        "    g.add_line(var_type='_p', var_name='gamma', axis=ax_p)\n",
        "\n",
        "ax[0].set_ylabel('C [mol/l]')\n",
        "ax[1].set_ylabel('T [K]')\n",
        "ax[2].set_ylabel('$\\Delta$ T [K]')\n",
        "ax[3].set_ylabel('Q [kW]')\n",
        "ax[4].set_ylabel('Flow [L/h]')\n",
        "ax[4].set_xlabel('time [h]')"
      ]
    },
    {
      "cell_type": "markdown",
      "metadata": {
        "id": "I-kObUlZGGX7"
      },
      "source": [
        "Before we show any results we configure we further configure the graphic, by changing the appearance of the simulated lines. We can obtain line objects from any graphics instance with the ``result_lines`` property:"
      ]
    },
    {
      "cell_type": "code",
      "execution_count": 33,
      "metadata": {
        "id": "L6VozTOPGGX7",
        "colab": {
          "base_uri": "https://localhost:8080/"
        },
        "outputId": "580c44c4-0e15-4a35-98d8-9ed6186706b6"
      },
      "outputs": [
        {
          "output_type": "execute_result",
          "data": {
            "text/plain": [
              "<do_mpc.tools.structure.Structure at 0x7f19963c4bd0>"
            ]
          },
          "metadata": {},
          "execution_count": 33
        }
      ],
      "source": [
        "sim_graphics.result_lines"
      ]
    },
    {
      "cell_type": "markdown",
      "metadata": {
        "id": "ARXcQgXSGGX9"
      },
      "source": [
        "We obtain a structure that can be queried conveniently as follows: "
      ]
    },
    {
      "cell_type": "code",
      "execution_count": 34,
      "metadata": {
        "id": "123wNz_jGGX9",
        "colab": {
          "base_uri": "https://localhost:8080/"
        },
        "outputId": "cb0a9feb-350a-4b0a-f3e4-40b3cacf9661"
      },
      "outputs": [
        {
          "output_type": "execute_result",
          "data": {
            "text/plain": [
              "[<matplotlib.lines.Line2D at 0x7f1994d020d0>]"
            ]
          },
          "metadata": {},
          "execution_count": 34
        }
      ],
      "source": [
        "# First element for state Cb:\n",
        "sim_graphics.result_lines['_x', 'C_b', 0]"
      ]
    },
    {
      "cell_type": "markdown",
      "metadata": {
        "id": "X0lEPJd_GGX-"
      },
      "source": [
        "In this particular case we want to change all ``result_lines`` with:"
      ]
    },
    {
      "cell_type": "code",
      "execution_count": 35,
      "metadata": {
        "id": "-HgqnieHGGX-"
      },
      "outputs": [],
      "source": [
        "for line_i in sim_graphics.result_lines.full:\n",
        "    line_i.set_alpha(0.4)\n",
        "    line_i.set_linewidth(6)"
      ]
    },
    {
      "cell_type": "markdown",
      "metadata": {
        "id": "MJmKRAdIGGX_"
      },
      "source": [
        "We furthermore use this property to create a legend:"
      ]
    },
    {
      "cell_type": "code",
      "execution_count": 36,
      "metadata": {
        "id": "ma6A3twpGGX_",
        "colab": {
          "base_uri": "https://localhost:8080/"
        },
        "outputId": "d1167399-4224-40c1-b55a-fc1d90ea8991"
      },
      "outputs": [
        {
          "output_type": "execute_result",
          "data": {
            "text/plain": [
              "<matplotlib.legend.Legend at 0x7f19963b7250>"
            ]
          },
          "metadata": {},
          "execution_count": 36
        }
      ],
      "source": [
        "ax[0].legend(sim_graphics.result_lines['_x', 'C_b'], '123', title='Sim.', loc='center right')\n",
        "ax[1].legend(mhe_graphics.result_lines['_x', 'C_b'], '123', title='MHE', loc='center right')"
      ]
    },
    {
      "cell_type": "markdown",
      "metadata": {
        "id": "HHK6Ypf8GGYA"
      },
      "source": [
        "and another legend for the parameter plot:"
      ]
    },
    {
      "cell_type": "code",
      "execution_count": 37,
      "metadata": {
        "id": "-uaP7-wyGGYA",
        "colab": {
          "base_uri": "https://localhost:8080/"
        },
        "outputId": "863f9088-4293-47fd-8d97-c0cd1e61a2fb"
      },
      "outputs": [
        {
          "output_type": "execute_result",
          "data": {
            "text/plain": [
              "<matplotlib.legend.Legend at 0x7f1994ce2110>"
            ]
          },
          "metadata": {},
          "execution_count": 37
        }
      ],
      "source": [
        "ax_p.legend(sim_graphics.result_lines['_p', 'alpha', 'beta', 'gamma']+mhe_graphics.result_lines['_p', 'alpha', 'beta', 'gamma'], ['True','Estim.'])"
      ]
    },
    {
      "cell_type": "markdown",
      "metadata": {
        "id": "KtTra81mGGYB"
      },
      "source": [
        "### Running the loop\n",
        "We investigate the closed-loop MHE performance by alternating a simulation step (`y0=simulator.make_step(u0)`) and an estimation step (`x0=mhe.make_step(y0)`). Since we are lacking the controller which would close the loop (`u0=mpc.make_step(x0)`), we define a random control input function:"
      ]
    },
    {
      "cell_type": "code",
      "execution_count": 38,
      "metadata": {
        "id": "3JJxpBT_GGYB"
      },
      "outputs": [],
      "source": [
        "def random_u(u0):\n",
        "    # Hold the current value with 80% chance or switch to new random value.\n",
        "    u_next = (0.5-np.random.rand(2,1))*np.pi # New candidate value.\n",
        "    switch = np.random.rand() >= 0.8 # switching? 0 or 1.\n",
        "    u0 = (1-switch)*u0 + switch*u_next # Old or new value.\n",
        "    return u0"
      ]
    },
    {
      "cell_type": "markdown",
      "metadata": {
        "id": "nGmy_oLVGGYC"
      },
      "source": [
        "The function holds the current input value with 80% chance or switches to a new random input value.\n",
        "\n",
        "We can now run the loop. At each iteration, **we perturb our measurements**,\n",
        "for a more realistic scenario.\n",
        "This can be done by calling the simulator with a value for the measurement noise, which we defined in the model above."
      ]
    },
    {
      "cell_type": "code",
      "source": [
        "u0 = np.zeros((2,1))"
      ],
      "metadata": {
        "id": "scUpQPkM6o9_"
      },
      "execution_count": 39,
      "outputs": []
    },
    {
      "cell_type": "code",
      "source": [
        "u0"
      ],
      "metadata": {
        "colab": {
          "base_uri": "https://localhost:8080/"
        },
        "id": "x1VD86Qo6w_L",
        "outputId": "3eb26495-2046-48f2-cddb-89df3771c846"
      },
      "execution_count": 40,
      "outputs": [
        {
          "output_type": "execute_result",
          "data": {
            "text/plain": [
              "array([[0.],\n",
              "       [0.]])"
            ]
          },
          "metadata": {},
          "execution_count": 40
        }
      ]
    },
    {
      "cell_type": "code",
      "source": [
        "np.random.seed(999) #make it repeatable\n",
        "v0 = 0.1*np.random.randn(model.n_v,1) # measurement noise"
      ],
      "metadata": {
        "id": "7sGPhBYE7FPI"
      },
      "execution_count": 41,
      "outputs": []
    },
    {
      "cell_type": "code",
      "source": [
        "v0"
      ],
      "metadata": {
        "colab": {
          "base_uri": "https://localhost:8080/"
        },
        "id": "xyTLuS_U7KFl",
        "outputId": "f64776f0-90c6-4535-f5b5-8fc14938db39"
      },
      "execution_count": 42,
      "outputs": [
        {
          "output_type": "execute_result",
          "data": {
            "text/plain": [
              "array([[0.01271578],\n",
              "       [0.14018909],\n",
              "       [0.0314815 ]])"
            ]
          },
          "metadata": {},
          "execution_count": 42
        }
      ]
    },
    {
      "cell_type": "code",
      "source": [
        "y0 = simulator.make_step(u0, v0=v0)"
      ],
      "metadata": {
        "id": "UWH8kjv67qUF"
      },
      "execution_count": 43,
      "outputs": []
    },
    {
      "cell_type": "code",
      "source": [
        "y0"
      ],
      "metadata": {
        "colab": {
          "base_uri": "https://localhost:8080/"
        },
        "id": "EtmoOgt-78pc",
        "outputId": "47d46d17-e052-450d-9be1-2d8c4ac4b790"
      },
      "execution_count": 44,
      "outputs": [
        {
          "output_type": "execute_result",
          "data": {
            "text/plain": [
              "array([[  1.05535729],\n",
              "       [113.50480786],\n",
              "       [112.86820108],\n",
              "       [  0.        ],\n",
              "       [  0.        ]])"
            ]
          },
          "metadata": {},
          "execution_count": 44
        }
      ]
    },
    {
      "cell_type": "code",
      "source": [
        "x0 = mhe.make_step(y0)"
      ],
      "metadata": {
        "id": "nMgKwdo57zb3"
      },
      "execution_count": null,
      "outputs": []
    },
    {
      "cell_type": "code",
      "execution_count": null,
      "metadata": {
        "scrolled": true,
        "id": "ZlP3oAJHGGYK"
      },
      "outputs": [],
      "source": [
        "%%capture\n",
        "np.random.seed(999) #make it repeatable\n",
        "\n",
        "u0 = np.zeros((2,1))\n",
        "for i in range(50):\n",
        "    u0 = random_u(u0) # Control input\n",
        "    v0 = 0.1*np.random.randn(model.n_v,1) # measurement noise\n",
        "    y0 = simulator.make_step(u0, v0=v0)\n",
        "    x0 = mhe.make_step(y0) # MHE estimation step"
      ]
    },
    {
      "cell_type": "markdown",
      "metadata": {
        "id": "NiZdQmv7GGYL"
      },
      "source": [
        "We can visualize the resulting trajectory with the pre-defined graphic:"
      ]
    },
    {
      "cell_type": "code",
      "execution_count": 54,
      "metadata": {
        "scrolled": false,
        "id": "3wuinK_qGGYL",
        "colab": {
          "base_uri": "https://localhost:8080/",
          "height": 356
        },
        "outputId": "a0c1a8a3-1a3c-43bd-912b-ac9866ae81fd"
      },
      "outputs": [
        {
          "output_type": "error",
          "ename": "AssertionError",
          "evalue": "ignored",
          "traceback": [
            "\u001b[0;31m---------------------------------------------------------------------------\u001b[0m",
            "\u001b[0;31mAssertionError\u001b[0m                            Traceback (most recent call last)",
            "\u001b[0;32m<ipython-input-54-9b061fab9abd>\u001b[0m in \u001b[0;36m<module>\u001b[0;34m()\u001b[0m\n\u001b[0;32m----> 1\u001b[0;31m \u001b[0msim_graphics\u001b[0m\u001b[0;34m.\u001b[0m\u001b[0mplot_results\u001b[0m\u001b[0;34m(\u001b[0m\u001b[0;34m)\u001b[0m\u001b[0;34m\u001b[0m\u001b[0;34m\u001b[0m\u001b[0m\n\u001b[0m\u001b[1;32m      2\u001b[0m \u001b[0mmhe_graphics\u001b[0m\u001b[0;34m.\u001b[0m\u001b[0mplot_results\u001b[0m\u001b[0;34m(\u001b[0m\u001b[0;34m)\u001b[0m\u001b[0;34m\u001b[0m\u001b[0;34m\u001b[0m\u001b[0m\n\u001b[1;32m      3\u001b[0m \u001b[0;31m# Reset the limits on all axes in graphic to show the data.\u001b[0m\u001b[0;34m\u001b[0m\u001b[0;34m\u001b[0m\u001b[0;34m\u001b[0m\u001b[0m\n\u001b[1;32m      4\u001b[0m \u001b[0mmhe_graphics\u001b[0m\u001b[0;34m.\u001b[0m\u001b[0mreset_axes\u001b[0m\u001b[0;34m(\u001b[0m\u001b[0;34m)\u001b[0m\u001b[0;34m\u001b[0m\u001b[0;34m\u001b[0m\u001b[0m\n\u001b[1;32m      5\u001b[0m \u001b[0;34m\u001b[0m\u001b[0m\n",
            "\u001b[0;32m/usr/local/lib/python3.7/dist-packages/do_mpc/graphics.py\u001b[0m in \u001b[0;36mplot_results\u001b[0;34m(self, t_ind)\u001b[0m\n\u001b[1;32m    305\u001b[0m         \u001b[0;32massert\u001b[0m \u001b[0misinstance\u001b[0m\u001b[0;34m(\u001b[0m\u001b[0mt_ind\u001b[0m\u001b[0;34m,\u001b[0m \u001b[0mint\u001b[0m\u001b[0;34m)\u001b[0m\u001b[0;34m,\u001b[0m \u001b[0;34m't_ind argument must be of type integer.'\u001b[0m\u001b[0;34m\u001b[0m\u001b[0;34m\u001b[0m\u001b[0m\n\u001b[1;32m    306\u001b[0m         \u001b[0mn_elem\u001b[0m \u001b[0;34m=\u001b[0m \u001b[0mself\u001b[0m\u001b[0;34m.\u001b[0m\u001b[0mdata\u001b[0m\u001b[0;34m[\u001b[0m\u001b[0;34m'_time'\u001b[0m\u001b[0;34m]\u001b[0m\u001b[0;34m.\u001b[0m\u001b[0mshape\u001b[0m\u001b[0;34m[\u001b[0m\u001b[0;36m0\u001b[0m\u001b[0;34m]\u001b[0m\u001b[0;34m\u001b[0m\u001b[0;34m\u001b[0m\u001b[0m\n\u001b[0;32m--> 307\u001b[0;31m         \u001b[0;32massert\u001b[0m \u001b[0mabs\u001b[0m\u001b[0;34m(\u001b[0m\u001b[0mt_ind\u001b[0m\u001b[0;34m)\u001b[0m \u001b[0;34m<=\u001b[0m \u001b[0mn_elem\u001b[0m\u001b[0;34m,\u001b[0m \u001b[0;34m't_ind={} argument is out of range for recorded data with {} elements.'\u001b[0m\u001b[0;34m.\u001b[0m\u001b[0mformat\u001b[0m\u001b[0;34m(\u001b[0m\u001b[0mt_ind\u001b[0m\u001b[0;34m,\u001b[0m \u001b[0mn_elem\u001b[0m\u001b[0;34m)\u001b[0m\u001b[0;34m\u001b[0m\u001b[0;34m\u001b[0m\u001b[0m\n\u001b[0m\u001b[1;32m    308\u001b[0m \u001b[0;34m\u001b[0m\u001b[0m\n\u001b[1;32m    309\u001b[0m         \u001b[0;32mfor\u001b[0m \u001b[0mline_i\u001b[0m\u001b[0;34m,\u001b[0m \u001b[0mind_i\u001b[0m \u001b[0;32min\u001b[0m \u001b[0mzip\u001b[0m\u001b[0;34m(\u001b[0m\u001b[0mself\u001b[0m\u001b[0;34m.\u001b[0m\u001b[0mresult_lines\u001b[0m\u001b[0;34m.\u001b[0m\u001b[0mmaster\u001b[0m\u001b[0;34m,\u001b[0m \u001b[0mself\u001b[0m\u001b[0;34m.\u001b[0m\u001b[0mresult_lines\u001b[0m\u001b[0;34m.\u001b[0m\u001b[0mpowerindex\u001b[0m\u001b[0;34m)\u001b[0m\u001b[0;34m:\u001b[0m\u001b[0;34m\u001b[0m\u001b[0;34m\u001b[0m\u001b[0m\n",
            "\u001b[0;31mAssertionError\u001b[0m: t_ind=-1 argument is out of range for recorded data with 0 elements."
          ]
        }
      ],
      "source": [
        "sim_graphics.plot_results()\n",
        "mhe_graphics.plot_results()\n",
        "# Reset the limits on all axes in graphic to show the data.\n",
        "mhe_graphics.reset_axes()\n",
        "\n",
        "# Mark the time after a full horizon is available to the MHE.\n",
        "ax[0].axvline(1)\n",
        "ax[1].axvline(1)\n",
        "ax[2].axvline(1)\n",
        "ax[3].axvline(1)\n",
        "ax[4].axvline(1)\n",
        "# Show the figure:\n",
        "fig"
      ]
    },
    {
      "cell_type": "markdown",
      "metadata": {
        "id": "KCZB5Hy0GGYM"
      },
      "source": [
        "Parameter estimation:"
      ]
    },
    {
      "cell_type": "code",
      "execution_count": null,
      "metadata": {
        "scrolled": true,
        "id": "qwyQExQiGGYM"
      },
      "outputs": [],
      "source": [
        "ax_p.set_ylim(1e-4, 4e-4)\n",
        "ax_p.set_ylabel('alpha, beta, gamma')\n",
        "ax_p.set_xlabel('time [h]')\n",
        "fig_p"
      ]
    }
  ],
  "metadata": {
    "kernelspec": {
      "display_name": "Python 3 (ipykernel)",
      "language": "python",
      "name": "python3"
    },
    "language_info": {
      "codemirror_mode": {
        "name": "ipython",
        "version": 3
      },
      "file_extension": ".py",
      "mimetype": "text/x-python",
      "name": "python",
      "nbconvert_exporter": "python",
      "pygments_lexer": "ipython3",
      "version": "3.7.12"
    },
    "toc": {
      "base_numbering": 1,
      "nav_menu": {},
      "number_sections": true,
      "sideBar": true,
      "skip_h1_title": false,
      "title_cell": "Table of Contents",
      "title_sidebar": "Contents",
      "toc_cell": false,
      "toc_position": {},
      "toc_section_display": true,
      "toc_window_display": false
    },
    "colab": {
      "name": "mhe_do_vdv.ipynb",
      "provenance": [],
      "collapsed_sections": []
    }
  },
  "nbformat": 4,
  "nbformat_minor": 0
}