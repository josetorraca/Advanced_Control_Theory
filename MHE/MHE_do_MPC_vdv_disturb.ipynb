{
  "cells": [
    {
      "cell_type": "markdown",
      "metadata": {
        "id": "iV1Img5o_P9n"
      },
      "source": [
        "# Continuous stirred tank reactor (CSTR)\n",
        "\n",
        "In this Jupyter Notebook we illustrate the example **CSTR**.\n",
        "\n",
        "**Open an interactive online Jupyter Notebook with this content on Binder:**\n",
        "\n",
        "[![Binder](https://mybinder.org/badge_logo.svg)](https://mybinder.org/v2/gh/do-mpc/do-mpc.git/master?filepath=%2Fdocumentation%2Fsource%2Fexample_gallery%2FCSTR.ipynb)\n",
        "\n",
        "The example consists of the three modules **template_model.py**, which describes the system model, **template_mpc.py**, which defines the settings for the control and **template_simulator.py**, which sets the parameters for the simulator.\n",
        "The modules are used in **main.py** for the closed-loop execution of the controller.\n",
        "The file **post_processing.py** is used for the visualization of the closed-loop control run.\n",
        "One exemplary result will be presented at the end of this tutorial as a gif.\n",
        "\n",
        "In the following the different parts are presented. But first, we start by importing basic modules and **do-mpc**."
      ]
    },
    {
      "cell_type": "code",
      "source": [
        "!pip install do-mpc"
      ],
      "metadata": {
        "colab": {
          "base_uri": "https://localhost:8080/"
        },
        "id": "w7lVgz6P_nGn",
        "outputId": "0d30a850-9fcc-4940-9f73-cc3dcccafdf6"
      },
      "execution_count": 134,
      "outputs": [
        {
          "output_type": "stream",
          "name": "stdout",
          "text": [
            "Looking in indexes: https://pypi.org/simple, https://us-python.pkg.dev/colab-wheels/public/simple/\n",
            "Requirement already satisfied: do-mpc in /usr/local/lib/python3.7/dist-packages (4.3.5)\n",
            "Requirement already satisfied: numpy in /usr/local/lib/python3.7/dist-packages (from do-mpc) (1.21.6)\n",
            "Requirement already satisfied: casadi in /usr/local/lib/python3.7/dist-packages (from do-mpc) (3.5.5)\n",
            "Requirement already satisfied: matplotlib in /usr/local/lib/python3.7/dist-packages (from do-mpc) (3.2.2)\n",
            "Requirement already satisfied: pyparsing!=2.0.4,!=2.1.2,!=2.1.6,>=2.0.1 in /usr/local/lib/python3.7/dist-packages (from matplotlib->do-mpc) (3.0.9)\n",
            "Requirement already satisfied: python-dateutil>=2.1 in /usr/local/lib/python3.7/dist-packages (from matplotlib->do-mpc) (2.8.2)\n",
            "Requirement already satisfied: cycler>=0.10 in /usr/local/lib/python3.7/dist-packages (from matplotlib->do-mpc) (0.11.0)\n",
            "Requirement already satisfied: kiwisolver>=1.0.1 in /usr/local/lib/python3.7/dist-packages (from matplotlib->do-mpc) (1.4.3)\n",
            "Requirement already satisfied: typing-extensions in /usr/local/lib/python3.7/dist-packages (from kiwisolver>=1.0.1->matplotlib->do-mpc) (4.1.1)\n",
            "Requirement already satisfied: six>=1.5 in /usr/local/lib/python3.7/dist-packages (from python-dateutil>=2.1->matplotlib->do-mpc) (1.15.0)\n"
          ]
        }
      ]
    },
    {
      "cell_type": "code",
      "source": [
        "!apt install imagemagick"
      ],
      "metadata": {
        "colab": {
          "base_uri": "https://localhost:8080/"
        },
        "id": "WOqq_uUcDL3X",
        "outputId": "4a98b54a-25b4-4a96-eecd-7a1e5b631647"
      },
      "execution_count": 135,
      "outputs": [
        {
          "output_type": "stream",
          "name": "stdout",
          "text": [
            "Reading package lists... Done\n",
            "Building dependency tree       \n",
            "Reading state information... Done\n",
            "imagemagick is already the newest version (8:6.9.7.4+dfsg-16ubuntu6.13).\n",
            "The following package was automatically installed and is no longer required:\n",
            "  libnvidia-common-460\n",
            "Use 'apt autoremove' to remove it.\n",
            "0 upgraded, 0 newly installed, 0 to remove and 62 not upgraded.\n"
          ]
        }
      ]
    },
    {
      "cell_type": "code",
      "execution_count": 136,
      "metadata": {
        "id": "KX4HmYDE_P98"
      },
      "outputs": [],
      "source": [
        "import numpy as np\n",
        "import sys\n",
        "from casadi import *\n",
        "\n",
        "# Add do_mpc to path. This is not necessary if it was installed via pip\n",
        "sys.path.append('../../../')\n",
        "\n",
        "# Import do_mpc package:\n",
        "import do_mpc\n",
        "\n",
        "import matplotlib.pyplot as plt"
      ]
    },
    {
      "cell_type": "markdown",
      "metadata": {
        "id": "hBtWbF--_P9-"
      },
      "source": [
        "## Model"
      ]
    },
    {
      "cell_type": "markdown",
      "metadata": {
        "id": "Ank3hgfi_P-A"
      },
      "source": [
        "In the following we will present the configuration, setup and connection between these blocks, starting with the `model`.\n",
        "The considered model of the CSTR is continuous and has 4 states and 2 control inputs.\n",
        "The model is initiated by:"
      ]
    },
    {
      "cell_type": "code",
      "execution_count": 137,
      "metadata": {
        "id": "dQO1HR6R_P-B"
      },
      "outputs": [],
      "source": [
        "model_type = 'continuous' # either 'discrete' or 'continuous'\n",
        "model = do_mpc.model.Model(model_type)"
      ]
    },
    {
      "cell_type": "markdown",
      "metadata": {
        "id": "r3alf5KA_P-C"
      },
      "source": [
        "### States and control inputs\n",
        "\n",
        "The four states are concentration of reactant A ($C_{\\text{A}}$), the concentration of reactant B ($C_{\\text{B}}$), the temperature inside the reactor ($T_{\\text{R}}$) and the temperature of the cooling jacket ($T_{\\text{K}}$):"
      ]
    },
    {
      "cell_type": "code",
      "execution_count": 138,
      "metadata": {
        "id": "VAXOjOma_P-D"
      },
      "outputs": [],
      "source": [
        "# States struct (optimization variables):\n",
        "C_a = model.set_variable(var_type='_x', var_name='C_a', shape=(1,1))\n",
        "C_b = model.set_variable(var_type='_x', var_name='C_b', shape=(1,1))\n",
        "T_R = model.set_variable(var_type='_x', var_name='T_R', shape=(1,1))\n",
        "T_K = model.set_variable(var_type='_x', var_name='T_K', shape=(1,1))\n",
        "\n",
        "# State measurements\n",
        "C_b_meas = model.set_meas('C_b_1_meas', C_b, meas_noise=True)\n",
        "T_R_meas = model.set_meas('T_R_1_meas', T_R, meas_noise=True)\n",
        "\n",
        "# Introduce tvp: Set-point for the temperature\n",
        "T_R_SP = model.set_variable(var_type='_tvp', var_name='T_R_SP')\n",
        "\n",
        "# Introduce tvp: Inflow temperature (disturbance)\n",
        "T_in_DIST = model.set_variable(var_type='_tvp', var_name='T_in_DIST')\n",
        "\n",
        "# Introduce tvp: Set-point for CB\n",
        "C_b_SP = model.set_variable(var_type='_tvp', var_name='C_b_SP')\n",
        "\n",
        "# Introduce tvp: Ca inflow (disturbance)\n",
        "CA_0_DIST = model.set_variable(var_type='_tvp', var_name='CA_0_DIST')\n"
      ]
    },
    {
      "cell_type": "markdown",
      "metadata": {
        "id": "Mycss19u_P-F"
      },
      "source": [
        "The control inputs are the feed $F$ and the heat flow $\\dot{Q}$:"
      ]
    },
    {
      "cell_type": "code",
      "execution_count": 139,
      "metadata": {
        "id": "2NYuw7WW_P-G"
      },
      "outputs": [],
      "source": [
        "# Input struct (optimization variables):\n",
        "F = model.set_variable(var_type='_u', var_name='F')\n",
        "Q_dot = model.set_variable(var_type='_u', var_name='Q_dot')\n",
        "\n",
        "# Input measurements\n",
        "F_meas = model.set_meas('F_meas', F, meas_noise=False)\n",
        "Q_dot_meas = model.set_meas('Q_dot', Q_dot, meas_noise=False)"
      ]
    },
    {
      "cell_type": "markdown",
      "metadata": {
        "id": "vtBMUk8R_P-H"
      },
      "source": [
        "### ODE and parameters\n",
        "\n",
        "The system model is described by the ordinary differential equation:\n",
        "\n",
        "\\begin{align}\n",
        "\\dot{C}_{\\text{A}} &= F \\cdot \\alpha \\cdot (C_{\\text{A},0} - C_{\\text{A}}) - k_1 \\cdot C_{\\text{A}} - k_3 \\cdot C_{\\text{A}}^2, \\\\\n",
        "\\dot{C}_{\\text{B}} &= F \\cdot C_{\\text{B}} + k_1 \\cdot C_{\\text{A}} - k_2 \\cdot C_{\\text{B}}, \\\\\n",
        "\\dot{T}_{\\text{R}} &= \\frac{k_1 \\cdot C_{\\text{A}} \\cdot H_{\\text{R},ab} + k_2 \\cdot C_{\\text{B}} \\cdot  H_{\\text{R},bc} + k_3 \\cdot C_{\\text{A}}^2 \\cdot H_{\\text{R},ad}} {-\\rho \\cdot \\beta \\cdot c_p}\\\\\n",
        "&+ F \\cdot (T_{\\text{in}} - T_{\\text{R}}) + \\frac{K_w \\cdot A_{\\text{R}} \\cdot(T_{\\text{K}}-T_{\\text{R}})}{\\rho \\cdot \\beta \\cdot c_p \\cdot V_{\\text{R}}}, \\\\\n",
        "\\dot{T}_{\\text{K}} &= \\frac{\\dot{Q} + k_w \\cdot A_{\\text{R}} \\cdot T_{\\text{dif}}}{m_k \\cdot C_{p,k}},\n",
        "\\end{align}\n",
        "\n",
        "where\n",
        "\n",
        "\\begin{align}\n",
        "k_1 &= \\gamma \\cdot k_{0,\\text{ab}} \\cdot \\exp\\left(\\frac{-E_{\\text{A},\\text{ab}}}{T_{\\text{R}}+273.15}\\right), \\\\\n",
        "k_1 &= k_{0,\\text{bc}} \\cdot \\exp \\left( \\frac{-E_{\\text{A},\\text{bc}}}{T_{\\text{R}}+273.15} \\right), \\\\\n",
        "k_3 &= k_{0,\\text{ad}} \\cdot \\exp \\left( \\frac{-E_{\\text{A},\\text{ad}}}{T_{\\text{R}}+273.15} \\right).\n",
        "\\end{align}\n",
        "\n",
        "The \n",
        "parameters $\\alpha$ and $\\beta$ and $\\gamma$ are uncertain while the rest of the parameters is considered certain:"
      ]
    },
    {
      "cell_type": "code",
      "execution_count": 140,
      "metadata": {
        "id": "bfrj9Aep_P-J"
      },
      "outputs": [],
      "source": [
        "# Certain parameters\n",
        "K0_ab = 1.287e12 # K0 [h^-1]\n",
        "K0_bc = 1.287e12 # K0 [h^-1]\n",
        "K0_ad = 9.043e9 # K0 [l/mol.h]\n",
        "R_gas = 8.3144621e-3 # Universal gas constant\n",
        "E_A_ab = 9758.3*1.00 #* R_gas# [kj/mol]\n",
        "E_A_bc = 9758.3*1.00 #* R_gas# [kj/mol]\n",
        "E_A_ad = 8560.0*1.0 #* R_gas# [kj/mol]\n",
        "H_R_ab = 4.2 # [kj/mol A]\n",
        "H_R_bc = -11.0 # [kj/mol B] Exothermic\n",
        "H_R_ad = -41.85 # [kj/mol A] Exothermic\n",
        "Rou = 0.9342 # Density [kg/l]\n",
        "Cp = 3.01 # Specific Heat capacity [kj/Kg.K]\n",
        "Cp_k = 2.0 # Coolant heat capacity [kj/kg.k]\n",
        "A_R = 0.215 # Area of reactor wall [m^2]\n",
        "V_R = 10.0 # Volume of reactor [l]\n",
        "m_k = 5.0 # Coolant mass[kg]\n",
        "T_in = 135.0 # Temp of inflow [Celsius]\n",
        "K_w = 4032.0 # [kj/h.m^2.K]\n",
        "C_A0 = 5.1 # Concentration of A in input  [mol/l]\n",
        "CBMAX = 1.13\n",
        "\n",
        "# Uncertain parameters:\n",
        "alpha = model.set_variable(var_type='parameter', var_name='alpha')\n",
        "beta = model.set_variable(var_type='parameter', var_name='beta')\n",
        "gamma = model.set_variable(var_type='parameter', var_name='gamma')"
      ]
    },
    {
      "cell_type": "markdown",
      "metadata": {
        "id": "Y4lAb1Lu_P-K"
      },
      "source": [
        "In the next step, we formulate the $k_i$-s:"
      ]
    },
    {
      "cell_type": "code",
      "execution_count": 141,
      "metadata": {
        "id": "MzsXzl3w_P-L"
      },
      "outputs": [],
      "source": [
        "# Auxiliary terms\n",
        "K_1 = gamma * K0_ab * exp((-E_A_ab)/((T_R+273.15)))\n",
        "K_2 =  K0_bc * exp((-E_A_bc)/((T_R+273.15)))\n",
        "K_3 = K0_ad * exp((-E_A_ad)/((T_R+273.15)))"
      ]
    },
    {
      "cell_type": "markdown",
      "metadata": {
        "id": "AqXPDPJh_P-M"
      },
      "source": [
        "Additionally, we define an artificial variable of interest, that is not a state of the system, but will be later used for plotting:"
      ]
    },
    {
      "cell_type": "code",
      "execution_count": 142,
      "metadata": {
        "id": "FQdXRrkZ_P-M"
      },
      "outputs": [],
      "source": [
        "T_dif = model.set_expression(expr_name='T_dif', expr=T_R-T_K)"
      ]
    },
    {
      "cell_type": "markdown",
      "metadata": {
        "id": "FGBCP5OJ_P-N"
      },
      "source": [
        "WIth the help ot the $k_i$-s and $T_{\\text{dif}}$ we can define the ODEs:"
      ]
    },
    {
      "cell_type": "code",
      "execution_count": 143,
      "metadata": {
        "id": "71sptd8q_P-O"
      },
      "outputs": [],
      "source": [
        "model.set_rhs('C_a', F*alpha*(C_A0 - CA_0_DIST - C_a) -K_1*C_a - K_3*(C_a**2), process_noise = False)\n",
        "model.set_rhs('C_b', -F*C_b + K_1*C_a - K_2*C_b)\n",
        "model.set_rhs('T_R', ((K_1*C_a*H_R_ab + K_2*C_b*H_R_bc + K_3*(C_a**2)*H_R_ad)/(-Rou*beta*Cp)) + F*(T_in-T_R - T_in_DIST) + (((K_w*A_R)*(-T_dif - T_in_DIST))/(Rou*beta*Cp*V_R)))\n",
        "model.set_rhs('T_K', (Q_dot + K_w*A_R*(T_dif - T_in_DIST))/(m_k*Cp_k))\n",
        "\n",
        "# model.set_rhs('T_R', (T_R - T_in_DIST))\n",
        "# model.set_rhs('C_a', alpha*(C_A0 - CA_0_DIST))"
      ]
    },
    {
      "cell_type": "markdown",
      "metadata": {
        "id": "AJ84bANF_P-O"
      },
      "source": [
        "Finally, the model setup is completed:"
      ]
    },
    {
      "cell_type": "code",
      "execution_count": 144,
      "metadata": {
        "id": "TAAVdyQP_P-P"
      },
      "outputs": [],
      "source": [
        "# Build the model\n",
        "model.setup()"
      ]
    },
    {
      "cell_type": "markdown",
      "metadata": {
        "id": "SqOVcqsb_P-Q"
      },
      "source": [
        "## Controller\n"
      ]
    },
    {
      "cell_type": "markdown",
      "metadata": {
        "id": "2X_PJGWb_P-R"
      },
      "source": [
        "Next, the model predictive controller is configured.\n",
        "First, one member of the mpc class is generated with the prediction model defined above:"
      ]
    },
    {
      "cell_type": "code",
      "execution_count": 145,
      "metadata": {
        "id": "EvXriiR4_P-R"
      },
      "outputs": [],
      "source": [
        "mpc = do_mpc.controller.MPC(model)"
      ]
    },
    {
      "cell_type": "markdown",
      "metadata": {
        "id": "AZn2Skem_P-S"
      },
      "source": [
        "We choose the prediction horizon `n_horizon`, set the robust horizon `n_robust` to 1. The time step `t_step` is set to one second and parameters of the applied discretization scheme orthogonal collocation are as seen below:"
      ]
    },
    {
      "cell_type": "code",
      "execution_count": 146,
      "metadata": {
        "id": "sMoiJ0eW_P-T"
      },
      "outputs": [],
      "source": [
        "setup_mpc = {\n",
        "    'n_horizon': 20,\n",
        "    'n_robust': 1,\n",
        "    'open_loop': 0,\n",
        "    't_step': 0.005,\n",
        "    'state_discretization': 'collocation',\n",
        "    'collocation_type': 'radau',\n",
        "    'collocation_deg': 2,\n",
        "    'collocation_ni': 2,\n",
        "    'store_full_solution': True,\n",
        "    # Use MA27 linear solver in ipopt for faster calculations:\n",
        "    #'nlpsol_opts': {'ipopt.linear_solver': 'MA27'}\n",
        "}\n",
        "\n",
        "mpc.set_param(**setup_mpc)"
      ]
    },
    {
      "cell_type": "markdown",
      "metadata": {
        "id": "WuwUNI8w_P-U"
      },
      "source": [
        "Because the magnitude of the states and inputs is very different, we introduce scaling factors:"
      ]
    },
    {
      "cell_type": "code",
      "execution_count": 147,
      "metadata": {
        "id": "GYWa0BUj_P-V"
      },
      "outputs": [],
      "source": [
        "mpc.scaling['_x', 'T_R'] = 100\n",
        "mpc.scaling['_x', 'T_K'] = 100\n",
        "mpc.scaling['_u', 'Q_dot'] = 2000\n",
        "mpc.scaling['_u', 'F'] = 100"
      ]
    },
    {
      "cell_type": "markdown",
      "metadata": {
        "id": "rCNes3ZX_P-V"
      },
      "source": [
        "### Objective\n",
        "\n",
        "The goal of the CSTR is to obtain a mixture with a concentration of $C_{\\text{B,ref}} = 0.6$ mol/l, and $T = 135$ °C.\n",
        "Additionally, we add a penalty on input changes for both control inputs, to obtain a smooth control performance."
      ]
    },
    {
      "cell_type": "code",
      "execution_count": 148,
      "metadata": {
        "id": "FSHQ8gTj_P-W"
      },
      "outputs": [],
      "source": [
        "_x = model.x\n",
        "_t = model.tvp\n",
        "\n",
        "mterm = (_x['C_b'] - _t['C_b_SP'])**2 # terminal cost # set-point tracking\n",
        "lterm = (_x['T_R'] - _t['T_R_SP'])**2 # stage cost # set-point tracking\n",
        "\n",
        "mpc.set_objective(mterm=mterm, lterm=lterm)\n",
        "\n",
        "mpc.set_rterm(F=0.1, Q_dot = 1e-3) # input penalty # Scaling for quad. cost."
      ]
    },
    {
      "cell_type": "markdown",
      "metadata": {
        "id": "l8aZSbvq_P-X"
      },
      "source": [
        "### Constraints\n",
        "\n",
        "In the next step, the constraints of the control problem are set.\n",
        "In this case, there are only upper and lower bounds for each state and the input:"
      ]
    },
    {
      "cell_type": "code",
      "execution_count": 149,
      "metadata": {
        "id": "3p8JNuM1_P-X"
      },
      "outputs": [],
      "source": [
        "# lower bounds of the states\n",
        "mpc.bounds['lower', '_x', 'C_a'] = 0.1\n",
        "mpc.bounds['lower', '_x', 'C_b'] = 0.1\n",
        "mpc.bounds['lower', '_x', 'T_R'] = 50\n",
        "mpc.bounds['lower', '_x', 'T_K'] = 50\n",
        "\n",
        "# upper bounds of the states\n",
        "mpc.bounds['upper', '_x', 'C_a'] = 6\n",
        "mpc.bounds['upper', '_x', 'C_b'] = 2\n",
        "mpc.bounds['upper', '_x', 'T_K'] = 140\n",
        "\n",
        "# lower bounds of the inputs\n",
        "mpc.bounds['lower', '_u', 'F'] = 5\n",
        "mpc.bounds['lower', '_u', 'Q_dot'] = -8500\n",
        "\n",
        "# upper bounds of the inputs\n",
        "mpc.bounds['upper', '_u', 'F'] = 100\n",
        "mpc.bounds['upper', '_u', 'Q_dot'] = 0.0"
      ]
    },
    {
      "cell_type": "markdown",
      "metadata": {
        "id": "MFC-J78C_P-Y"
      },
      "source": [
        "If a constraint is not critical, it is possible to implement it as a **soft** constraint.\n",
        "This means, that a small violation of the constraint does not render the optimization infeasible.\n",
        "Instead, a penalty term is added to the objective.\n",
        "**Soft** constraints can always be applied, if small violations can be accepted and it might even be necessary to apply MPC in a safe way (by avoiding avoiding numerical instabilities).\n",
        "In this case, we define the upper bounds of the reactor temperature as a **soft** constraint by using `mpc.set_nl_cons()`."
      ]
    },
    {
      "cell_type": "code",
      "execution_count": 150,
      "metadata": {
        "colab": {
          "base_uri": "https://localhost:8080/"
        },
        "id": "uDCa2N9g_P-Y",
        "outputId": "420d8fb3-3b51-4601-8eef-3be0aeb40a66"
      },
      "outputs": [
        {
          "output_type": "execute_result",
          "data": {
            "text/plain": [
              "SX(T_R)"
            ]
          },
          "metadata": {},
          "execution_count": 150
        }
      ],
      "source": [
        "mpc.set_nl_cons('T_R', _x['T_R'], ub=140, soft_constraint=True, penalty_term_cons=1e2)"
      ]
    },
    {
      "cell_type": "markdown",
      "source": [
        "The only problem that remains is: What are the values for the set-point for the temperature and the external temperature\n",
        "for the ODE equation? So far we have only introduced them as symbolic variables. \\\\\n",
        "\n",
        "What makes the definition of these values so complicated is that at each control step, we need not only a single value\n",
        "for these variables but an entire sequence. Furthermore, these sequences are not necessarily the same (shifted) values\n",
        "at the next step. \\\\\n",
        "\n",
        "To address this problem do-mpc allows the user to declare a tvp-function with do_mpc.controller.MPC.set_tvp_fun() which is internally invoked at each call of the MPC controller with do_mpc.controller.MPC.make_step(). \\\\\n",
        "\n",
        "The tvp-function returns numerical values for the currently valid sequences and passes them to the optimizer. Because\n",
        "the tvp-function is user-defined, the approach allows for the greatest flexibility. \\\\\n",
        "\n",
        "do-mpc also ensures that the output of this function is consistent with the configuration of the model and controller.\n",
        "This is achieved by requiring the output of the tvp-function to be of a particular structure which can be obtained\n",
        "with do_mpc.controller.MPC.get_tvp_template(). This structure can be indexed with a time-step and\n",
        "the name of a previously introduced time-varying parameter. Through indexing these values can be obtained and set\n",
        "conveniently. \\\\\n",
        "\n",
        "In the following we show how this works in practice. The first step is to obtain the tvp_template:"
      ],
      "metadata": {
        "id": "DxDUpVx0uizZ"
      }
    },
    {
      "cell_type": "code",
      "source": [
        "tvp_template = mpc.get_tvp_template()"
      ],
      "metadata": {
        "id": "kvZXxa7HvQTh"
      },
      "execution_count": 151,
      "outputs": []
    },
    {
      "cell_type": "markdown",
      "source": [
        "Afterwards, we define a function that takes as input the current time and returns the tvp_template filled with the\n",
        "currently valid sequences."
      ],
      "metadata": {
        "id": "PiQXYLvIvVmj"
      }
    },
    {
      "cell_type": "code",
      "source": [
        "n = 20 #n_horizon\n",
        "i = int(n)\n",
        "N = n/2\n",
        "I = int(N)\n",
        "\n",
        "y=range(I)\n",
        "y"
      ],
      "metadata": {
        "colab": {
          "base_uri": "https://localhost:8080/"
        },
        "id": "GzXWf1yvh9Mm",
        "outputId": "d8d076f2-1e6a-4740-9228-831b049deab6"
      },
      "execution_count": 152,
      "outputs": [
        {
          "output_type": "execute_result",
          "data": {
            "text/plain": [
              "range(0, 10)"
            ]
          },
          "metadata": {},
          "execution_count": 152
        }
      ]
    },
    {
      "cell_type": "code",
      "source": [
        "range(I, i+1)"
      ],
      "metadata": {
        "colab": {
          "base_uri": "https://localhost:8080/"
        },
        "id": "L09kiCfKj8c6",
        "outputId": "765ebff1-774b-44cf-ed4c-c2cc9e5943d9"
      },
      "execution_count": 153,
      "outputs": [
        {
          "output_type": "execute_result",
          "data": {
            "text/plain": [
              "range(10, 21)"
            ]
          },
          "metadata": {},
          "execution_count": 153
        }
      ]
    },
    {
      "cell_type": "code",
      "source": [
        "n = 20 #n_horizon\n",
        "i = int(n)\n",
        "N = n/2\n",
        "I = int(N)\n",
        "\n",
        "def tvp_fun(t_now):\n",
        "    for k in range(I):\n",
        "        tvp_template['_tvp',k,'T_R_SP'] = 135\n",
        "        tvp_template['_tvp',k,'T_in_DIST'] = 0.0\n",
        "        tvp_template['_tvp',k,'C_b_SP'] = 0.6\n",
        "        tvp_template['_tvp',k,'CA_0_DIST'] = 0.0\n",
        "\n",
        "    for k in range(I, i+1):\n",
        "        tvp_template['_tvp',k,'T_R_SP'] = 140\n",
        "        tvp_template['_tvp',k,'T_in_DIST'] = -5.0 #Tin go from 135°C to 140°C\n",
        "        tvp_template['_tvp',k,'C_b_SP'] = 1.1\n",
        "        tvp_template['_tvp',k,'CA_0_DIST'] = -0.4 #CAin go from 5.1mol/l to 5.5mol/l\n",
        "\n",
        "    return tvp_template"
      ],
      "metadata": {
        "id": "mulJKc1AvXDo"
      },
      "execution_count": 154,
      "outputs": []
    },
    {
      "cell_type": "markdown",
      "source": [
        "The function tvp_fun can now be treated similarly to a variable in the current python scope. The final step of the\n",
        "process is to pass this function with do_mpc.controller.MPC.set_tvp_fun():\n"
      ],
      "metadata": {
        "id": "VLXcJu-KwMVW"
      }
    },
    {
      "cell_type": "code",
      "source": [
        "mpc.set_tvp_fun(tvp_fun)"
      ],
      "metadata": {
        "id": "p2dMSwQDwNcs"
      },
      "execution_count": 155,
      "outputs": []
    },
    {
      "cell_type": "markdown",
      "metadata": {
        "id": "QKeaZIqG_P-a"
      },
      "source": [
        "### Uncertain values\n",
        "\n",
        "The explicit values of the two uncertain parameters $\\alpha$, $\\beta$ and $\\gamma$, which are considered in the scenario tree, are given by:"
      ]
    },
    {
      "cell_type": "code",
      "execution_count": 156,
      "metadata": {
        "id": "M0VoNffE_P-a"
      },
      "outputs": [],
      "source": [
        "alpha_var = np.array([1., 1.1])\n",
        "beta_var = np.array([1., 1.2])\n",
        "gamma_var = np.array([1., 1.05])\n",
        "\n",
        "mpc.set_uncertainty_values(alpha = alpha_var, beta = beta_var, gamma = gamma_var)"
      ]
    },
    {
      "cell_type": "markdown",
      "metadata": {
        "id": "5mSprAPV_P-b"
      },
      "source": [
        "This means with `n_robust=1`, that 6 different scenarios are considered.\n",
        "The setup of the MPC controller is concluded by:"
      ]
    },
    {
      "cell_type": "code",
      "execution_count": 157,
      "metadata": {
        "id": "h1vgXXOu_P-b"
      },
      "outputs": [],
      "source": [
        "mpc.setup()"
      ]
    },
    {
      "cell_type": "markdown",
      "metadata": {
        "id": "0tXCrpDc_P-c"
      },
      "source": [
        "## Estimator\n",
        "\n",
        "MHE"
      ]
    },
    {
      "cell_type": "markdown",
      "metadata": {
        "id": "nOfQMNUNGGXl"
      },
      "source": [
        "## Configuring the moving horizon estimator\n",
        "The first step of configuring the moving horizon estimator is to call the class with a list of all parameters to be estimated. An empty list (default value) means that no parameters are estimated.\n",
        "The list of estimated parameters must be a subset (or all) of the previously defined parameters.\n",
        "\n",
        "<div class=\"alert alert-info\">\n",
        "**Note** \n",
        "    \n",
        "WE CAN DEFINE MORE UNCERTAIN PARAMETERS (BEYOND $\\alpha , \\beta , \\gamma$) THAT WE DON'T ESTIMATE\n",
        "\n",
        "In many cases we will use the same model for (robust) control and MHE estimation. In that case it is possible to have some external parameters (e.g. weather prediction) that are uncertain but cannot be estimated. \n",
        "</div>"
      ]
    },
    {
      "cell_type": "code",
      "execution_count": 158,
      "metadata": {
        "id": "ZFsO5YnxGGXl"
      },
      "outputs": [],
      "source": [
        "mhe = do_mpc.estimator.MHE(model, ['alpha', 'beta', 'gamma'])"
      ]
    },
    {
      "cell_type": "markdown",
      "metadata": {
        "id": "8nb3LQafGGXm"
      },
      "source": [
        "### MHE parameters:\n",
        "Next, we pass MHE parameters. Most importantly, we need to set the time step and the horizon.\n",
        "We also choose to obtain the measurement from the MHE data object. \n",
        "Alternatively, we are able to set a user defined measurement function that is called at each timestep and returns the `N` previous measurements for the estimation step."
      ]
    },
    {
      "cell_type": "code",
      "execution_count": 159,
      "metadata": {
        "id": "S5rW6JqlGGXn"
      },
      "outputs": [],
      "source": [
        "setup_mhe = {\n",
        "    't_step': 0.1,\n",
        "    'n_horizon': 10,\n",
        "    'store_full_solution': True,\n",
        "    'meas_from_data': True\n",
        "}\n",
        "mhe.set_param(**setup_mhe)"
      ]
    },
    {
      "cell_type": "markdown",
      "metadata": {
        "id": "n1EK7ZAUGGXo"
      },
      "source": [
        "### Objective function\n",
        "The most important step of the configuration is to define the objective function for the MHE problem:\n",
        "\n",
        "\\begin{align}\n",
        "\\underset{\n",
        "    \\begin{array}{c}\n",
        "    \\mathbf{x}_{0:N+1}, \\mathbf{u}_{0:N}, p,\\\\\n",
        "    \\mathbf{w}_{0:N}, \\mathbf{v}_{0:N}\n",
        "    \\end{array}\n",
        "    }{\\mathrm{min}}\n",
        "    &\\frac{1}{2}\\|x_0-\\tilde{x}_0\\|_{P_x}^2+\\frac{1}{2}\\|p-\\tilde{p}\\|_{P_p}^2\n",
        "    +\\sum_{k=0}^{N-1} \\left(\\frac{1}{2}\\|v_k\\|_{P_{v,k}}^2\n",
        "    + \\frac{1}{2}\\|w_k\\|_{P_{w,k}}^2\\right),\\\\\n",
        "    &\\left.\\begin{aligned}\n",
        "    \\mathrm{s.t.}\\quad\n",
        "    x_{k+1} &= f(x_k,u_k,z_k,p,p_{\\text{tv},k})+ w_k,\\\\\n",
        "    y_k &= h(x_k,u_k,z_k,p,p_{\\text{tv},k}) + v_k, \\\\\n",
        "    &g(x_k,u_k,z_k,p_k,p_{\\text{tv},k}) \\leq 0\n",
        "    \\end{aligned}\\right\\} k=0,\\dots, N\n",
        "\\end{align}\n",
        "\n",
        "We typically consider the formulation shown above, where the user has to pass the weighting matrices ``P_x``, ``P_v``, ``P_p`` and ``P_w``.\n",
        "In our concrete example, we assume a perfect model without process noise and thus ``P_w`` is not required. \n",
        "\n",
        "We set the objective function with the weighting matrices shown below:"
      ]
    },
    {
      "cell_type": "code",
      "source": [
        "P_v = np.diag(np.array([1, 1])) #2 states measured with (meas_noise=True)\n",
        "P_x = np.eye(4) # 4 states\n",
        "P_p = 6*np.eye(3) #6 inputs: 4 states + 2 control\n",
        "\n",
        "mhe.set_default_objective(P_x, P_v, P_p)"
      ],
      "metadata": {
        "id": "qteMofUx_dBb"
      },
      "execution_count": 160,
      "outputs": []
    },
    {
      "cell_type": "code",
      "execution_count": 161,
      "metadata": {
        "id": "UGrGDoqmohYK"
      },
      "outputs": [],
      "source": [
        "mhe.scaling['_x', 'T_R'] = 100\n",
        "mhe.scaling['_x', 'T_K'] = 100\n",
        "mhe.scaling['_u', 'Q_dot'] = 2000\n",
        "mhe.scaling['_u', 'F'] = 100"
      ]
    },
    {
      "cell_type": "markdown",
      "metadata": {
        "id": "8PQvSyudGGXt"
      },
      "source": [
        "### Bounds\n",
        "The MHE implementation also supports bounds for states, inputs, parameters which can be set as shown below.\n",
        "For the given example, it is especially important to set realistic bounds on the estimated parameter. Otherwise the MHE solution is a poor fit."
      ]
    },
    {
      "cell_type": "code",
      "execution_count": 162,
      "metadata": {
        "id": "XnEz7LDBGGXt"
      },
      "outputs": [],
      "source": [
        "# lower bounds of the states\n",
        "mhe.bounds['lower', '_x', 'C_a'] = 0.1\n",
        "mhe.bounds['lower', '_x', 'C_b'] = 0.1\n",
        "mhe.bounds['lower', '_x', 'T_R'] = 50\n",
        "mhe.bounds['lower', '_x', 'T_K'] = 50\n",
        "\n",
        "# upper bounds of the states\n",
        "mhe.bounds['upper', '_x', 'C_a'] = 6\n",
        "mhe.bounds['upper', '_x', 'C_b'] = 2\n",
        "mhe.bounds['upper', '_x', 'T_K'] = 140\n",
        "\n",
        "# lower bounds of the inputs\n",
        "mhe.bounds['lower', '_u', 'F'] = 5\n",
        "mhe.bounds['lower', '_u', 'Q_dot'] = -8500\n",
        "\n",
        "# upper bounds of the inputs\n",
        "mhe.bounds['upper', '_u', 'F'] = 100\n",
        "mhe.bounds['upper', '_u', 'Q_dot'] = 0.0"
      ]
    },
    {
      "cell_type": "markdown",
      "metadata": {
        "id": "qAfFBQtBfrvy"
      },
      "source": [
        "### Realizations of uncertain parameters\n",
        "\n",
        "For the simulatiom, it is necessary to define the numerical realizations of the uncertain parameters in `p_num` and the time-varying parameters in `tvp_num`.\n",
        "First, we get the structure of the uncertain and time-varying parameters:"
      ]
    },
    {
      "cell_type": "code",
      "execution_count": 163,
      "metadata": {
        "id": "4ukLQqgHfrv0"
      },
      "outputs": [],
      "source": [
        "tvp_num = mhe.get_tvp_template()\n",
        "# p_num_mhe = mhe.get_p_template()"
      ]
    },
    {
      "cell_type": "markdown",
      "metadata": {
        "id": "UW3jnrOifrv1"
      },
      "source": [
        "We define two functions which are called in each simulation step, which return the current realizations of the parameters, with respect to defined inputs (in this case `t_now`):"
      ]
    },
    {
      "cell_type": "code",
      "execution_count": 164,
      "metadata": {
        "id": "Y2FmmQE9frv1"
      },
      "outputs": [],
      "source": [
        "# function for time-varying parameters\n",
        "\n",
        "n = 10 #n_horizon\n",
        "i = int(n)\n",
        "N = n/2\n",
        "I = int(N)\n",
        "\n",
        "def tvp_fun(t_now):\n",
        "    for k in range(I):\n",
        "        tvp_template['_tvp',k,'T_R_SP'] = 135\n",
        "        tvp_template['_tvp',k,'T_in_DIST'] = 0.0\n",
        "        tvp_template['_tvp',k,'C_b_SP'] = 0.6\n",
        "        tvp_template['_tvp',k,'CA_0_DIST'] = 0.0\n",
        "\n",
        "    for k in range(I, i+1):\n",
        "        tvp_template['_tvp',k,'T_R_SP'] = 140\n",
        "        tvp_template['_tvp',k,'T_in_DIST'] = -5.0 #Tin go from 135°C to 140°C\n",
        "        tvp_template['_tvp',k,'C_b_SP'] = 1.1\n",
        "        tvp_template['_tvp',k,'CA_0_DIST'] = -0.4 #CAin go from 5.1mol/l to 5.5mol/l\n",
        "\n",
        "    return tvp_num\n",
        "\n",
        "\n",
        "# def p_fun_mhe(t_now):\n",
        "#     # uncertain parameters\n",
        "#     p_num_mhe['alpha'] = 1\n",
        "#     p_num_mhe['beta'] = 1\n",
        "#     p_num_mhe['gamma'] = 1\n",
        "#     return p_num_mhe"
      ]
    },
    {
      "cell_type": "markdown",
      "metadata": {
        "id": "kajl4PMHfrv2"
      },
      "source": [
        "These two custum functions are used in the simulation via:"
      ]
    },
    {
      "cell_type": "code",
      "execution_count": 165,
      "metadata": {
        "id": "RSLDu46Mfrv2"
      },
      "outputs": [],
      "source": [
        "# simulator.set_tvp_fun(tvp_fun)\n",
        "# mhe.set_p_fun(p_fun_mhe)\n",
        "\n",
        "mhe.set_tvp_fun(tvp_fun)"
      ]
    },
    {
      "cell_type": "markdown",
      "metadata": {
        "id": "EODLsPF0GGXt"
      },
      "source": [
        "### Setup\n",
        "Similar to the controller, simulator and model, we finalize the MHE configuration by calling:"
      ]
    },
    {
      "cell_type": "code",
      "execution_count": 166,
      "metadata": {
        "id": "u_7eLk04GGXu"
      },
      "outputs": [],
      "source": [
        "mhe.setup()"
      ]
    },
    {
      "cell_type": "markdown",
      "metadata": {
        "id": "-0dEJFc7_P-c"
      },
      "source": [
        "## Simulator\n",
        "\n",
        "To create a simulator in order to run the MPC in a closed-loop, we create an instance of the **do-mpc** simulator which is based on the same model:"
      ]
    },
    {
      "cell_type": "code",
      "execution_count": 167,
      "metadata": {
        "id": "x9VveO64_P-d"
      },
      "outputs": [],
      "source": [
        "simulator = do_mpc.simulator.Simulator(model)"
      ]
    },
    {
      "cell_type": "markdown",
      "metadata": {
        "id": "miqLJDab_P-d"
      },
      "source": [
        "For the simulation, we use the same time step `t_step` as for the optimizer:"
      ]
    },
    {
      "cell_type": "code",
      "execution_count": 168,
      "metadata": {
        "id": "HYgkRlUf_P-e"
      },
      "outputs": [],
      "source": [
        "params_simulator = {\n",
        "    'integration_tool': 'cvodes',\n",
        "    'abstol': 1e-10,\n",
        "    'reltol': 1e-10,\n",
        "    't_step': 0.1\n",
        "}\n",
        "\n",
        "simulator.set_param(**params_simulator)"
      ]
    },
    {
      "cell_type": "markdown",
      "metadata": {
        "id": "Bbo7OARVGGXw"
      },
      "source": [
        "### Parameters\n",
        "In the `model` we have defined the inertia of the masses as parameters. The `simulator` is now parametrized to simulate using the \"true\" values at each timestep. In the most general case, these values can change, which is why we need to supply a function that can be evaluted at each time to obtain the current values. \n",
        "**do-mpc** requires this function to have a specific return structure which we obtain first by calling:"
      ]
    },
    {
      "cell_type": "code",
      "execution_count": 169,
      "metadata": {
        "id": "ZsSjZwwUGGXx"
      },
      "outputs": [],
      "source": [
        "p_template_sim = simulator.get_p_template()\n",
        "\n",
        "tvp_template = simulator.get_tvp_template()"
      ]
    },
    {
      "cell_type": "markdown",
      "metadata": {
        "id": "T4rvgu8iGGXx"
      },
      "source": [
        "We need to define a function which returns this structure with the desired numerical values. For our simple case:"
      ]
    },
    {
      "cell_type": "code",
      "execution_count": 170,
      "metadata": {
        "id": "zqvsRkhyGGXx"
      },
      "outputs": [],
      "source": [
        "def p_fun_sim(t_now):\n",
        "    p_template_sim['alpha'] = 1\n",
        "    p_template_sim['beta'] = 1\n",
        "    p_template_sim['gamma'] = 1\n",
        "    return p_template_sim\n",
        "\n",
        "# Define the function for tvp (indexing is much simpler ...)\n",
        "def tvp_fun(t_now):\n",
        "    tvp_template['T_R_SP'] = 135\n",
        "    tvp_template['T_in_DIST'] = 0.0\n",
        "    tvp_template['C_b_SP'] = 0.6\n",
        "    tvp_template['CA_0_DIST'] = 0.0\n",
        "    return tvp_template"
      ]
    },
    {
      "cell_type": "markdown",
      "metadata": {
        "id": "_RGHAqcDGGXy"
      },
      "source": [
        "This function is now supplied to the `simulator` in the following way:"
      ]
    },
    {
      "cell_type": "code",
      "execution_count": 171,
      "metadata": {
        "id": "NlfB0mHsGGXy"
      },
      "outputs": [],
      "source": [
        "simulator.set_p_fun(p_fun_sim)\n",
        "\n",
        "# Set the tvp_fun:\n",
        "simulator.set_tvp_fun(tvp_fun)"
      ]
    },
    {
      "cell_type": "code",
      "execution_count": 172,
      "metadata": {
        "id": "hRAKu6-X_P-i"
      },
      "outputs": [],
      "source": [
        "simulator.setup()"
      ]
    },
    {
      "cell_type": "markdown",
      "metadata": {
        "id": "m3yd84IF_P-j"
      },
      "source": [
        "## Closed-loop simulation\n",
        "\n",
        "For the simulation of the MPC configured for the CSTR, we inspect the file **main.py**.\n",
        "We define the initial state of the system and set it for all parts of the closed-loop configuration:"
      ]
    },
    {
      "cell_type": "code",
      "execution_count": 173,
      "metadata": {
        "id": "vDiMkr2G_P-j"
      },
      "outputs": [],
      "source": [
        "# Set the initial state of mpc, simulator and estimator:\n",
        "C_a_0 = 5.1 # This is the initial concentration inside the tank [mol/l]\n",
        "C_b_0 = 0.1 # This is the controlled variable [mol/l]\n",
        "T_R_0 = 134.14 #[C]\n",
        "T_K_0 = 130.0 #[C]\n",
        "\n",
        "x0 = np.array([C_a_0, C_b_0, T_R_0, T_K_0]).reshape(-1,1)\n",
        "\n",
        "mpc.x0 = x0\n",
        "simulator.x0 = x0\n",
        "mhe.x0 = x0\n",
        "\n",
        "mhe.p_est0 = np.array([1, 1, 1])\n",
        "\n",
        "# Set the initial input of mpc, simulator and estimator:\n",
        "F_0 = 10 # This is the initial inlet flow rate [l/h]\n",
        "Q_dot_0 = -1 # This is the heat removed [kW]\n",
        "\n",
        "u0 = np.array([F_0, Q_dot_0]).reshape(-1,1)\n",
        "\n",
        "mpc.u0 = u0\n",
        "simulator.u0 = u0\n",
        "mhe.u0 = u0\n",
        "\n",
        "\n",
        "mpc.set_initial_guess()\n",
        "\n",
        "mhe.set_initial_guess()"
      ]
    },
    {
      "cell_type": "markdown",
      "metadata": {
        "id": "M2RNG7QQ_P-l"
      },
      "source": [
        "Now, we simulate the closed-loop for 50 steps (and suppress the output of the cell with the magic command `%%capture`):"
      ]
    },
    {
      "cell_type": "code",
      "execution_count": 174,
      "metadata": {
        "id": "McpX7LmB_P-l",
        "colab": {
          "base_uri": "https://localhost:8080/",
          "height": 432
        },
        "outputId": "b3db23e0-30e5-4a7e-cc56-244a85de3f14"
      },
      "outputs": [
        {
          "output_type": "error",
          "ename": "Exception",
          "evalue": "ignored",
          "traceback": [
            "\u001b[0;31m---------------------------------------------------------------------------\u001b[0m",
            "\u001b[0;31mException\u001b[0m                                 Traceback (most recent call last)",
            "\u001b[0;32m/usr/local/lib/python3.7/dist-packages/casadi/tools/structure3.py\u001b[0m in \u001b[0;36mtraverseByPowerIndex\u001b[0;34m(self, powerIndex, canonicalIndex, dispatcher, payload)\u001b[0m\n\u001b[1;32m    343\u001b[0m         \u001b[0;32mif\u001b[0m \u001b[0mis_string\u001b[0m\u001b[0;34m(\u001b[0m\u001b[0mp\u001b[0m\u001b[0;34m)\u001b[0m\u001b[0;34m:\u001b[0m\u001b[0;34m\u001b[0m\u001b[0;34m\u001b[0m\u001b[0m\n\u001b[0;32m--> 344\u001b[0;31m           return self.dict[p].traverseByPowerIndex(\n\u001b[0m\u001b[1;32m    345\u001b[0m             \u001b[0mpowerIndex\u001b[0m\u001b[0;34m[\u001b[0m\u001b[0;36m1\u001b[0m\u001b[0;34m:\u001b[0m\u001b[0;34m]\u001b[0m\u001b[0;34m,\u001b[0m\u001b[0;34m\u001b[0m\u001b[0;34m\u001b[0m\u001b[0m\n",
            "\u001b[0;32m/usr/local/lib/python3.7/dist-packages/casadi/tools/structure3.py\u001b[0m in \u001b[0;36m__getitem__\u001b[0;34m(self, k)\u001b[0m\n\u001b[1;32m    124\u001b[0m     \u001b[0;32mif\u001b[0m \u001b[0mk\u001b[0m \u001b[0;32mnot\u001b[0m \u001b[0;32min\u001b[0m \u001b[0mself\u001b[0m\u001b[0;34m:\u001b[0m\u001b[0;34m\u001b[0m\u001b[0;34m\u001b[0m\u001b[0m\n\u001b[0;32m--> 125\u001b[0;31m       \u001b[0;32mraise\u001b[0m \u001b[0mException\u001b[0m\u001b[0;34m(\u001b[0m\u001b[0;34m\"Unknown keyword '%s'. Available entries: %s\"\u001b[0m \u001b[0;34m%\u001b[0m \u001b[0;34m(\u001b[0m\u001b[0mk\u001b[0m\u001b[0;34m,\u001b[0m\u001b[0mstr\u001b[0m\u001b[0;34m(\u001b[0m\u001b[0mlist\u001b[0m\u001b[0;34m(\u001b[0m\u001b[0mself\u001b[0m\u001b[0;34m.\u001b[0m\u001b[0mkeys\u001b[0m\u001b[0;34m(\u001b[0m\u001b[0;34m)\u001b[0m\u001b[0;34m)\u001b[0m\u001b[0;34m)\u001b[0m\u001b[0;34m)\u001b[0m\u001b[0;34m)\u001b[0m\u001b[0;34m\u001b[0m\u001b[0;34m\u001b[0m\u001b[0m\n\u001b[0m\u001b[1;32m    126\u001b[0m     \u001b[0;32mreturn\u001b[0m \u001b[0mdict\u001b[0m\u001b[0;34m.\u001b[0m\u001b[0m__getitem__\u001b[0m\u001b[0;34m(\u001b[0m\u001b[0mself\u001b[0m\u001b[0;34m,\u001b[0m\u001b[0mk\u001b[0m\u001b[0;34m)\u001b[0m\u001b[0;34m\u001b[0m\u001b[0;34m\u001b[0m\u001b[0m\n",
            "\u001b[0;31mException\u001b[0m: Unknown keyword '_tvp'. Available entries: ['default', 'T_R_SP', 'T_in_DIST', 'C_b_SP', 'CA_0_DIST']",
            "\nThe above exception was the direct cause of the following exception:\n",
            "\u001b[0;31mException\u001b[0m                                 Traceback (most recent call last)",
            "\u001b[0;32m<ipython-input-174-560b448dd7ba>\u001b[0m in \u001b[0;36m<module>\u001b[0;34m()\u001b[0m\n\u001b[1;32m      1\u001b[0m \u001b[0;32mfor\u001b[0m \u001b[0mk\u001b[0m \u001b[0;32min\u001b[0m \u001b[0mrange\u001b[0m\u001b[0;34m(\u001b[0m\u001b[0;36m50\u001b[0m\u001b[0;34m)\u001b[0m\u001b[0;34m:\u001b[0m\u001b[0;34m\u001b[0m\u001b[0;34m\u001b[0m\u001b[0m\n\u001b[0;32m----> 2\u001b[0;31m     \u001b[0mu0\u001b[0m \u001b[0;34m=\u001b[0m \u001b[0mmpc\u001b[0m\u001b[0;34m.\u001b[0m\u001b[0mmake_step\u001b[0m\u001b[0;34m(\u001b[0m\u001b[0mx0\u001b[0m\u001b[0;34m)\u001b[0m\u001b[0;34m\u001b[0m\u001b[0;34m\u001b[0m\u001b[0m\n\u001b[0m\u001b[1;32m      3\u001b[0m     \u001b[0mv0\u001b[0m \u001b[0;34m=\u001b[0m \u001b[0;36m0.1\u001b[0m\u001b[0;34m*\u001b[0m\u001b[0mnp\u001b[0m\u001b[0;34m.\u001b[0m\u001b[0mrandom\u001b[0m\u001b[0;34m.\u001b[0m\u001b[0mrandn\u001b[0m\u001b[0;34m(\u001b[0m\u001b[0mmodel\u001b[0m\u001b[0;34m.\u001b[0m\u001b[0mn_v\u001b[0m\u001b[0;34m,\u001b[0m\u001b[0;36m1\u001b[0m\u001b[0;34m)\u001b[0m \u001b[0;31m# measurement noise\u001b[0m\u001b[0;34m\u001b[0m\u001b[0;34m\u001b[0m\u001b[0m\n\u001b[1;32m      4\u001b[0m     \u001b[0my_next\u001b[0m \u001b[0;34m=\u001b[0m \u001b[0msimulator\u001b[0m\u001b[0;34m.\u001b[0m\u001b[0mmake_step\u001b[0m\u001b[0;34m(\u001b[0m\u001b[0mu0\u001b[0m\u001b[0;34m,\u001b[0m \u001b[0mv0\u001b[0m\u001b[0;34m=\u001b[0m\u001b[0mv0\u001b[0m\u001b[0;34m)\u001b[0m\u001b[0;34m\u001b[0m\u001b[0;34m\u001b[0m\u001b[0m\n\u001b[1;32m      5\u001b[0m     \u001b[0mx0\u001b[0m \u001b[0;34m=\u001b[0m \u001b[0mmhe\u001b[0m\u001b[0;34m.\u001b[0m\u001b[0mmake_step\u001b[0m\u001b[0;34m(\u001b[0m\u001b[0my_next\u001b[0m\u001b[0;34m)\u001b[0m\u001b[0;34m\u001b[0m\u001b[0;34m\u001b[0m\u001b[0m\n",
            "\u001b[0;32m/usr/local/lib/python3.7/dist-packages/do_mpc/controller.py\u001b[0m in \u001b[0;36mmake_step\u001b[0;34m(self, x0)\u001b[0m\n\u001b[1;32m   1027\u001b[0m         \u001b[0;31m# Get current tvp, p and time (as well as previous u)\u001b[0m\u001b[0;34m\u001b[0m\u001b[0;34m\u001b[0m\u001b[0;34m\u001b[0m\u001b[0m\n\u001b[1;32m   1028\u001b[0m         \u001b[0mu_prev\u001b[0m \u001b[0;34m=\u001b[0m \u001b[0mself\u001b[0m\u001b[0;34m.\u001b[0m\u001b[0m_u0\u001b[0m\u001b[0;34m\u001b[0m\u001b[0;34m\u001b[0m\u001b[0m\n\u001b[0;32m-> 1029\u001b[0;31m         \u001b[0mtvp0\u001b[0m \u001b[0;34m=\u001b[0m \u001b[0mself\u001b[0m\u001b[0;34m.\u001b[0m\u001b[0mtvp_fun\u001b[0m\u001b[0;34m(\u001b[0m\u001b[0mself\u001b[0m\u001b[0;34m.\u001b[0m\u001b[0m_t0\u001b[0m\u001b[0;34m)\u001b[0m\u001b[0;34m\u001b[0m\u001b[0;34m\u001b[0m\u001b[0m\n\u001b[0m\u001b[1;32m   1030\u001b[0m         \u001b[0mp0\u001b[0m \u001b[0;34m=\u001b[0m \u001b[0mself\u001b[0m\u001b[0;34m.\u001b[0m\u001b[0mp_fun\u001b[0m\u001b[0;34m(\u001b[0m\u001b[0mself\u001b[0m\u001b[0;34m.\u001b[0m\u001b[0m_t0\u001b[0m\u001b[0;34m)\u001b[0m\u001b[0;34m\u001b[0m\u001b[0;34m\u001b[0m\u001b[0m\n\u001b[1;32m   1031\u001b[0m         \u001b[0mt0\u001b[0m \u001b[0;34m=\u001b[0m \u001b[0mself\u001b[0m\u001b[0;34m.\u001b[0m\u001b[0m_t0\u001b[0m\u001b[0;34m\u001b[0m\u001b[0;34m\u001b[0m\u001b[0m\n",
            "\u001b[0;32m<ipython-input-154-07cd1a22e5fd>\u001b[0m in \u001b[0;36mtvp_fun\u001b[0;34m(t_now)\u001b[0m\n\u001b[1;32m      6\u001b[0m \u001b[0;32mdef\u001b[0m \u001b[0mtvp_fun\u001b[0m\u001b[0;34m(\u001b[0m\u001b[0mt_now\u001b[0m\u001b[0;34m)\u001b[0m\u001b[0;34m:\u001b[0m\u001b[0;34m\u001b[0m\u001b[0;34m\u001b[0m\u001b[0m\n\u001b[1;32m      7\u001b[0m     \u001b[0;32mfor\u001b[0m \u001b[0mk\u001b[0m \u001b[0;32min\u001b[0m \u001b[0mrange\u001b[0m\u001b[0;34m(\u001b[0m\u001b[0mI\u001b[0m\u001b[0;34m)\u001b[0m\u001b[0;34m:\u001b[0m\u001b[0;34m\u001b[0m\u001b[0;34m\u001b[0m\u001b[0m\n\u001b[0;32m----> 8\u001b[0;31m         \u001b[0mtvp_template\u001b[0m\u001b[0;34m[\u001b[0m\u001b[0;34m'_tvp'\u001b[0m\u001b[0;34m,\u001b[0m\u001b[0mk\u001b[0m\u001b[0;34m,\u001b[0m\u001b[0;34m'T_R_SP'\u001b[0m\u001b[0;34m]\u001b[0m \u001b[0;34m=\u001b[0m \u001b[0;36m135\u001b[0m\u001b[0;34m\u001b[0m\u001b[0;34m\u001b[0m\u001b[0m\n\u001b[0m\u001b[1;32m      9\u001b[0m         \u001b[0mtvp_template\u001b[0m\u001b[0;34m[\u001b[0m\u001b[0;34m'_tvp'\u001b[0m\u001b[0;34m,\u001b[0m\u001b[0mk\u001b[0m\u001b[0;34m,\u001b[0m\u001b[0;34m'T_in_DIST'\u001b[0m\u001b[0;34m]\u001b[0m \u001b[0;34m=\u001b[0m \u001b[0;36m0.0\u001b[0m\u001b[0;34m\u001b[0m\u001b[0;34m\u001b[0m\u001b[0m\n\u001b[1;32m     10\u001b[0m         \u001b[0mtvp_template\u001b[0m\u001b[0;34m[\u001b[0m\u001b[0;34m'_tvp'\u001b[0m\u001b[0;34m,\u001b[0m\u001b[0mk\u001b[0m\u001b[0;34m,\u001b[0m\u001b[0;34m'C_b_SP'\u001b[0m\u001b[0;34m]\u001b[0m \u001b[0;34m=\u001b[0m \u001b[0;36m0.6\u001b[0m\u001b[0;34m\u001b[0m\u001b[0;34m\u001b[0m\u001b[0m\n",
            "\u001b[0;32m/usr/local/lib/python3.7/dist-packages/casadi/tools/structure3.py\u001b[0m in \u001b[0;36mproper\u001b[0;34m(self, mbt, *args)\u001b[0m\n\u001b[1;32m    116\u001b[0m     \u001b[0;32mif\u001b[0m \u001b[0;32mnot\u001b[0m \u001b[0misinstance\u001b[0m\u001b[0;34m(\u001b[0m\u001b[0mmbt\u001b[0m\u001b[0;34m,\u001b[0m\u001b[0mtuple\u001b[0m\u001b[0;34m)\u001b[0m\u001b[0;34m:\u001b[0m\u001b[0;34m\u001b[0m\u001b[0;34m\u001b[0m\u001b[0m\n\u001b[1;32m    117\u001b[0m       \u001b[0mmbt\u001b[0m \u001b[0;34m=\u001b[0m \u001b[0;34m(\u001b[0m\u001b[0mmbt\u001b[0m\u001b[0;34m,\u001b[0m\u001b[0;34m)\u001b[0m\u001b[0;34m\u001b[0m\u001b[0;34m\u001b[0m\u001b[0m\n\u001b[0;32m--> 118\u001b[0;31m     \u001b[0;32mreturn\u001b[0m \u001b[0mf\u001b[0m\u001b[0;34m(\u001b[0m\u001b[0mself\u001b[0m\u001b[0;34m,\u001b[0m\u001b[0mmbt\u001b[0m\u001b[0;34m,\u001b[0m\u001b[0;34m*\u001b[0m\u001b[0margs\u001b[0m\u001b[0;34m)\u001b[0m\u001b[0;34m\u001b[0m\u001b[0;34m\u001b[0m\u001b[0m\n\u001b[0m\u001b[1;32m    119\u001b[0m   \u001b[0;32mreturn\u001b[0m \u001b[0mproper\u001b[0m\u001b[0;34m\u001b[0m\u001b[0;34m\u001b[0m\u001b[0m\n\u001b[1;32m    120\u001b[0m \u001b[0;34m\u001b[0m\u001b[0m\n",
            "\u001b[0;32m/usr/local/lib/python3.7/dist-packages/casadi/tools/structure3.py\u001b[0m in \u001b[0;36m__setitem__\u001b[0;34m(self, powerIndex, value)\u001b[0m\n\u001b[1;32m    633\u001b[0m   \u001b[0;32mdef\u001b[0m \u001b[0m__setitem__\u001b[0m\u001b[0;34m(\u001b[0m\u001b[0mself\u001b[0m\u001b[0;34m,\u001b[0m\u001b[0mpowerIndex\u001b[0m\u001b[0;34m,\u001b[0m\u001b[0mvalue\u001b[0m\u001b[0;34m)\u001b[0m\u001b[0;34m:\u001b[0m\u001b[0;34m\u001b[0m\u001b[0;34m\u001b[0m\u001b[0m\n\u001b[1;32m    634\u001b[0m     return self.struct.traverseByPowerIndex(powerIndex,dispatcher=\n\u001b[0;32m--> 635\u001b[0;31m     SetterDispatcher(struct=self.struct,master=self.master,mtype=self.mtype),payload=value)\n\u001b[0m\u001b[1;32m    636\u001b[0m \u001b[0;34m\u001b[0m\u001b[0m\n\u001b[1;32m    637\u001b[0m \u001b[0;32mdef\u001b[0m \u001b[0mdelegation\u001b[0m\u001b[0;34m(\u001b[0m\u001b[0mextraIndex\u001b[0m\u001b[0;34m,\u001b[0m\u001b[0mentry\u001b[0m\u001b[0;34m,\u001b[0m\u001b[0mi\u001b[0m\u001b[0;34m)\u001b[0m\u001b[0;34m:\u001b[0m\u001b[0;34m\u001b[0m\u001b[0;34m\u001b[0m\u001b[0m\n",
            "\u001b[0;32m/usr/local/lib/python3.7/dist-packages/casadi/tools/structure3.py\u001b[0m in \u001b[0;36mtraverseByPowerIndex\u001b[0;34m(self, powerIndex, canonicalIndex, dispatcher, payload)\u001b[0m\n\u001b[1;32m    428\u001b[0m           \u001b[0;32mraise\u001b[0m \u001b[0mException\u001b[0m\u001b[0;34m(\u001b[0m\u001b[0;34m\"I don't know what to do with this: %s\"\u001b[0m \u001b[0;34m%\u001b[0m \u001b[0mstr\u001b[0m\u001b[0;34m(\u001b[0m\u001b[0mp\u001b[0m\u001b[0;34m)\u001b[0m\u001b[0;34m)\u001b[0m\u001b[0;34m\u001b[0m\u001b[0;34m\u001b[0m\u001b[0m\n\u001b[1;32m    429\u001b[0m       \u001b[0;32mexcept\u001b[0m \u001b[0mException\u001b[0m \u001b[0;32mas\u001b[0m \u001b[0me\u001b[0m\u001b[0;34m:\u001b[0m\u001b[0;34m\u001b[0m\u001b[0;34m\u001b[0m\u001b[0m\n\u001b[0;32m--> 430\u001b[0;31m         \u001b[0;32mraise\u001b[0m \u001b[0mException\u001b[0m\u001b[0;34m(\u001b[0m\u001b[0;34m\"Error occured in struct context with powerIndex %s, at canonicalIndex %s\"\u001b[0m \u001b[0;34m%\u001b[0m \u001b[0;34m(\u001b[0m\u001b[0mstr\u001b[0m\u001b[0;34m(\u001b[0m\u001b[0mpowerIndex\u001b[0m\u001b[0;34m)\u001b[0m\u001b[0;34m,\u001b[0m\u001b[0mstr\u001b[0m\u001b[0;34m(\u001b[0m\u001b[0mcanonicalIndex\u001b[0m\u001b[0;34m)\u001b[0m\u001b[0;34m)\u001b[0m\u001b[0;34m)\u001b[0m \u001b[0;32mfrom\u001b[0m \u001b[0me\u001b[0m\u001b[0;34m\u001b[0m\u001b[0;34m\u001b[0m\u001b[0m\n\u001b[0m\u001b[1;32m    431\u001b[0m \u001b[0;31m# Casadi-dependent Structure framework\u001b[0m\u001b[0;34m\u001b[0m\u001b[0;34m\u001b[0m\u001b[0;34m\u001b[0m\u001b[0m\n\u001b[1;32m    432\u001b[0m \u001b[0;34m\u001b[0m\u001b[0m\n",
            "\u001b[0;31mException\u001b[0m: Error occured in struct context with powerIndex ('_tvp', 0, 'T_R_SP'), at canonicalIndex ()"
          ]
        }
      ],
      "source": [
        "%%capture\n",
        "for k in range(50):\n",
        "    u0 = mpc.make_step(x0)\n",
        "    v0 = 0.1*np.random.randn(model.n_v,1) # measurement noise\n",
        "    y_next = simulator.make_step(u0, v0=v0)\n",
        "    x0 = mhe.make_step(y_next)"
      ]
    },
    {
      "cell_type": "markdown",
      "metadata": {
        "id": "hAu16_Zyhu3w"
      },
      "source": [
        "## Animating the results\n",
        "\n",
        "To animate the results, we first configure the **do-mpc** graphics object, which is initiated with the respective data object:"
      ]
    },
    {
      "cell_type": "code",
      "execution_count": 175,
      "metadata": {
        "id": "5bEwbTJ7hu3x"
      },
      "outputs": [],
      "source": [
        "mpc_graphics = do_mpc.graphics.Graphics(mpc.data)"
      ]
    },
    {
      "cell_type": "markdown",
      "metadata": {
        "id": "8BuTqvZKhu3x"
      },
      "source": [
        "We quickly configure Matplotlib."
      ]
    },
    {
      "cell_type": "code",
      "execution_count": 176,
      "metadata": {
        "id": "DL9_GYkohu3y"
      },
      "outputs": [],
      "source": [
        "from matplotlib import rcParams\n",
        "rcParams['axes.grid'] = True\n",
        "rcParams['font.size'] = 18"
      ]
    },
    {
      "cell_type": "markdown",
      "metadata": {
        "id": "BnGEbxwNhu3y"
      },
      "source": [
        "We then create a figure, configure which lines to plot on which axis and add labels."
      ]
    },
    {
      "cell_type": "code",
      "execution_count": 177,
      "metadata": {
        "id": "TWxIUiAlhu3z"
      },
      "outputs": [],
      "source": [
        "%%capture\n",
        "fig, ax = plt.subplots(6, sharex=True, figsize=(16,12))\n",
        "# Configure plot:\n",
        "mpc_graphics.add_line(var_type='_x', var_name='C_a', axis=ax[0], color='#FF00FF') # magenta\n",
        "mpc_graphics.add_line(var_type='_x', var_name='C_b', axis=ax[1], color='#2ca02c') # green CONTROL\n",
        "mpc_graphics.add_line(var_type='_x', var_name='T_R', axis=ax[2], color='#2ca02c') # green CONTROL\n",
        "mpc_graphics.add_line(var_type='_x', var_name='T_K', axis=ax[2], color='#DC143C') # crimson\n",
        "mpc_graphics.add_line(var_type='_aux', var_name='T_dif', axis=ax[3])\n",
        "mpc_graphics.add_line(var_type='_u', var_name='F', axis=ax[4], color='#ff7f0e') # orange INPUT\n",
        "mpc_graphics.add_line(var_type='_u', var_name='Q_dot', axis=ax[5], color='#ff7f0e') # orange INPUT\n",
        "ax[0].set_ylabel('$C_{A}(mol/L)$')\n",
        "ax[0].set_xlabel('time [h]')\n",
        "ax[1].set_ylabel('$C_{B}(mol/L)$')\n",
        "ax[1].set_xlabel('time [h]')\n",
        "ax[2].set_ylabel('$T(°C)$')\n",
        "ax[2].set_xlabel('time [h]')\n",
        "ax[3].set_ylabel('$\\Delta T [°C]$')\n",
        "ax[3].set_xlabel('time [h]')\n",
        "ax[4].set_ylabel('$F(L/h)$')\n",
        "ax[4].set_xlabel('time [h]')\n",
        "ax[5].set_ylabel('$\\dot{Q}(kW)$')\n",
        "ax[5].set_xlabel('time [h]')\n"
      ]
    },
    {
      "cell_type": "markdown",
      "metadata": {
        "id": "phyZJTJ9hu4C"
      },
      "source": [
        "Some \"cosmetic\" modifications are easily achieved with the structure ``pred_lines`` and ``result_lines``."
      ]
    },
    {
      "cell_type": "code",
      "execution_count": 178,
      "metadata": {
        "colab": {
          "base_uri": "https://localhost:8080/"
        },
        "outputId": "1af62539-8b38-40ad-ed8d-25a49a0eb9a7",
        "id": "Op4td12yhu4C"
      },
      "outputs": [
        {
          "output_type": "stream",
          "name": "stderr",
          "text": [
            "/usr/local/lib/python3.7/dist-packages/numpy/core/fromnumeric.py:86: VisibleDeprecationWarning: Creating an ndarray from ragged nested sequences (which is a list-or-tuple of lists-or-tuples-or ndarrays with different lengths or shapes) is deprecated. If you meant to do this, you must specify 'dtype=object' when creating the ndarray.\n",
            "  return ufunc.reduce(obj, axis, dtype, out, **passkwargs)\n"
          ]
        }
      ],
      "source": [
        "# Update properties for all prediction lines:\n",
        "for line_i in mpc_graphics.pred_lines.full:\n",
        "    line_i.set_linewidth(2)\n",
        "# Highlight nominal case:\n",
        "for line_i in np.sum(mpc_graphics.pred_lines['_x', :, :,0]):\n",
        "    line_i.set_linewidth(5)\n",
        "    line_i.set_color('#2ca02c') # green\n",
        "for line_i in np.sum(mpc_graphics.pred_lines['_u', :, :,0]):\n",
        "    line_i.set_linewidth(5)\n",
        "    line_i.set_color('#ff7f0e') # orange\n",
        "for line_i in np.sum(mpc_graphics.pred_lines['_aux', :, :,0]):\n",
        "    line_i.set_linewidth(5)\n",
        "\n",
        "# Add labels\n",
        "label_lines = mpc_graphics.result_lines['_x', 'C_a']\n",
        "ax[0].legend(label_lines, ['Reactor Concentration of A, $C_{A}$'])\n",
        "label_lines = mpc_graphics.result_lines['_x', 'C_b']\n",
        "ax[1].legend(label_lines, ['Reactor Concentration of B, $C_{B}$'])\n",
        "label_lines = mpc_graphics.result_lines['_x', 'T_R']+mpc_graphics.result_lines['_x', 'T_K']\n",
        "ax[2].legend(label_lines, ['Reactor Temperature, $T_{R}$', 'Jacket Temperature, $T_{K}$'])\n",
        "label_lines = mpc_graphics.result_lines['_aux', 'T_dif']\n",
        "ax[3].legend(label_lines, ['$T_{R}-T_{K}$'])\n",
        "label_lines = mpc_graphics.result_lines['_u', 'F']\n",
        "ax[4].legend(label_lines, ['Inlet Flow, $F$'])\n",
        "label_lines = mpc_graphics.result_lines['_u', 'Q_dot']\n",
        "ax[5].legend(label_lines, ['Heat Removed, $\\dot{Q}$'])\n",
        "\n",
        "# Make all predictions transparent:\n",
        "for line_i in mpc_graphics.pred_lines.full: line_i.set_alpha(0.2)\n",
        "\n",
        "fig.align_ylabels()"
      ]
    },
    {
      "cell_type": "code",
      "execution_count": 179,
      "metadata": {
        "colab": {
          "base_uri": "https://localhost:8080/",
          "height": 356
        },
        "id": "9xPOzqV6l17I",
        "outputId": "83f00cb1-7bf6-49fe-f81c-b83042ef4c8e"
      },
      "outputs": [
        {
          "output_type": "error",
          "ename": "IndexError",
          "evalue": "ignored",
          "traceback": [
            "\u001b[0;31m---------------------------------------------------------------------------\u001b[0m",
            "\u001b[0;31mIndexError\u001b[0m                                Traceback (most recent call last)",
            "\u001b[0;32m<ipython-input-179-dfdbe336361b>\u001b[0m in \u001b[0;36m<module>\u001b[0;34m()\u001b[0m\n\u001b[1;32m      1\u001b[0m \u001b[0;31m# Plot predictions from t=0\u001b[0m\u001b[0;34m\u001b[0m\u001b[0;34m\u001b[0m\u001b[0;34m\u001b[0m\u001b[0m\n\u001b[0;32m----> 2\u001b[0;31m \u001b[0mmpc_graphics\u001b[0m\u001b[0;34m.\u001b[0m\u001b[0mplot_predictions\u001b[0m\u001b[0;34m(\u001b[0m\u001b[0mt_ind\u001b[0m\u001b[0;34m=\u001b[0m\u001b[0;36m0\u001b[0m\u001b[0;34m)\u001b[0m\u001b[0;34m\u001b[0m\u001b[0;34m\u001b[0m\u001b[0m\n\u001b[0m\u001b[1;32m      3\u001b[0m \u001b[0;31m# Plot results until current time\u001b[0m\u001b[0;34m\u001b[0m\u001b[0;34m\u001b[0m\u001b[0;34m\u001b[0m\u001b[0m\n\u001b[1;32m      4\u001b[0m \u001b[0mmpc_graphics\u001b[0m\u001b[0;34m.\u001b[0m\u001b[0mplot_results\u001b[0m\u001b[0;34m(\u001b[0m\u001b[0;34m)\u001b[0m\u001b[0;34m\u001b[0m\u001b[0;34m\u001b[0m\u001b[0m\n\u001b[1;32m      5\u001b[0m \u001b[0mmpc_graphics\u001b[0m\u001b[0;34m.\u001b[0m\u001b[0mreset_axes\u001b[0m\u001b[0;34m(\u001b[0m\u001b[0;34m)\u001b[0m\u001b[0;34m\u001b[0m\u001b[0;34m\u001b[0m\u001b[0m\n",
            "\u001b[0;32m/usr/local/lib/python3.7/dist-packages/do_mpc/graphics.py\u001b[0m in \u001b[0;36mplot_predictions\u001b[0;34m(self, t_ind)\u001b[0m\n\u001b[1;32m    347\u001b[0m         \u001b[0;32massert\u001b[0m \u001b[0mabs\u001b[0m\u001b[0;34m(\u001b[0m\u001b[0mt_ind\u001b[0m\u001b[0;34m)\u001b[0m \u001b[0;34m<=\u001b[0m \u001b[0mn_elem\u001b[0m\u001b[0;34m,\u001b[0m \u001b[0;34m't_ind={} argument is out of range for recorded data with {} elements.'\u001b[0m\u001b[0;34m.\u001b[0m\u001b[0mformat\u001b[0m\u001b[0;34m(\u001b[0m\u001b[0mt_ind\u001b[0m\u001b[0;34m,\u001b[0m \u001b[0mn_elem\u001b[0m\u001b[0;34m)\u001b[0m\u001b[0;34m\u001b[0m\u001b[0;34m\u001b[0m\u001b[0m\n\u001b[1;32m    348\u001b[0m \u001b[0;34m\u001b[0m\u001b[0m\n\u001b[0;32m--> 349\u001b[0;31m         \u001b[0mt_now\u001b[0m \u001b[0;34m=\u001b[0m \u001b[0mself\u001b[0m\u001b[0;34m.\u001b[0m\u001b[0mdata\u001b[0m\u001b[0;34m.\u001b[0m\u001b[0m_time\u001b[0m\u001b[0;34m[\u001b[0m\u001b[0mt_ind\u001b[0m\u001b[0;34m]\u001b[0m\u001b[0;34m\u001b[0m\u001b[0;34m\u001b[0m\u001b[0m\n\u001b[0m\u001b[1;32m    350\u001b[0m         \u001b[0mt_step\u001b[0m \u001b[0;34m=\u001b[0m \u001b[0mself\u001b[0m\u001b[0;34m.\u001b[0m\u001b[0mdata\u001b[0m\u001b[0;34m.\u001b[0m\u001b[0mmeta_data\u001b[0m\u001b[0;34m[\u001b[0m\u001b[0;34m't_step'\u001b[0m\u001b[0;34m]\u001b[0m\u001b[0;34m\u001b[0m\u001b[0;34m\u001b[0m\u001b[0m\n\u001b[1;32m    351\u001b[0m \u001b[0;34m\u001b[0m\u001b[0m\n",
            "\u001b[0;31mIndexError\u001b[0m: index 0 is out of bounds for axis 0 with size 0"
          ]
        }
      ],
      "source": [
        "# Plot predictions from t=0\n",
        "mpc_graphics.plot_predictions(t_ind=0)\n",
        "# Plot results until current time\n",
        "mpc_graphics.plot_results()\n",
        "mpc_graphics.reset_axes()\n",
        "fig"
      ]
    },
    {
      "cell_type": "markdown",
      "metadata": {
        "id": "OruafrDchu4E"
      },
      "source": [
        "After importing the necessary package:"
      ]
    },
    {
      "cell_type": "code",
      "execution_count": null,
      "metadata": {
        "id": "tOE4sMHjhu4E"
      },
      "outputs": [],
      "source": [
        "from matplotlib.animation import FuncAnimation, ImageMagickWriter\n",
        "import matplotlib\n",
        "%matplotlib inline\n",
        "import matplotlib.pyplot as plt\n",
        "import matplotlib.animation as animation\n",
        "\n",
        "matplotlib.rc('animation', html='jshtml')"
      ]
    },
    {
      "cell_type": "markdown",
      "metadata": {
        "id": "HBlK6JSuhu4E"
      },
      "source": [
        "We obtain the animation with:"
      ]
    },
    {
      "cell_type": "code",
      "execution_count": null,
      "metadata": {
        "id": "iYVCLNoThu4F"
      },
      "outputs": [],
      "source": [
        "def update(t_ind):\n",
        "    print('Writing frame: {}.'.format(t_ind), end='\\r')\n",
        "    mpc_graphics.plot_results(t_ind=t_ind)\n",
        "    mpc_graphics.plot_predictions(t_ind=t_ind)\n",
        "    mpc_graphics.reset_axes()\n",
        "    lines = mpc_graphics.result_lines.full\n",
        "    return lines\n",
        "\n",
        "n_steps = mpc.data['_time'].shape[0]\n",
        "\n",
        "\n",
        "anim = FuncAnimation(fig, update, frames=n_steps, blit=True)\n",
        "\n",
        "gif_writer = ImageMagickWriter(fps=5)\n",
        "anim.save('anim_CSTR.gif', writer=gif_writer)"
      ]
    },
    {
      "cell_type": "code",
      "execution_count": null,
      "metadata": {
        "id": "qWC5txozhu4F"
      },
      "outputs": [],
      "source": [
        "anim"
      ]
    },
    {
      "cell_type": "markdown",
      "metadata": {
        "id": "6brSqRE7hu4G"
      },
      "source": [
        "Recorded trajectories are shown as solid lines, whereas predictions are dashed. We highlight the nominal prediction with a thicker line."
      ]
    },
    {
      "cell_type": "code",
      "execution_count": null,
      "metadata": {
        "id": "eEzIrLjlAUWT"
      },
      "outputs": [],
      "source": [
        "Writer = animation.writers['ffmpeg']\n",
        "writer = Writer(fps=15, metadata=dict(artist='Me'), bitrate=1800)\n",
        "anim.save('anim_CSTR.mp4', writer=writer)"
      ]
    },
    {
      "cell_type": "code",
      "execution_count": null,
      "metadata": {
        "id": "L8jVcAMeM59m"
      },
      "outputs": [],
      "source": [
        ""
      ]
    }
  ],
  "metadata": {
    "kernelspec": {
      "display_name": "Python 3 (ipykernel)",
      "language": "python",
      "name": "python3"
    },
    "language_info": {
      "codemirror_mode": {
        "name": "ipython",
        "version": 3
      },
      "file_extension": ".py",
      "mimetype": "text/x-python",
      "name": "python",
      "nbconvert_exporter": "python",
      "pygments_lexer": "ipython3",
      "version": "3.7.12"
    },
    "toc": {
      "base_numbering": 1,
      "nav_menu": {},
      "number_sections": true,
      "sideBar": true,
      "skip_h1_title": false,
      "title_cell": "Table of Contents",
      "title_sidebar": "Contents",
      "toc_cell": false,
      "toc_position": {},
      "toc_section_display": true,
      "toc_window_display": false
    },
    "colab": {
      "name": "MHE_do-MPC_vdv_disturb",
      "provenance": [],
      "collapsed_sections": []
    }
  },
  "nbformat": 4,
  "nbformat_minor": 0
}