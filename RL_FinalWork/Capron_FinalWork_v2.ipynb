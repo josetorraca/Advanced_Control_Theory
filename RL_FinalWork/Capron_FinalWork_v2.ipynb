{
  "nbformat": 4,
  "nbformat_minor": 0,
  "metadata": {
    "colab": {
      "name": "Capron_FinalWork_Environment.ipynb",
      "provenance": [],
      "collapsed_sections": []
    },
    "kernelspec": {
      "name": "python3",
      "display_name": "Python 3"
    },
    "language_info": {
      "name": "python"
    }
  },
  "cells": [
    {
      "cell_type": "markdown",
      "source": [
        "# **Environment: Water Level Control of a Tank**"
      ],
      "metadata": {
        "id": "BXpazClnrTlr"
      }
    },
    {
      "cell_type": "code",
      "source": [
        "# Building the custom environment for OpenAi Gym\n",
        "\n",
        "from gym import Env \n",
        "# Env is a placeholder class that allows us to build our environment\n",
        "\n",
        "from gym.spaces import Box\n",
        "# Superclass that is used to define observation and action spaces\n",
        "#`Box` is for continuing-space, `Discrete` for discrete-space and `Dict` for multiple input\n",
        "# https://github.com/openai/gym/blob/master/gym/spaces/box.py\n",
        "\"\"\"Implementation of a space that represents closed boxes in euclidean space.\"\"\"\n",
        "\"\"\"\n",
        "class Box(Space[np.ndarray]):\n",
        "    A (possibly unbounded) box in :math:`\\mathbb{R}^n`.\n",
        "    Specifically, a Box represents the Cartesian product of n closed intervals.\n",
        "    Each interval has the form of one of :math:`[a, b]`, :math:`(-\\infty, b]`,\n",
        "    :math:`[a, \\infty)`, or :math:`(-\\infty, \\infty)`.\n",
        "    There are two common use cases:\n",
        "    * Identical bound for each dimension::\n",
        "        >>> Box(low=-1.0, high=2.0, shape=(3, 4), dtype=np.float32)\n",
        "        Box(3, 4)\n",
        "    * Independent bound for each dimension::\n",
        "        >>> Box(low=np.array([-1.0, -2.0]), high=np.array([2.0, 4.0]), dtype=np.float32)\n",
        "        Box(2,)\n",
        "    \n",
        "\"\"\"\n",
        "import numpy as np\n",
        "import random\n",
        "\n",
        "# (This removes np.float32 warnings, but can be solved with np.float64 at \"box\" definition):\n",
        "# gym.logger.set_level(40) \n",
        "\n",
        "class Model(Env):\n",
        "# By passing Env to the class Model we defined, we inherit the methods and properties of OpenAI Gym\n",
        "\n",
        "    def __init__(self):\n",
        "\n",
        "        # Actions we can take, we only have the valve opening at each timestep (we consider a lower/upper bound of |0.01|)\n",
        "        self.action_space = Box(low=np.array([-0.01]), high=np.array([0.01]), dtype=np.float64)\n",
        "        # The function \"Box\" can support a tensor\n",
        "\n",
        "        # # Valve opening observation array (maximum physically possible opening of 1.0)\n",
        "        # self.valve_opening  = Box(low=np.array([0.00]), high=np.array([1.00]), dtype=np.float64)\n",
        "\n",
        "        # # Water Height observation array (assuming Maximum Height of Tank of 1.0 m)\n",
        "        # self.water_height = Box(low=np.array([0.00]), high=np.array([1.00]), dtype=np.float64)\n",
        "\n",
        "        # Inflow observation array (assuming Maximum Possible Flow of 150 m³/h) / remember: Inflow is not a state!\n",
        "        # self.inflow = Box(low=np.array([0.00]), high=np.array([150.00]), dtype=np.float64)\n",
        "\n",
        "        # Observation space array (only Valve opening and Water Height; both with lower bound 0.0 and upper bound 1.0)\n",
        "        self.observation_space = Box(low=0, high=1.00, shape=(1, 2), dtype=np.float64)\n",
        "\n",
        "        # Set observation space (reminder: flow isn't measured/ isn't a state)\n",
        "        # self.observation_space = (self.inflow , self.valve_opening, self.water_height)\n",
        "\n",
        "        ## Area of 3 m²\n",
        "        ## Diameter of 1.95441 m\n",
        "        self.tank_diameter = 1.95441\n",
        "\n",
        "        # Set initial states (we can instantiate them a bit randomly - 10% var):\n",
        "        # self.current_inflow = 100 + random.uniform(-10.00, 10.00)\n",
        "        # self.current_valve_opening = 0.5 + random.uniform(-0.05, 0.05)\n",
        "        # self.current_water_height = 0.5 + random.uniform(-0.05, 0.05)\n",
        "\n",
        "        self.current_inflow = 100\n",
        "        self.current_valve_opening = 0.5\n",
        "        self.current_water_height = 0.5\n",
        "\n",
        "        ##  Calculate Volume of Water inside Tank\n",
        "        ##  Maximum Possible Volume of 3.0 m³\n",
        "        self.current_water_volume = (((self.tank_diameter / 2) ** 2) * np.pi) * self.current_water_height\n",
        "\n",
        "        ## Valve coefficient (Cv) is given\n",
        "        self.valve_coefficient = 282.84\n",
        "\n",
        "        ## Setpoint in terms of the Usual Operation Height of 0.5 m \n",
        "        self.setpoint =  0.5\n",
        "\n",
        "        # Tolerance acceptable for setpoint error (in reward definition):\n",
        "        self.tolerance = 1e-4 # test 1e-6\n",
        "       \n",
        "        self.state = (self.current_water_volume, self.current_inflow , self.current_valve_opening, self.current_water_height, self.setpoint, self.error())\n",
        "\n",
        "        # Set episode length\n",
        "        ## Timestep = 0.01h\n",
        "        ## Episode total time = 2h (200 timesteps)\n",
        "        ## Total number of episodes = 2000\n",
        "        self.time_per_episode = 200\n",
        "\n",
        "        # Initialize time counter\n",
        "        self.time_step = 0\n",
        "\n",
        "    ## Provides current water height from the most up to date water volume\n",
        "    def update_water_height(self):\n",
        "        return self.current_water_volume / (((self.tank_diameter / 2) ** 2) * np.pi)   \n",
        "   \n",
        "    ## Calculates the non-linear outflow rate of water from the tank\n",
        "    def outflow(self):\n",
        "        return self.valve_coefficient * self.current_valve_opening * np.sqrt(abs(self.update_water_height())) \n",
        "\n",
        "    ## Error of water height from current set point\n",
        "    def error(self):\n",
        "        error=(self.update_water_height() - self.setpoint)\n",
        "        return error\n",
        "        \n",
        "    def step(self, action):\n",
        "\n",
        "        # Flow rate of water + disturbances\n",
        "        self.current_inflow = self.current_inflow + self.disturbance(self.time_step)\n",
        "\n",
        "        ## Current water volume in the tank\n",
        "        self.current_water_volume = self.current_water_volume + self.current_inflow - self.outflow()\n",
        "\n",
        "        ## Update current water height\n",
        "        self.current_water_height = self.update_water_height()\n",
        "\n",
        "        # Apply action (valve opening)\n",
        "        # Continuous: [-0.01, 0.01] at each timestep\n",
        "        self.current_valve_opening += action\n",
        "\n",
        "        # Add 1 Timestep = 0.01h\n",
        "        self.time_step += 1\n",
        "        \n",
        "        # Calculate reward\n",
        "        ## Reward: minus the square of height error -(m)^2\n",
        "        ## Our objective is to minimize this error (or negative reward)\n",
        "        # reward = -((self.error())**2)\n",
        "\n",
        "        if (self.error())**2 <= self.tolerance : \n",
        "            reward = 1 \n",
        "        else: \n",
        "            reward = -1 \n",
        "\n",
        "        ## Determine whether it is a terminal state\n",
        "        terminal = self.is_terminal(self.current_water_height)\n",
        "\n",
        "        # Set placeholder for info\n",
        "        info = {}\n",
        "\n",
        "        # Return step information\n",
        "        return self.retrieve_observation(), reward, terminal, info\n",
        "\n",
        "    ## The terminal state is reached if time step reaches more than 200 or if water level is at 2 extremes\n",
        "    def is_terminal(self, water_h):\n",
        "        if self.time_step >= self.time_per_episode-1 or self.current_water_height == 0 or self.current_water_height == 1:\n",
        "            return True\n",
        "        else:\n",
        "            return False\n",
        "\n",
        "    ## Disturbances on flow rate:\n",
        "    def disturbance(self, time):\n",
        "        if self.time_step == 10: #0.1 h\n",
        "            return 20\n",
        "        elif self.time_step == 100: #1.1 h\n",
        "            return -20\n",
        "        else:\n",
        "            return 0\n",
        "\n",
        "    ## Retrieve current state\n",
        "    def retrieve_observation(self):\n",
        "\n",
        "        self.state = (\n",
        "            self.current_water_volume, self.current_inflow , self.current_valve_opening, self.current_water_height, self.setpoint, self.error()\n",
        "        )\n",
        "        return self.state\n",
        "\n",
        "    def render(self):\n",
        "        # Implement visualization for a game environment for example\n",
        "        pass\n",
        "    \n",
        "    ## Reset the current state of the water tank. This involves time_step, water volume, input flow rate of water and error\n",
        "    def reset(self):\n",
        "\n",
        "        ## Set point remains fixed:\n",
        "        self.setpoint = 0.5\n",
        "\n",
        "        ## Reset time counter and other variables (we can instantiate them as before, a bit randomly)\n",
        "        self.time_step = 0\n",
        "        # self.current_inflow = 100 + random.uniform(-10.00, 10.00)\n",
        "        # self.current_valve_opening = 0.5 + random.uniform(-0.05, 0.05)\n",
        "        # self.current_water_height = 0.5 + random.uniform(-0.05, 0.05)\n",
        "\n",
        "        self.current_inflow = 100\n",
        "        self.current_valve_opening = 0.5\n",
        "        self.current_water_height = 0.5\n",
        "\n",
        "        return self.retrieve_observation()"
      ],
      "metadata": {
        "id": "dYsWQD3yUhoP"
      },
      "execution_count": 18,
      "outputs": []
    },
    {
      "cell_type": "code",
      "source": [
        "env = Model()"
      ],
      "metadata": {
        "id": "iGymX9b9hQAw"
      },
      "execution_count": 19,
      "outputs": []
    },
    {
      "cell_type": "code",
      "source": [
        "# Just to see if the bounds of observation space (H and Xv) are defined correctly\n",
        "\n",
        "a = env.observation_space.low\n",
        "print(a)\n",
        "\n",
        "b = env.observation_space.high\n",
        "print(b)"
      ],
      "metadata": {
        "colab": {
          "base_uri": "https://localhost:8080/"
        },
        "id": "jcrhfH7EqNKN",
        "outputId": "9434c17a-3725-4b6f-fc16-77b9c8df561a"
      },
      "execution_count": 12,
      "outputs": [
        {
          "output_type": "stream",
          "name": "stdout",
          "text": [
            "[[0. 0.]]\n",
            "[[1. 1.]]\n"
          ]
        }
      ]
    },
    {
      "cell_type": "code",
      "source": [
        "# getattr() – This function is used to access the attribute of object, like a class.\n",
        "\n",
        "print (getattr(env,'time_step')) \n",
        "print (getattr(env,'current_inflow')) \n",
        "print (getattr(env,'current_valve_opening')) \n",
        "print (getattr(env,'current_water_height')) \n",
        "print (getattr(env,'setpoint')) "
      ],
      "metadata": {
        "colab": {
          "base_uri": "https://localhost:8080/"
        },
        "id": "N-Wq_MxXcWSX",
        "outputId": "352062c4-0eb3-4b4c-a9eb-1ab2d8c7abea"
      },
      "execution_count": 13,
      "outputs": [
        {
          "output_type": "stream",
          "name": "stdout",
          "text": [
            "0\n",
            "100\n",
            "0.5\n",
            "0.5\n",
            "0.5\n"
          ]
        }
      ]
    },
    {
      "cell_type": "code",
      "source": [
        "#Python calling method (error) in class (model/'env')\n",
        "\n",
        "env.error()"
      ],
      "metadata": {
        "colab": {
          "base_uri": "https://localhost:8080/"
        },
        "id": "B8rVSzOdejQX",
        "outputId": "6c4a40ad-802f-49b4-b480-e10f308e3fcb"
      },
      "execution_count": 14,
      "outputs": [
        {
          "output_type": "execute_result",
          "data": {
            "text/plain": [
              "0.0"
            ]
          },
          "metadata": {},
          "execution_count": 14
        }
      ]
    },
    {
      "cell_type": "code",
      "source": [
        "env.update_water_height()"
      ],
      "metadata": {
        "colab": {
          "base_uri": "https://localhost:8080/"
        },
        "id": "M5UMjsEki75_",
        "outputId": "ba57e4b7-3c8e-4aeb-c649-9bcbf9e14143"
      },
      "execution_count": 15,
      "outputs": [
        {
          "output_type": "execute_result",
          "data": {
            "text/plain": [
              "0.5"
            ]
          },
          "metadata": {},
          "execution_count": 15
        }
      ]
    },
    {
      "cell_type": "code",
      "source": [
        "env.outflow()"
      ],
      "metadata": {
        "colab": {
          "base_uri": "https://localhost:8080/"
        },
        "id": "ztIyuSfSphfe",
        "outputId": "20163770-e465-481f-c075-a9550f054d4d"
      },
      "execution_count": 16,
      "outputs": [
        {
          "output_type": "execute_result",
          "data": {
            "text/plain": [
              "99.99904099540154"
            ]
          },
          "metadata": {},
          "execution_count": 16
        }
      ]
    },
    {
      "cell_type": "code",
      "source": [
        "# Python calling method (step) in class (model/'env')\n",
        "# Just to see 1 step, with an action of +0.01 on Xv (valve_opening)\n",
        "\n",
        "env.step(0.01)\n",
        "\n",
        "# Remember of the output we defined from retrieve.observation():\n",
        "# self.current_water_volume, self.current_inflow , self.current_valve_opening, self.current_water_height, self.setpoint, self.error()\n",
        "\n",
        "# And after we have also from the return of step(): \n",
        "# reward, terminal, info."
      ],
      "metadata": {
        "colab": {
          "base_uri": "https://localhost:8080/"
        },
        "id": "avycnFncf-jg",
        "outputId": "f7f49488-5ad3-498b-862a-41f19ab87863"
      },
      "execution_count": 20,
      "outputs": [
        {
          "output_type": "execute_result",
          "data": {
            "text/plain": [
              "((1.500958931515001,\n",
              "  100,\n",
              "  0.51,\n",
              "  0.5003196682150601,\n",
              "  0.5,\n",
              "  0.00031966821506013154),\n",
              " 1,\n",
              " False,\n",
              " {})"
            ]
          },
          "metadata": {},
          "execution_count": 20
        }
      ]
    },
    {
      "cell_type": "code",
      "source": [
        "env.outflow()"
      ],
      "metadata": {
        "colab": {
          "base_uri": "https://localhost:8080/"
        },
        "id": "e8d7avGapbp0",
        "outputId": "671f57bf-732a-4027-fd74-5dc996514053"
      },
      "execution_count": 21,
      "outputs": [
        {
          "output_type": "execute_result",
          "data": {
            "text/plain": [
              "102.03162245069028"
            ]
          },
          "metadata": {},
          "execution_count": 21
        }
      ]
    },
    {
      "cell_type": "code",
      "source": [
        "# Python calling method (step) in class (model/'env')\n",
        "# Just to see 1 step, with an action of +0.01 on Xv (valve_opening)\n",
        "\n",
        "env.step(0.01)\n",
        "\n",
        "# Remember of the output we defined from retrieve.observation():\n",
        "# self.current_water_volume, self.current_inflow , self.current_valve_opening, self.current_water_height, self.setpoint, self.error()\n",
        "\n",
        "# And after we have also from the return of step(): \n",
        "# reward, terminal, info."
      ],
      "metadata": {
        "colab": {
          "base_uri": "https://localhost:8080/"
        },
        "id": "STmvxfgjn7tG",
        "outputId": "90d363a4-ef30-449f-852a-2ceec665c9a0"
      },
      "execution_count": 22,
      "outputs": [
        {
          "output_type": "execute_result",
          "data": {
            "text/plain": [
              "((-0.5306635191752775,\n",
              "  100,\n",
              "  0.52,\n",
              "  -0.17688784834347585,\n",
              "  0.5,\n",
              "  -0.6768878483434758),\n",
              " -1,\n",
              " False,\n",
              " {})"
            ]
          },
          "metadata": {},
          "execution_count": 22
        }
      ]
    },
    {
      "cell_type": "code",
      "source": [
        "env.outflow()"
      ],
      "metadata": {
        "colab": {
          "base_uri": "https://localhost:8080/"
        },
        "id": "o07QqUj6oOkk",
        "outputId": "003da3cf-e239-4fa3-9ae8-563fe8d34700"
      },
      "execution_count": 23,
      "outputs": [
        {
          "output_type": "execute_result",
          "data": {
            "text/plain": [
              "61.85761508728306"
            ]
          },
          "metadata": {},
          "execution_count": 23
        }
      ]
    },
    {
      "cell_type": "code",
      "source": [
        "# This allows us to see numpy arrays with more precision\n",
        "# (print with a higher number of digits of precision for floating point output)\n",
        "\n",
        "np.set_printoptions(precision=4) "
      ],
      "metadata": {
        "id": "_odFivI0m7YR"
      },
      "execution_count": null,
      "outputs": []
    },
    {
      "cell_type": "code",
      "source": [
        "# Just to confirm that the observation space (of valve_opening) is a continuum between [0, 1]\n",
        "\n",
        "env.observation_space.sample()"
      ],
      "metadata": {
        "colab": {
          "base_uri": "https://localhost:8080/"
        },
        "id": "oHjjn5VyinJk",
        "outputId": "9929f12c-3528-44c9-e6f2-8afaa24bf1e5"
      },
      "execution_count": null,
      "outputs": [
        {
          "output_type": "execute_result",
          "data": {
            "text/plain": [
              "array([[0.1423, 0.2294]])"
            ]
          },
          "metadata": {},
          "execution_count": 34
        }
      ]
    },
    {
      "cell_type": "code",
      "source": [
        "# Just to confirm that the action space (of valve_opening) is a continuum between [-0.01, 0.01]\n",
        "\n",
        "env.action_space.sample()"
      ],
      "metadata": {
        "colab": {
          "base_uri": "https://localhost:8080/"
        },
        "id": "7LQO41lkiz23",
        "outputId": "06db92d7-6380-4f3f-8a4b-517f969ba254"
      },
      "execution_count": 17,
      "outputs": [
        {
          "output_type": "execute_result",
          "data": {
            "text/plain": [
              "array([-0.00626735])"
            ]
          },
          "metadata": {},
          "execution_count": 17
        }
      ]
    },
    {
      "cell_type": "code",
      "source": [
        "# Just to test the environment with random control actions\n",
        "# The score is similar to return (sum of rewards)\n",
        "\n",
        "episodes = 10\n",
        "for episode in range(1, episodes+1):\n",
        "    state = env.reset()\n",
        "    done = False\n",
        "    score = 0 \n",
        "    \n",
        "    while not done:\n",
        "        #env.render()\n",
        "        action = env.action_space.sample() #take a random action from the action space\n",
        "        n_state, reward, done, info = env.step(action)\n",
        "        score+=reward\n",
        "    print('Episode:{} Score:{}'.format(episode, score))"
      ],
      "metadata": {
        "id": "ICMqQ7nwm-DC",
        "colab": {
          "base_uri": "https://localhost:8080/"
        },
        "outputId": "35776bec-98bf-4fa8-d6f6-ab774d8288e6"
      },
      "execution_count": 38,
      "outputs": [
        {
          "output_type": "stream",
          "name": "stdout",
          "text": [
            "Episode:1 Score:-199\n",
            "Episode:2 Score:-199\n",
            "Episode:3 Score:-199\n",
            "Episode:4 Score:-199\n",
            "Episode:5 Score:-199\n",
            "Episode:6 Score:-199\n",
            "Episode:7 Score:-199\n",
            "Episode:8 Score:-199\n",
            "Episode:9 Score:-199\n",
            "Episode:10 Score:-199\n"
          ]
        }
      ]
    },
    {
      "cell_type": "markdown",
      "source": [
        "## **Sarsa ($\\lambda$) with Gaussian RBF approximation**"
      ],
      "metadata": {
        "id": "bPcC0CKFjUHN"
      }
    },
    {
      "cell_type": "code",
      "source": [
        "states = env.observation_space.shape\n",
        "# actions = env.action_space.n  # this is for discrete action space\n",
        "num_actions = env.action_space.shape"
      ],
      "metadata": {
        "id": "9OAPgMh91o6h"
      },
      "execution_count": null,
      "outputs": []
    },
    {
      "cell_type": "code",
      "source": [
        "num_actions\n",
        "# We have a tuple on the number of possible actions (actually is just one continuous action space \"valve_opening\")"
      ],
      "metadata": {
        "colab": {
          "base_uri": "https://localhost:8080/"
        },
        "id": "abHMS_La1rT_",
        "outputId": "eec5e1ae-1cd0-43e7-a821-88eca69f37b4"
      },
      "execution_count": null,
      "outputs": [
        {
          "output_type": "execute_result",
          "data": {
            "text/plain": [
              "(1,)"
            ]
          },
          "metadata": {},
          "execution_count": 38
        }
      ]
    },
    {
      "cell_type": "code",
      "source": [
        "#We need to transform this tuple on an integer (int doesn't work here)\n",
        "# Method 1: sum()\n",
        "t = (1, 2, 3)\n",
        "i = sum(t)\n",
        "print(i)"
      ],
      "metadata": {
        "colab": {
          "base_uri": "https://localhost:8080/"
        },
        "id": "LpajYHPX2xEh",
        "outputId": "36d57abc-806a-49d2-b3b1-00027576afc5"
      },
      "execution_count": null,
      "outputs": [
        {
          "output_type": "stream",
          "name": "stdout",
          "text": [
            "6\n"
          ]
        }
      ]
    },
    {
      "cell_type": "code",
      "source": [
        "xbar"
      ],
      "metadata": {
        "colab": {
          "base_uri": "https://localhost:8080/"
        },
        "id": "mNGfSYvawvNl",
        "outputId": "9f0b4c5d-6f13-4831-9153-caf3a3da2be3"
      },
      "execution_count": null,
      "outputs": [
        {
          "output_type": "execute_result",
          "data": {
            "text/plain": [
              "array([[0., 0.],\n",
              "       [1., 1.]])"
            ]
          },
          "metadata": {},
          "execution_count": 61
        }
      ]
    },
    {
      "cell_type": "code",
      "execution_count": null,
      "metadata": {
        "id": "isW4GCrqluDe",
        "colab": {
          "base_uri": "https://localhost:8080/",
          "height": 356
        },
        "outputId": "250f5676-ad71-44b3-b117-e3d062709c5b"
      },
      "outputs": [
        {
          "output_type": "error",
          "ename": "ValueError",
          "evalue": "ignored",
          "traceback": [
            "\u001b[0;31m---------------------------------------------------------------------------\u001b[0m",
            "\u001b[0;31mValueError\u001b[0m                                Traceback (most recent call last)",
            "\u001b[0;32m<ipython-input-65-71421a0b8985>\u001b[0m in \u001b[0;36m<module>\u001b[0;34m()\u001b[0m\n\u001b[1;32m     92\u001b[0m     \u001b[0me\u001b[0m \u001b[0;34m=\u001b[0m \u001b[0mnp\u001b[0m\u001b[0;34m.\u001b[0m\u001b[0mzeros\u001b[0m\u001b[0;34m(\u001b[0m\u001b[0;34m(\u001b[0m\u001b[0mnum_ind\u001b[0m\u001b[0;34m,\u001b[0m \u001b[0mnum_actions\u001b[0m\u001b[0;34m)\u001b[0m\u001b[0;34m)\u001b[0m\u001b[0;34m\u001b[0m\u001b[0;34m\u001b[0m\u001b[0m\n\u001b[1;32m     93\u001b[0m     \u001b[0mstate\u001b[0m \u001b[0;34m=\u001b[0m \u001b[0menv\u001b[0m\u001b[0;34m.\u001b[0m\u001b[0mreset\u001b[0m\u001b[0;34m(\u001b[0m\u001b[0;34m)\u001b[0m\u001b[0;34m\u001b[0m\u001b[0;34m\u001b[0m\u001b[0m\n\u001b[0;32m---> 94\u001b[0;31m     \u001b[0mactivations\u001b[0m \u001b[0;34m=\u001b[0m \u001b[0mphi\u001b[0m\u001b[0;34m(\u001b[0m\u001b[0mstate\u001b[0m\u001b[0;34m)\u001b[0m\u001b[0;34m\u001b[0m\u001b[0;34m\u001b[0m\u001b[0m\n\u001b[0m\u001b[1;32m     95\u001b[0m     \u001b[0;31m# print \"activations = \", np.reshape(activations.ravel(order='F'), (num_rows, num_cols))\u001b[0m\u001b[0;34m\u001b[0m\u001b[0;34m\u001b[0m\u001b[0;34m\u001b[0m\u001b[0m\n\u001b[1;32m     96\u001b[0m     \u001b[0mvals\u001b[0m \u001b[0;34m=\u001b[0m \u001b[0maction_values\u001b[0m\u001b[0;34m(\u001b[0m\u001b[0mactivations\u001b[0m\u001b[0;34m,\u001b[0m \u001b[0mtheta\u001b[0m\u001b[0;34m)\u001b[0m\u001b[0;34m\u001b[0m\u001b[0;34m\u001b[0m\u001b[0m\n",
            "\u001b[0;32m<ipython-input-65-71421a0b8985>\u001b[0m in \u001b[0;36mphi\u001b[0;34m(_state)\u001b[0m\n\u001b[1;32m     61\u001b[0m     \u001b[0m_phi\u001b[0m \u001b[0;34m=\u001b[0m \u001b[0mnp\u001b[0m\u001b[0;34m.\u001b[0m\u001b[0mzeros\u001b[0m\u001b[0;34m(\u001b[0m\u001b[0mnum_ind\u001b[0m\u001b[0;34m)\u001b[0m\u001b[0;34m\u001b[0m\u001b[0;34m\u001b[0m\u001b[0m\n\u001b[1;32m     62\u001b[0m     \u001b[0;32mfor\u001b[0m \u001b[0m_k\u001b[0m \u001b[0;32min\u001b[0m \u001b[0mrange\u001b[0m\u001b[0;34m(\u001b[0m\u001b[0mnum_ind\u001b[0m\u001b[0;34m)\u001b[0m\u001b[0;34m:\u001b[0m\u001b[0;34m\u001b[0m\u001b[0;34m\u001b[0m\u001b[0m\n\u001b[0;32m---> 63\u001b[0;31m         \u001b[0m_phi\u001b[0m\u001b[0;34m[\u001b[0m\u001b[0m_k\u001b[0m\u001b[0;34m]\u001b[0m \u001b[0;34m=\u001b[0m \u001b[0mnp\u001b[0m\u001b[0;34m.\u001b[0m\u001b[0mexp\u001b[0m\u001b[0;34m(\u001b[0m\u001b[0;34m-\u001b[0m\u001b[0mnp\u001b[0m\u001b[0;34m.\u001b[0m\u001b[0mlinalg\u001b[0m\u001b[0;34m.\u001b[0m\u001b[0mnorm\u001b[0m\u001b[0;34m(\u001b[0m\u001b[0m_state\u001b[0m \u001b[0;34m-\u001b[0m \u001b[0mc\u001b[0m\u001b[0;34m[\u001b[0m\u001b[0m_k\u001b[0m\u001b[0;34m,\u001b[0m \u001b[0;34m:\u001b[0m\u001b[0;34m]\u001b[0m\u001b[0;34m)\u001b[0m \u001b[0;34m**\u001b[0m \u001b[0;36m2\u001b[0m \u001b[0;34m/\u001b[0m \u001b[0mrbf_den\u001b[0m\u001b[0;34m)\u001b[0m\u001b[0;34m\u001b[0m\u001b[0;34m\u001b[0m\u001b[0m\n\u001b[0m\u001b[1;32m     64\u001b[0m     \u001b[0;32mreturn\u001b[0m \u001b[0m_phi\u001b[0m\u001b[0;34m\u001b[0m\u001b[0;34m\u001b[0m\u001b[0m\n\u001b[1;32m     65\u001b[0m \u001b[0;34m\u001b[0m\u001b[0m\n",
            "\u001b[0;31mValueError\u001b[0m: operands could not be broadcast together with shapes (5,) (2,) "
          ]
        }
      ],
      "source": [
        "# SARSA-lambda with Gaussian radial basis functions for action-value approximation\n",
        "# Implemented for the OpenAI gym mountain-car environment\n",
        "\n",
        "import gym\n",
        "import numpy as np\n",
        "import matplotlib.pyplot as plt\n",
        "\n",
        "# Initializations\n",
        "env = Model()\n",
        "states = env.observation_space.shape\n",
        "# actions = env.action_space.n  # this is for discrete action space\n",
        "num_actions = env.action_space.shape\n",
        "num_actions_int  = sum(num_actions)  # transforming tuple on integer\n",
        "dim = env.observation_space.high.size\n",
        "\n",
        "num_actions = 3\n",
        "\n",
        "# Parameters\n",
        "# eps = 0.1, Lambda = 0.5, alpha = 0.008, gamma = 0.99\n",
        "num_rbf = 4 * np.ones(num_actions).astype(int)\n",
        "width = 1. / (num_rbf - 1.)\n",
        "rbf_sigma = width[0] / 2.\n",
        "epsilon = 0.1\n",
        "epsilon_final = 0.1\n",
        "Lambda = 0.5\n",
        "alpha = 0.01\n",
        "gamma = 0.99\n",
        "num_episodes = 2000\n",
        "num_timesteps = 200\n",
        "\n",
        "xbar = np.zeros((2, dim))\n",
        "xbar[0, :] = env.observation_space.low\n",
        "xbar[1, :] = env.observation_space.high\n",
        "num_ind = np.prod(num_rbf)\n",
        "activations = np.zeros(num_ind)\n",
        "new_activations = np.zeros(num_ind)\n",
        "theta = np.zeros((num_ind, num_actions))\n",
        "rbf_den = 2 * rbf_sigma ** 2\n",
        "epsilon_coefficient = (epsilon - epsilon_final) ** (1. / num_episodes)\n",
        "ep_length = np.zeros(num_episodes)\n",
        "np.set_printoptions(precision=2)\n",
        "\n",
        "\n",
        "# Construct ndarray of rbf centers\n",
        "c = np.zeros((num_ind, dim))\n",
        "for i in range(num_rbf[0]):\n",
        "    for j in range(num_rbf[1]):\n",
        "        c[i*num_rbf[1] + j, :] = (i * width[1], j * width[0])\n",
        "\n",
        "\n",
        "# Returns the state scaled between 0 and 1\n",
        "# def normalize_state(_s):\n",
        "#     _y = np.zeros(len(_s))\n",
        "#     for _i in range(len(_s)):\n",
        "#         _y[_i] = (_s[_i] - xbar[0, _i]) / (xbar[1, _i] - xbar[0, _i])\n",
        "#     return _y\n",
        "\n",
        "\n",
        "# Returns an ndarray of radial basis function activations\n",
        "def phi(_state):\n",
        "    _phi = np.zeros(num_ind)\n",
        "    for _k in range(num_ind):\n",
        "        _phi[_k] = np.exp(-np.linalg.norm(_state - c[_k, :]) ** 2 / rbf_den)\n",
        "    return _phi\n",
        "\n",
        "\n",
        "# Returns an action following an epsilon-greedy policy\n",
        "def epsilon_greedy(_epsilon, _vals):\n",
        "    _rand = np.random.random()\n",
        "    if _rand < 1. - _epsilon:\n",
        "        _action = _vals.argmax()\n",
        "    else:\n",
        "        _action = env.action_space.sample()\n",
        "    return int(_action)\n",
        "\n",
        "\n",
        "# Returns the value of each action at some state\n",
        "def action_values(_activations, _theta):\n",
        "    _val = np.dot(_theta.T, _activations)\n",
        "    return _val\n",
        "\n",
        "\n",
        "# Returns the value of an action at some state\n",
        "def action_value(_activations, _action, _theta):\n",
        "    _val = np.dot(_theta[:, _action], _activations)\n",
        "    return _val\n",
        "\n",
        "\n",
        "# SARSA loop\n",
        "for ep in range(num_episodes):\n",
        "\n",
        "    e = np.zeros((num_ind, num_actions))\n",
        "    state = env.reset()\n",
        "    activations = phi(state)\n",
        "    # print \"activations = \", np.reshape(activations.ravel(order='F'), (num_rows, num_cols))\n",
        "    vals = action_values(activations, theta)\n",
        "    action = epsilon_greedy(epsilon, vals)\n",
        "\n",
        "    # Each episode\n",
        "    for t in range(num_timesteps):\n",
        "\n",
        "        # env.render()\n",
        "        new_state, reward, done, info = env.step(action)\n",
        "        # new_state = normalize_state(new_state)\n",
        "        new_activations = phi(new_state)\n",
        "        new_vals = action_values(new_activations, theta)\n",
        "        new_action = epsilon_greedy(epsilon, new_vals)\n",
        "        Q = action_value(activations, action, theta)\n",
        "        Q_new = action_value(new_activations, new_action, theta)\n",
        "        if done:\n",
        "            target = reward - Q\n",
        "        else:\n",
        "            target = reward + gamma * Q_new - Q\n",
        "        # e[:, action] += activations  # accumulating traces\n",
        "        e[:, action] = activations  # replacing traces\n",
        "\n",
        "        for k in range(num_ind):\n",
        "            for a in range(num_actions):\n",
        "                theta[k, a] += alpha * target * e[k, a]\n",
        "        e *= gamma * Lambda\n",
        "\n",
        "        if t % 1 != 0:\n",
        "            # print \"t = \", t\n",
        "            # print \"new_state = \", new_state\n",
        "            # print \"new_activations = \", np.reshape(new_activations.ravel(order='F'), (num_rows, num_cols))\n",
        "            # print \"new_vals\", new_vals\n",
        "            # print \"Q = \", Q\n",
        "            # print \"Q_new = \", Q_new\n",
        "            # print \"action = \", action\n",
        "            # print \"target = \", target\n",
        "            # print \"e =\", e\n",
        "            # print \"theta = \\n\", np.reshape(theta.ravel(order='F'), (num_actions, num_rows, num_cols))\n",
        "            # print \"---------------------------------------------------------------------------\"\n",
        "\n",
        "          state = new_state.copy()\n",
        "          activations = new_activations.copy()\n",
        "          action = new_action\n",
        "        if done:\n",
        "            break\n",
        "\n",
        "    ep_length[ep] = t\n",
        "    # print \"t = \", t\n",
        "    epsilon *= epsilon_coefficient\n",
        "\n",
        "\n",
        "value_left = np.zeros(num_ind)\n",
        "value_nothing = np.zeros(num_ind)\n",
        "value_right = np.zeros(num_ind)\n",
        "\n",
        "# Display each action-value as a heatmap\n",
        "for h in range(num_ind):\n",
        "    current_activations = phi(c[h, :])\n",
        "    value_left[h] += action_value(current_activations, 0, theta)\n",
        "    value_nothing[h] += action_value(current_activations, 1, theta)\n",
        "    value_right[h] += action_value(current_activations, 2, theta)\n",
        "\n",
        "plt.close('all')\n",
        "fig, axes = plt.subplots(ncols=3, sharey=True)\n",
        "plt.setp(axes.flat, aspect=1.0, adjustable='box')\n",
        "im = axes[0].imshow(value_left.reshape((8, 8)), cmap='hot')\n",
        "axes[0].set_title('Action = left')\n",
        "axes[0].set_ylabel('Position')\n",
        "axes[0].set_xlabel('Velocity')\n",
        "im = axes[1].imshow(value_nothing.reshape((8, 8)), cmap='hot')\n",
        "axes[1].set_title('Action = nothing')\n",
        "im = axes[2].imshow(value_right.reshape((8, 8)), cmap='hot')\n",
        "axes[2].set_title('Action = right')\n",
        "# fig.subplots_adjust(bottom=0.2)\n",
        "# cbar_ax = fig.add_axes([0.15, 0.15, 0.7, 0.05])\n",
        "# cbar = fig.colorbar(im, cax=cbar_ax, orientation='horizontal')\n",
        "# plt.axis([0, 1, 0, 1])\n",
        "\n",
        "plt.figure(2)\n",
        "plt.plot(ep_length)\n",
        "plt.title('Episode Length')\n",
        "plt.ylabel('Completion Time')\n",
        "plt.xlabel('Episode')\n",
        "plt.show()"
      ]
    },
    {
      "cell_type": "code",
      "source": [
        "fig, axes = plt.subplots(ncols=3, sharey=True)\n",
        "plt.setp(axes.flat, aspect=1.0, adjustable='box')\n",
        "im = axes[0].imshow(value_left.reshape((8, 8)), cmap='hot')\n",
        "axes[0].set_title('Action = left')\n",
        "axes[0].set_ylabel('Position')\n",
        "axes[0].set_xlabel('Velocity')\n",
        "im = axes[1].imshow(value_nothing.reshape((8, 8)), cmap='hot')\n",
        "axes[1].set_title('Action = nothing')\n",
        "im = axes[2].imshow(value_right.reshape((8, 8)), cmap='hot')\n",
        "axes[2].set_title('Action = right')"
      ],
      "metadata": {
        "colab": {
          "base_uri": "https://localhost:8080/",
          "height": 193
        },
        "id": "cNgIFS1zo_sM",
        "outputId": "f64af52a-4e89-4b11-ce9b-ba15a5f93cd7"
      },
      "execution_count": null,
      "outputs": [
        {
          "output_type": "execute_result",
          "data": {
            "text/plain": [
              "Text(0.5, 1.0, 'Action = right')"
            ]
          },
          "metadata": {},
          "execution_count": 3
        },
        {
          "output_type": "display_data",
          "data": {
            "text/plain": [
              "<Figure size 432x288 with 3 Axes>"
            ],
            "image/png": "[encoded data removed]"
          },
          "metadata": {
            "needs_background": "light"
          }
        }
      ]
    },
    {
      "cell_type": "code",
      "source": [
        "plt.figure(2)\n",
        "plt.plot(ep_length)\n",
        "plt.title('Episode Length')\n",
        "plt.ylabel('Completion Time')\n",
        "plt.xlabel('Episode')\n",
        "plt.show()"
      ],
      "metadata": {
        "colab": {
          "base_uri": "https://localhost:8080/",
          "height": 295
        },
        "id": "pch3ExyvpAOr",
        "outputId": "043284e8-cef9-42e6-cf44-338b1cd0878c"
      },
      "execution_count": null,
      "outputs": [
        {
          "output_type": "display_data",
          "data": {
            "text/plain": [
              "<Figure size 432x288 with 1 Axes>"
            ],
            "image/png": "[encoded data removed]"
          },
          "metadata": {
            "needs_background": "light"
          }
        }
      ]
    }
  ]
}