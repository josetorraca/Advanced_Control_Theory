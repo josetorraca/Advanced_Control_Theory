{
  "nbformat": 4,
  "nbformat_minor": 0,
  "metadata": {
    "colab": {
      "name": "Capron_FinalWork_Environment.ipynb",
      "provenance": [],
      "collapsed_sections": []
    },
    "kernelspec": {
      "name": "python3",
      "display_name": "Python 3"
    },
    "language_info": {
      "name": "python"
    }
  },
  "cells": [
    {
      "cell_type": "markdown",
      "source": [
        "# **Environment: Water Level Control of a Tank**"
      ],
      "metadata": {
        "id": "BXpazClnrTlr"
      }
    },
    {
      "cell_type": "code",
      "source": [
        "# Building the custom environment for OpenAi Gym\n",
        "\n",
        "from gym import Env \n",
        "# Env is a placeholder class that allows us to build our environment\n",
        "\n",
        "from gym.spaces import Box\n",
        "# Superclass that is used to define observation and action spaces\n",
        "#`Box` is for continuing-space, `Discrete` for discrete-space and `Dict` for multiple input\n",
        "\n",
        "import numpy as np\n",
        "import random\n",
        "\n",
        "# (This removes np.float32 warnings, but can be solved with np.float64 at \"box\" definition):\n",
        "# gym.logger.set_level(40) \n",
        "\n",
        "class Model(Env):\n",
        "# By passing Env to the class Model we defined, we inherit the methods and properties of OpenAI Gym\n",
        "\n",
        "    def __init__(self):\n",
        "\n",
        "        # Actions we can take, we only have the valve opening at each timestep (we consider a lower/upper bound of |0.01|)\n",
        "        self.action_space = Box(low=np.array([-0.01]), high=np.array([0.01]), dtype=np.float64)\n",
        "        # The function \"Box\" can support a tensor\n",
        "\n",
        "        # Valve opening observation array (maximum physically possible opening of 1.0)\n",
        "        self.valve_opening  = Box(low=np.array([0.00]), high=np.array([1.00]), dtype=np.float64)\n",
        "\n",
        "        # Water Height observation array (assuming Maximum Height of Tank of 1.0 m)\n",
        "        self.water_height = Box(low=np.array([0.00]), high=np.array([1.00]), dtype=np.float64)\n",
        "\n",
        "        # Inflow observation array (assuming Maximum Possible Flow of 150 m³/h) / remember: Inflow is not a state!\n",
        "        self.inflow = Box(low=np.array([0.00]), high=np.array([150.00]), dtype=np.float64)\n",
        "\n",
        "        ## Assuming Maximum Possible Flow of 150 m³/h\n",
        "\n",
        "        ## Area of 3 m²\n",
        "        ## Diameter of 1.95441 m\n",
        "        self.tank_diameter = 1.95441\n",
        "\n",
        "        ##  Calculate Volume of Water inside Tank\n",
        "        ##  Maximum Possible Volume of 3.0 m³\n",
        "        self.current_water_volume = (((self.tank_diameter / 2) ** 2) * np.pi) * self.water_height\n",
        "\n",
        "        ## Valve coefficient (Cv) is given\n",
        "        self.valve_coefficient = 282.84\n",
        "\n",
        "        ## Setpoint in terms of the Usual Operation Height of 0.5 m \n",
        "        self.setpoint =  0.5\n",
        "\n",
        "        # Set observation space (reminder: flow isn't measured/ isn't a state)\n",
        "        self.observation_space = (self.inflow , self.valve_opening, self.water_height)\n",
        "\n",
        "        # Set initial states (we can instantiate them a bit randomly):\n",
        "        self.current_inflow = 100 + random.uniform(-1.00, 1.00)\n",
        "        self.current_valve_opening = 0.5 + random.uniform(-0.10, 0.10)\n",
        "        self.current_water_height = 0.5 + random.uniform(-0.10, 0.10)\n",
        "        \n",
        "        self.state = (self.current_inflow , self.current_valve_opening, self.current_water_height, self.setpoint, self.error())\n",
        "\n",
        "        # Set episode length\n",
        "        ## Timestep = 0.01h\n",
        "        ## Episode total time = 2h (200 timesteps)\n",
        "        ## Total number of episodes = 2000\n",
        "        self.time_per_episode = 200\n",
        "\n",
        "        # Initialize time counter\n",
        "        self.time_step = 0\n",
        "\n",
        "    ## Calculates the non-linear outflow rate of water from the tank\n",
        "    def outflow(self):\n",
        "        return self.valve_coefficient * self.valve_opening * np.sqrt(self.water_height)\n",
        "\n",
        "    ## Provides current water height from the most up to date water volume\n",
        "    def update_water_height(self):\n",
        "        return self.current_water_volume / (((self.tank_diameter / 2) ** 2) * np.pi)\n",
        "\n",
        "    ## Error of water height from current set point\n",
        "    def error(self):\n",
        "        error=(self.update_water_height - self.setpoint)\n",
        "        return error\n",
        "        \n",
        "    def step(self, action):\n",
        "\n",
        "        # Flow rate of water + disturbances\n",
        "        self.current_inflow = self.current_inflow + disturbance(self.time_step)\n",
        "\n",
        "        ## Current water volume in the tank\n",
        "        self.current_water_volume = self.current_water_volume + self.current_inflow - self.outflow()\n",
        "\n",
        "        # Apply action (valve opening)\n",
        "        # Continuous: [-0.01, 0.01] at each timestep\n",
        "        self.current_valve_opening += action\n",
        "\n",
        "        # Add 1 Timestep = 0.01h\n",
        "        self.time_step += 1\n",
        "        \n",
        "        # Calculate reward\n",
        "        ## Reward: minus the square of height error -(m)^2\n",
        "        ## Our objective is to minimize this error (or negative reward)\n",
        "        reward = -((error)**2)\n",
        "\n",
        "        ## Determine whether it is a terminal state\n",
        "        terminal = self.is_terminal(self.update_water_height)\n",
        "\n",
        "        # Set placeholder for info\n",
        "        info = {}\n",
        "\n",
        "        # Return step information\n",
        "        return self.retrieve_observation(), reward, terminal, info\n",
        "\n",
        "    ## The terminal state is reached if time step reaches more than 200 or if water level is at 2 extremes\n",
        "    def is_terminal(self, water_h):\n",
        "        if self.time_step >= self.time_per_episode-1 or update_water_height == 0 or update_water_height == 1:\n",
        "            return True\n",
        "        else:\n",
        "            return False\n",
        "\n",
        "    ## Disturbances on flow rate:\n",
        "    def disturbance(self):\n",
        "        if self.time_step == 10: #0.1 h\n",
        "            return 20\n",
        "        elif self.time_step == 100: #1.1 h\n",
        "            return -20\n",
        "        else:\n",
        "            return 0\n",
        "\n",
        "    ## Retrieve current state\n",
        "    def retrieve_observation(self):\n",
        "\n",
        "        self.state = (\n",
        "            self.current_inflow , self.current_valve_opening, self.current_water_height, self.setpoint, self.error()\n",
        "        )\n",
        "        return self.state\n",
        "\n",
        "    def render(self):\n",
        "        # Implement visualization for a game environment for example\n",
        "        pass\n",
        "    \n",
        "    ## Reset the current state of the water tank. This involves time_step, water volume, input flow rate of water and error\n",
        "    def reset(self):\n",
        "\n",
        "        ## Set point remains fixed:\n",
        "        self.setpoint = 0.5\n",
        "\n",
        "        ## Reset time counter and other variables (we can instantiate them as before, a bit randomly)\n",
        "        self.time_step = 0\n",
        "        self.current_inflow = 100 + random.uniform(-1.00, 1.00)\n",
        "        self.current_valve_opening = 0.5 + random.uniform(-0.10, 0.10)\n",
        "        self.current_water_height = 0.5 + random.uniform(-0.10, 0.10)\n",
        "\n",
        "        return self.retrieve_observation()\n",
        "\n",
        "    ## Reset the current state of the water tank. This involves time_step, water volume, input flow rate of water and error\n",
        "    def reset(self):\n",
        "\n",
        "        ## Set point remains fixed and water volume in the tank is adjusted randomly at a level of 10–90%:\n",
        "        self.setpoint = (((self.tank_diameter / 2) ** 2) * np.pi) * 0.5\n",
        "        \n",
        "        self.time_step = 0\n",
        "        self.current_inflow = 100 + random.uniform(-1.00, 1.00)\n",
        "        self.current_valve_opening = 0.5 + random.uniform(-0.10, 0.10)\n",
        "        self.current_water_height = 0.5 + random.uniform(-0.10, 0.10)\n",
        "        \n",
        "        return self.retrieve_observation()"
      ],
      "metadata": {
        "id": "dYsWQD3yUhoP"
      },
      "execution_count": 1,
      "outputs": []
    },
    {
      "cell_type": "code",
      "source": [
        "env = Model()"
      ],
      "metadata": {
        "id": "iGymX9b9hQAw",
        "colab": {
          "base_uri": "https://localhost:8080/",
          "height": 287
        },
        "outputId": "cc3e6fbe-5c26-4101-b920-20e7de197356"
      },
      "execution_count": 2,
      "outputs": [
        {
          "output_type": "error",
          "ename": "TypeError",
          "evalue": "ignored",
          "traceback": [
            "\u001b[0;31m---------------------------------------------------------------------------\u001b[0m",
            "\u001b[0;31mTypeError\u001b[0m                                 Traceback (most recent call last)",
            "\u001b[0;32m<ipython-input-2-c67521688440>\u001b[0m in \u001b[0;36m<module>\u001b[0;34m()\u001b[0m\n\u001b[0;32m----> 1\u001b[0;31m \u001b[0menv\u001b[0m \u001b[0;34m=\u001b[0m \u001b[0mModel\u001b[0m\u001b[0;34m(\u001b[0m\u001b[0;34m)\u001b[0m\u001b[0;34m\u001b[0m\u001b[0;34m\u001b[0m\u001b[0m\n\u001b[0m",
            "\u001b[0;32m<ipython-input-1-dee71b1e4574>\u001b[0m in \u001b[0;36m__init__\u001b[0;34m(self)\u001b[0m\n\u001b[1;32m     40\u001b[0m         \u001b[0;31m##  Calculate Volume of Water inside Tank\u001b[0m\u001b[0;34m\u001b[0m\u001b[0;34m\u001b[0m\u001b[0;34m\u001b[0m\u001b[0m\n\u001b[1;32m     41\u001b[0m         \u001b[0;31m##  Maximum Possible Volume of 3.0 m³\u001b[0m\u001b[0;34m\u001b[0m\u001b[0;34m\u001b[0m\u001b[0;34m\u001b[0m\u001b[0m\n\u001b[0;32m---> 42\u001b[0;31m         \u001b[0mself\u001b[0m\u001b[0;34m.\u001b[0m\u001b[0mcurrent_water_volume\u001b[0m \u001b[0;34m=\u001b[0m \u001b[0;34m(\u001b[0m\u001b[0;34m(\u001b[0m\u001b[0;34m(\u001b[0m\u001b[0mself\u001b[0m\u001b[0;34m.\u001b[0m\u001b[0mtank_diameter\u001b[0m \u001b[0;34m/\u001b[0m \u001b[0;36m2\u001b[0m\u001b[0;34m)\u001b[0m \u001b[0;34m**\u001b[0m \u001b[0;36m2\u001b[0m\u001b[0;34m)\u001b[0m \u001b[0;34m*\u001b[0m \u001b[0mnp\u001b[0m\u001b[0;34m.\u001b[0m\u001b[0mpi\u001b[0m\u001b[0;34m)\u001b[0m \u001b[0;34m*\u001b[0m \u001b[0mself\u001b[0m\u001b[0;34m.\u001b[0m\u001b[0mwater_height\u001b[0m\u001b[0;34m\u001b[0m\u001b[0;34m\u001b[0m\u001b[0m\n\u001b[0m\u001b[1;32m     43\u001b[0m \u001b[0;34m\u001b[0m\u001b[0m\n\u001b[1;32m     44\u001b[0m         \u001b[0;31m## Valve coefficient (Cv) is given\u001b[0m\u001b[0;34m\u001b[0m\u001b[0;34m\u001b[0m\u001b[0;34m\u001b[0m\u001b[0m\n",
            "\u001b[0;31mTypeError\u001b[0m: unsupported operand type(s) for *: 'float' and 'Box'"
          ]
        }
      ]
    },
    {
      "cell_type": "code",
      "source": [
        "# This allows us to see numpy arrays with more precision\n",
        "# (print with a higher number of digits of precision for floating point output)\n",
        "\n",
        "np.set_printoptions(precision=4) "
      ],
      "metadata": {
        "id": "_odFivI0m7YR"
      },
      "execution_count": null,
      "outputs": []
    },
    {
      "cell_type": "code",
      "source": [
        "# Just to confirm that the observation space (of valve_opening) is a continuum between [0, 1]\n",
        "\n",
        "env.observation_space.sample()"
      ],
      "metadata": {
        "colab": {
          "base_uri": "https://localhost:8080/"
        },
        "id": "oHjjn5VyinJk",
        "outputId": "5f487a7c-2915-47e9-b052-e5719d3ecbb9"
      },
      "execution_count": null,
      "outputs": [
        {
          "output_type": "execute_result",
          "data": {
            "text/plain": [
              "array([73.0842], dtype=float32)"
            ]
          },
          "metadata": {},
          "execution_count": 99
        }
      ]
    },
    {
      "cell_type": "code",
      "source": [
        "# Just to confirm that the action space (of valve_opening) is a continuum between [-0.01, 0.01]\n",
        "\n",
        "env.action_space.sample()"
      ],
      "metadata": {
        "colab": {
          "base_uri": "https://localhost:8080/"
        },
        "id": "7LQO41lkiz23",
        "outputId": "7e099a65-bcf6-4997-f669-088758518569"
      },
      "execution_count": null,
      "outputs": [
        {
          "output_type": "execute_result",
          "data": {
            "text/plain": [
              "array([0.0022])"
            ]
          },
          "metadata": {},
          "execution_count": 100
        }
      ]
    },
    {
      "cell_type": "code",
      "source": [
        ""
      ],
      "metadata": {
        "id": "ICMqQ7nwm-DC"
      },
      "execution_count": null,
      "outputs": []
    }
  ]
}