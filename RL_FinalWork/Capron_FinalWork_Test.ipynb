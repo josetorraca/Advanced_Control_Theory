{
  "nbformat": 4,
  "nbformat_minor": 0,
  "metadata": {
    "colab": {
      "name": "Capron_FinalWork_Test.ipynb",
      "provenance": []
    },
    "kernelspec": {
      "name": "python3",
      "display_name": "Python 3"
    },
    "language_info": {
      "name": "python"
    }
  },
  "cells": [
    {
      "cell_type": "markdown",
      "source": [
        "# **Environment: Tank Water Level Control**"
      ],
      "metadata": {
        "id": "BXpazClnrTlr"
      }
    },
    {
      "cell_type": "code",
      "source": [
        "# Building the custom environment for OpenAi Gym\n",
        "\n",
        "from gym import Env \n",
        "# Env is a placeholder class that allows us to build our environment\n",
        "\n",
        "from gym.spaces import Box\n",
        "# Superclass that is used to define observation and action spaces\n",
        "#`Box` is for continuing-space, `Discrete` for discrete-space and `Dict` for multiple input\n",
        "# https://github.com/openai/gym/blob/master/gym/spaces/box.py\n",
        "\"\"\"Implementation of a space that represents closed boxes in euclidean space.\"\"\"\n",
        "\"\"\"\n",
        "class Box(Space[np.ndarray]):\n",
        "    A (possibly unbounded) box in :math:`\\mathbb{R}^n`.\n",
        "    Specifically, a Box represents the Cartesian product of n closed intervals.\n",
        "    Each interval has the form of one of :math:`[a, b]`, :math:`(-\\infty, b]`,\n",
        "    :math:`[a, \\infty)`, or :math:`(-\\infty, \\infty)`.\n",
        "    There are two common use cases:\n",
        "    * Identical bound for each dimension::\n",
        "        >>> Box(low=-1.0, high=2.0, shape=(3, 4), dtype=np.float32)\n",
        "        Box(3, 4)\n",
        "    * Independent bound for each dimension::\n",
        "        >>> Box(low=np.array([-1.0, -2.0]), high=np.array([2.0, 4.0]), dtype=np.float32)\n",
        "        Box(2,)\n",
        "    \n",
        "\"\"\"\n",
        "import numpy as np\n",
        "import random\n",
        "\n",
        "# (This removes np.float32 warnings, but can be solved with np.float64 at \"box\" definition):\n",
        "# gym.logger.set_level(40) \n",
        "\n",
        "class Model(Env):\n",
        "# By passing Env to the class Model we defined, we inherit the methods and properties of OpenAI Gym\n",
        "\n",
        "    def __init__(self):\n",
        "\n",
        "        # Actions we can take, we only have the valve opening at each timestep (we consider a lower/upper bound of |1.0e-3|)\n",
        "        self.action_space = Box(low=np.array([-1.0e-3]), high=np.array([1.0e-3]), dtype=np.float64)\n",
        "        # The function \"Box\" can support a tensor\n",
        "\n",
        "        # # Valve opening observation array (maximum physically possible opening of 1.0)\n",
        "        # self.valve_opening  = Box(low=np.array([0.00]), high=np.array([1.00]), dtype=np.float64)\n",
        "\n",
        "        # # Water Height observation array (assuming Maximum Height of Tank of 1.0 m)\n",
        "        # self.water_height = Box(low=np.array([0.00]), high=np.array([1.00]), dtype=np.float64)\n",
        "\n",
        "        # Inflow observation array (assuming Maximum Possible Flow of 150 m³/h) / remember: Inflow is not a state!\n",
        "        # self.inflow = Box(low=np.array([0.00]), high=np.array([150.00]), dtype=np.float64)\n",
        "\n",
        "        # Observation space array (only Valve opening and Water Height; both with lower bound 0.0 and upper bound 1.0)\n",
        "        self.observation_space = Box(low=0.0, high=1.0, shape=(1, 2), dtype=np.float64)\n",
        "\n",
        "        # Set observation space (reminder: flow isn't measured/ isn't a state)\n",
        "        # self.observation_space = (self.inflow , self.valve_opening, self.water_height)\n",
        "\n",
        "        ## Area of 3 m²\n",
        "        ## Diameter of 1.95441 m\n",
        "        self.tank_diameter = 1.95441\n",
        "\n",
        "        # Set initial states (we can instantiate them a bit randomly - 10% var):\n",
        "        # self.current_inflow = 100 + random.uniform(-10.00, 10.00)\n",
        "        # self.current_valve_opening = 0.5 + random.uniform(-0.05, 0.05)\n",
        "        # self.current_water_height = 0.5 + random.uniform(-0.05, 0.05)\n",
        "\n",
        "        self.current_inflow = 100\n",
        "        self.current_valve_opening = 0.5\n",
        "        self.current_water_height = 0.5\n",
        "\n",
        "        ##  Calculate Volume of Water inside Tank\n",
        "        ##  Maximum Possible Volume of 3.0 m³\n",
        "        self.current_water_volume = (((self.tank_diameter / 2) ** 2) * np.pi) * self.current_water_height\n",
        "\n",
        "        ## Valve coefficient (Cv) is given\n",
        "        self.valve_coefficient = 282.84\n",
        "\n",
        "        ## Setpoint in terms of the Usual Operation Height of 0.5 m \n",
        "        self.setpoint =  0.5\n",
        "\n",
        "        # Tolerance acceptable for setpoint error (in reward definition):\n",
        "        self.tolerance = 1e-4 # test 1e-6\n",
        "       \n",
        "        self.state = (self.current_valve_opening, self.current_water_height)\n",
        "\n",
        "        # Set episode length\n",
        "        ## Timestep = 0.01h\n",
        "        ## Episode total time = 2h (200 timesteps)\n",
        "        ## Total number of episodes = 2000\n",
        "        self.time_per_episode = 200\n",
        "\n",
        "        # Initialize time counter\n",
        "        self.time_step = 0\n",
        "\n",
        "    ## Provides current water height from the most up to date water volume\n",
        "    def update_water_height(self):\n",
        "        return self.current_water_volume / (((self.tank_diameter / 2) ** 2) * np.pi)   \n",
        "   \n",
        "    ## Calculates the non-linear outflow rate of water from the tank\n",
        "    def outflow(self):\n",
        "        return self.valve_coefficient * self.current_valve_opening * np.sqrt(abs(self.update_water_height())) \n",
        "\n",
        "    ## Error of water height from current set point\n",
        "    def error(self):\n",
        "        error=(self.update_water_height() - self.setpoint)\n",
        "        return error\n",
        "        \n",
        "    def step(self, action):\n",
        "\n",
        "        # Flow rate of water + disturbances\n",
        "        self.current_inflow = self.current_inflow + self.disturbance(self.time_step)\n",
        "\n",
        "        ## Current water volume in the tank\n",
        "        self.current_water_volume = self.current_water_volume + self.current_inflow - self.outflow()\n",
        "\n",
        "        ## Update current water height\n",
        "        self.current_water_height = self.update_water_height()\n",
        "\n",
        "        # Apply action (valve opening)\n",
        "        # Continuous: [-0.01, 0.01] at each timestep\n",
        "        self.current_valve_opening =  self.current_valve_opening + action\n",
        "\n",
        "        # Add 1 Timestep = 0.01h\n",
        "        self.time_step += 1\n",
        "        \n",
        "        # Calculate reward\n",
        "        ## Reward: minus the square of height error -(m)^2\n",
        "        ## Our objective is to minimize this error (or negative reward)\n",
        "        # reward = -((self.error())**2)\n",
        "\n",
        "        if (self.error())**2 <= self.tolerance : \n",
        "            reward = 1 \n",
        "        else: \n",
        "            reward = -1 \n",
        "\n",
        "        ## Determine whether it is a terminal state\n",
        "        terminal = self.is_terminal(self.current_water_height)\n",
        "\n",
        "        # Set placeholder for info\n",
        "        info = {}\n",
        "\n",
        "        # Return step information\n",
        "        return self.retrieve_observation(), reward, terminal, info\n",
        "\n",
        "    ## The terminal state is reached if time step reaches more than 200 or if water level is at 2 extremes\n",
        "    def is_terminal(self, water_h):\n",
        "        if self.time_step >= self.time_per_episode-1 or self.current_water_height <= 0 or self.current_water_height >= 1:\n",
        "            return True\n",
        "        else:\n",
        "            return False\n",
        "\n",
        "    ## Disturbances on flow rate:\n",
        "    def disturbance(self, time):\n",
        "        if self.time_step == 10: #0.1 h\n",
        "            return 20\n",
        "        elif self.time_step == 100: #1.1 h\n",
        "            return -20\n",
        "        else:\n",
        "            return 0\n",
        "\n",
        "    ## Retrieve current state\n",
        "    def retrieve_observation(self):\n",
        "\n",
        "        self.state = (\n",
        "            self.current_valve_opening, self.current_water_height\n",
        "        )\n",
        "        return self.state\n",
        "\n",
        "    def render(self):\n",
        "        # Implement visualization for a game environment for example\n",
        "        pass\n",
        "    \n",
        "    ## Reset the current state of the water tank. This involves time_step, water volume, input flow rate of water and error\n",
        "    def reset(self):\n",
        "\n",
        "        ## Set point remains fixed:\n",
        "        self.setpoint = 0.5\n",
        "\n",
        "        ## Reset time counter and other variables (we can instantiate them as before, a bit randomly)\n",
        "        self.time_step = 0\n",
        "        # self.current_inflow = 100 + random.uniform(-10.00, 10.00)\n",
        "        # self.current_valve_opening = 0.5 + random.uniform(-0.05, 0.05)\n",
        "        # self.current_water_height = 0.5 + random.uniform(-0.05, 0.05)\n",
        "\n",
        "        self.current_inflow = 100\n",
        "        self.current_valve_opening = 0.5\n",
        "        self.current_water_height = 0.5\n",
        "\n",
        "        return self.retrieve_observation()"
      ],
      "metadata": {
        "id": "vmPSaefw5pyx"
      },
      "execution_count": null,
      "outputs": []
    },
    {
      "cell_type": "code",
      "source": [
        "env = Model()"
      ],
      "metadata": {
        "id": "iGymX9b9hQAw"
      },
      "execution_count": null,
      "outputs": []
    },
    {
      "cell_type": "code",
      "source": [
        "# Just to see if the bounds of observation space (H and Xv) are defined correctly\n",
        "\n",
        "a = env.observation_space.low\n",
        "print(a)\n",
        "\n",
        "b = env.observation_space.high\n",
        "print(b)"
      ],
      "metadata": {
        "colab": {
          "base_uri": "https://localhost:8080/"
        },
        "id": "jcrhfH7EqNKN",
        "outputId": "31da2a6d-1350-4054-8aea-1003a597bc8c"
      },
      "execution_count": null,
      "outputs": [
        {
          "output_type": "stream",
          "name": "stdout",
          "text": [
            "[[0. 0.]]\n",
            "[[1. 1.]]\n"
          ]
        }
      ]
    },
    {
      "cell_type": "code",
      "source": [
        "# getattr() – This function is used to access the attribute of object, like a class.\n",
        "\n",
        "print (getattr(env,'time_step')) \n",
        "print (getattr(env,'current_inflow')) \n",
        "print (getattr(env,'current_valve_opening')) \n",
        "print (getattr(env,'current_water_height')) \n",
        "print (getattr(env,'setpoint')) "
      ],
      "metadata": {
        "colab": {
          "base_uri": "https://localhost:8080/"
        },
        "id": "N-Wq_MxXcWSX",
        "outputId": "0ec358fd-5f0c-4b20-ffec-666fa9f39d69"
      },
      "execution_count": null,
      "outputs": [
        {
          "output_type": "stream",
          "name": "stdout",
          "text": [
            "0\n",
            "100\n",
            "0.5\n",
            "0.5\n",
            "0.5\n"
          ]
        }
      ]
    },
    {
      "cell_type": "code",
      "source": [
        "#Python calling method (error) in class (model/'env')\n",
        "\n",
        "env.error()"
      ],
      "metadata": {
        "colab": {
          "base_uri": "https://localhost:8080/"
        },
        "id": "B8rVSzOdejQX",
        "outputId": "e243ae9a-626a-456f-d99a-1b2ed2ad269e"
      },
      "execution_count": null,
      "outputs": [
        {
          "output_type": "execute_result",
          "data": {
            "text/plain": [
              "0.0"
            ]
          },
          "metadata": {},
          "execution_count": 72
        }
      ]
    },
    {
      "cell_type": "code",
      "source": [
        "env.update_water_height()"
      ],
      "metadata": {
        "colab": {
          "base_uri": "https://localhost:8080/"
        },
        "id": "M5UMjsEki75_",
        "outputId": "02e92270-0835-400f-9152-c9819089f241"
      },
      "execution_count": null,
      "outputs": [
        {
          "output_type": "execute_result",
          "data": {
            "text/plain": [
              "0.5"
            ]
          },
          "metadata": {},
          "execution_count": 73
        }
      ]
    },
    {
      "cell_type": "code",
      "source": [
        "env.outflow()"
      ],
      "metadata": {
        "colab": {
          "base_uri": "https://localhost:8080/"
        },
        "id": "ztIyuSfSphfe",
        "outputId": "343475de-50d9-428d-c8da-c02ce7f82d47"
      },
      "execution_count": null,
      "outputs": [
        {
          "output_type": "execute_result",
          "data": {
            "text/plain": [
              "99.99904099540154"
            ]
          },
          "metadata": {},
          "execution_count": 74
        }
      ]
    },
    {
      "cell_type": "code",
      "source": [
        "# Python calling method (step) in class (model/'env')\n",
        "# Just to see 1 step, with an action of +0.01 on Xv (valve_opening)\n",
        "\n",
        "env.step(0.0001)\n",
        "\n",
        "# Remember of the output we defined from retrieve.observation():\n",
        "# self.current_water_volume, self.current_inflow , self.current_valve_opening, self.current_water_height, self.setpoint, self.error()\n",
        "\n",
        "# And after we have also from the return of step(): \n",
        "# reward, terminal, info."
      ],
      "metadata": {
        "colab": {
          "base_uri": "https://localhost:8080/"
        },
        "id": "avycnFncf-jg",
        "outputId": "2b9a7ee8-5bcc-4cc6-8983-cba9ad4dba9f"
      },
      "execution_count": null,
      "outputs": [
        {
          "output_type": "execute_result",
          "data": {
            "text/plain": [
              "((0.5001, 0.5003196682150601), 1, False, {})"
            ]
          },
          "metadata": {},
          "execution_count": 75
        }
      ]
    },
    {
      "cell_type": "code",
      "source": [
        "env.outflow()"
      ],
      "metadata": {
        "colab": {
          "base_uri": "https://localhost:8080/"
        },
        "id": "e8d7avGapbp0",
        "outputId": "0b74f9f8-feb8-446e-f442-3cbd981cb562"
      },
      "execution_count": null,
      "outputs": [
        {
          "output_type": "execute_result",
          "data": {
            "text/plain": [
              "100.05100860311804"
            ]
          },
          "metadata": {},
          "execution_count": 76
        }
      ]
    },
    {
      "cell_type": "code",
      "source": [
        "# Python calling method (step) in class (model/'env')\n",
        "# Just to see 1 step, with an action of +0.01 on Xv (valve_opening)\n",
        "\n",
        "env.step(0.0001)\n",
        "\n",
        "# Remember of the output we defined from retrieve.observation():\n",
        "# self.current_water_volume, self.current_inflow , self.current_valve_opening, self.current_water_height, self.setpoint, self.error()\n",
        "\n",
        "# And after we have also from the return of step(): \n",
        "# reward, terminal, info."
      ],
      "metadata": {
        "colab": {
          "base_uri": "https://localhost:8080/"
        },
        "id": "STmvxfgjn7tG",
        "outputId": "370d4bff-bdd3-4771-e4f4-0efe715e9602"
      },
      "execution_count": null,
      "outputs": [
        {
          "output_type": "execute_result",
          "data": {
            "text/plain": [
              "((0.5002, 0.4833167996806295), -1, False, {})"
            ]
          },
          "metadata": {},
          "execution_count": 77
        }
      ]
    },
    {
      "cell_type": "code",
      "source": [
        "env.outflow()"
      ],
      "metadata": {
        "colab": {
          "base_uri": "https://localhost:8080/"
        },
        "id": "o07QqUj6oOkk",
        "outputId": "5d536618-5701-4466-fb06-f0471e8a5870"
      },
      "execution_count": null,
      "outputs": [
        {
          "output_type": "execute_result",
          "data": {
            "text/plain": [
              "98.35591014446949"
            ]
          },
          "metadata": {},
          "execution_count": 78
        }
      ]
    },
    {
      "cell_type": "code",
      "source": [
        "# Python calling method (step) in class (model/'env')\n",
        "# Just to see 1 step, with an action of +0.01 on Xv (valve_opening)\n",
        "\n",
        "env.step(0.0001)\n",
        "\n",
        "# Remember of the output we defined from retrieve.observation():\n",
        "# self.current_water_volume, self.current_inflow , self.current_valve_opening, self.current_water_height, self.setpoint, self.error()\n",
        "\n",
        "# And after we have also from the return of step(): \n",
        "# reward, terminal, info."
      ],
      "metadata": {
        "colab": {
          "base_uri": "https://localhost:8080/"
        },
        "id": "Khq6s4zo1Tcl",
        "outputId": "0e5dfd05-df48-4b2e-82eb-66160673e2c2"
      },
      "execution_count": null,
      "outputs": [
        {
          "output_type": "execute_result",
          "data": {
            "text/plain": [
              "((0.5003, 1.0313467782254153), -1, True, {})"
            ]
          },
          "metadata": {},
          "execution_count": 79
        }
      ]
    },
    {
      "cell_type": "code",
      "source": [
        "env.outflow()"
      ],
      "metadata": {
        "colab": {
          "base_uri": "https://localhost:8080/"
        },
        "id": "r6_xOeRY1Zdn",
        "outputId": "68a33d54-e58a-4dfc-d7b5-b1ddfaf49320"
      },
      "execution_count": null,
      "outputs": [
        {
          "output_type": "execute_result",
          "data": {
            "text/plain": [
              "143.70559910235374"
            ]
          },
          "metadata": {},
          "execution_count": 80
        }
      ]
    },
    {
      "cell_type": "code",
      "source": [
        "# This allows us to see numpy arrays with more precision\n",
        "# (print with a higher number of digits of precision for floating point output)\n",
        "\n",
        "np.set_printoptions(precision=4) "
      ],
      "metadata": {
        "id": "_odFivI0m7YR"
      },
      "execution_count": null,
      "outputs": []
    },
    {
      "cell_type": "code",
      "source": [
        "# Just to confirm that the observation space (of valve_opening) is a continuum between [0, 1]\n",
        "\n",
        "env.observation_space.sample()"
      ],
      "metadata": {
        "colab": {
          "base_uri": "https://localhost:8080/"
        },
        "id": "oHjjn5VyinJk",
        "outputId": "2e33b3ca-f96b-4529-ae2c-3115202a5323"
      },
      "execution_count": null,
      "outputs": [
        {
          "output_type": "execute_result",
          "data": {
            "text/plain": [
              "array([[0.8633, 0.5738]])"
            ]
          },
          "metadata": {},
          "execution_count": 82
        }
      ]
    },
    {
      "cell_type": "code",
      "source": [
        "# Just to confirm that the action space (of valve_opening) is a continuum between [-0.01, 0.01]\n",
        "\n",
        "env.action_space.sample()"
      ],
      "metadata": {
        "colab": {
          "base_uri": "https://localhost:8080/"
        },
        "id": "7LQO41lkiz23",
        "outputId": "42ac2532-4e58-409f-e395-4a2da1a64b6d"
      },
      "execution_count": null,
      "outputs": [
        {
          "output_type": "execute_result",
          "data": {
            "text/plain": [
              "array([-0.0008])"
            ]
          },
          "metadata": {},
          "execution_count": 83
        }
      ]
    },
    {
      "cell_type": "code",
      "source": [
        "# Just to test the environment with random control actions\n",
        "# The score is similar to return (sum of rewards)\n",
        "\n",
        "episodes = 10\n",
        "for episode in range(1, episodes+1):\n",
        "    state = env.reset()\n",
        "    done = False\n",
        "    score = 0 \n",
        "    \n",
        "    while not done:\n",
        "        #env.render()\n",
        "        action = env.action_space.sample() #take a random action from the action space\n",
        "        n_state, reward, done, info = env.step(action)\n",
        "        score+=reward\n",
        "    print('Episode:{} Score:{}'.format(episode, score))"
      ],
      "metadata": {
        "id": "ICMqQ7nwm-DC",
        "colab": {
          "base_uri": "https://localhost:8080/"
        },
        "outputId": "801dedc5-d66d-4169-afb7-0b2a38a655a1"
      },
      "execution_count": null,
      "outputs": [
        {
          "output_type": "stream",
          "name": "stdout",
          "text": [
            "Episode:1 Score:-1\n",
            "Episode:2 Score:-1\n",
            "Episode:3 Score:-1\n",
            "Episode:4 Score:-1\n",
            "Episode:5 Score:-1\n",
            "Episode:6 Score:-1\n",
            "Episode:7 Score:-1\n",
            "Episode:8 Score:-1\n",
            "Episode:9 Score:-1\n",
            "Episode:10 Score:-1\n"
          ]
        }
      ]
    },
    {
      "cell_type": "code",
      "source": [
        "n_state"
      ],
      "metadata": {
        "colab": {
          "base_uri": "https://localhost:8080/"
        },
        "id": "derIMVclzEKF",
        "outputId": "201cb9a8-05b8-401a-a514-782ac2d63406"
      },
      "execution_count": null,
      "outputs": [
        {
          "output_type": "execute_result",
          "data": {
            "text/plain": [
              "(array([0.4993]), -28355.151833018957)"
            ]
          },
          "metadata": {},
          "execution_count": 85
        }
      ]
    }
  ]
}